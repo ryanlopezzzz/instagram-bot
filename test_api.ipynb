{
 "cells": [
  {
   "cell_type": "code",
   "execution_count": 1,
   "metadata": {},
   "outputs": [],
   "source": [
    "import pdb\n",
    "\n",
    "from instagram_private_api import Client, ClientCompatPatch\n",
    "import basic_api_requests\n",
    "import importlib\n",
    "importlib.reload(basic_api_requests)\n",
    "from basic_api_requests import basic_user_info\n",
    "from basic_api_requests import user_info_requests"
   ]
  },
  {
   "cell_type": "code",
   "execution_count": 2,
   "metadata": {},
   "outputs": [],
   "source": [
    "username = 'cuteanimalzzzz123'\n",
    "password = 'instabotOP'\n",
    "api = Client(username, password)"
   ]
  },
  {
   "cell_type": "code",
   "execution_count": 3,
   "metadata": {},
   "outputs": [],
   "source": [
    "test_usernames = ['ryanlopezzzz','ruining99','i_am_jorge_murillo','cuteanimalzzzz123']"
   ]
  },
  {
   "cell_type": "code",
   "execution_count": 4,
   "metadata": {},
   "outputs": [],
   "source": [
    "def test_basic_user_info(username):\n",
    "    buir = basic_user_info(api, username)\n",
    "    user_id = buir.user_id\n",
    "    follower_count = buir.follower_count\n",
    "    following_count = buir.following_count\n",
    "    media_count = buir.media_count\n",
    "    private_status = buir.private_status\n",
    "    \n",
    "    print(\"User Id: \" + str(user_id))\n",
    "    print(\"Follow count: \" + str(follower_count))\n",
    "    print(\"Following count: \" + str(following_count))\n",
    "    print(\"Media count: \" + str(media_count))\n",
    "    print(\"Private status: \" + str(private_status))"
   ]
  },
  {
   "cell_type": "code",
   "execution_count": 5,
   "metadata": {},
   "outputs": [
    {
     "name": "stdout",
     "output_type": "stream",
     "text": [
      "Username: ryanlopezzzz\n",
      "User Id: 255272463\n",
      "Follow count: 635\n",
      "Following count: 390\n",
      "Media count: 14\n",
      "Private status: False\n",
      "--------------------------------------------------\n",
      "Username: ruining99\n",
      "User Id: 2142436680\n",
      "Follow count: 386\n",
      "Following count: 367\n",
      "Media count: 15\n",
      "Private status: False\n",
      "--------------------------------------------------\n",
      "Username: i_am_jorge_murillo\n",
      "User Id: 9984230653\n",
      "Follow count: 172\n",
      "Following count: 190\n",
      "Media count: 2\n",
      "Private status: True\n",
      "--------------------------------------------------\n",
      "Username: cuteanimalzzzz123\n",
      "User Id: 50004795460\n",
      "Follow count: 0\n",
      "Following count: 0\n",
      "Media count: 0\n",
      "Private status: False\n",
      "--------------------------------------------------\n"
     ]
    }
   ],
   "source": [
    "for username in test_usernames:\n",
    "    print(\"Username: \" + username)\n",
    "    test_basic_user_info(username)\n",
    "    print(\"-\"*50)"
   ]
  },
  {
   "cell_type": "code",
   "execution_count": 6,
   "metadata": {},
   "outputs": [],
   "source": [
    "def test_user_info_requests(username):\n",
    "    rank_token = api.generate_uuid()\n",
    "    uir = user_info_requests(api,username,rank_token)\n",
    "    \n",
    "    user_followers_info = uir.get_user_followers_info()\n",
    "    assert(len(user_followers_info)==uir.follower_count)\n",
    "    \n",
    "    followers_usernames = uir.get_followers_usernames()\n",
    "    assert(len(followers_usernames)==uir.follower_count)\n",
    "    \n",
    "    user_following_info = uir.get_user_following_info()\n",
    "    assert(len(user_following_info)==uir.following_count)\n",
    "    \n",
    "    following_usernames = uir.get_following_usernames()\n",
    "    assert(len(following_usernames)==uir.following_count)\n",
    "    \n",
    "    print('Successfully ran all tests.')"
   ]
  },
  {
   "cell_type": "code",
   "execution_count": 7,
   "metadata": {},
   "outputs": [
    {
     "name": "stdout",
     "output_type": "stream",
     "text": [
      "Username: ryanlopezzzz\n",
      "Successfully ran all tests.\n",
      "--------------------------------------------------\n",
      "Username: ruining99\n",
      "Successfully ran all tests.\n",
      "--------------------------------------------------\n",
      "Username: i_am_jorge_murillo\n",
      "Exception: ValueError, Message: Can't get following info from private account.\n",
      "--------------------------------------------------\n",
      "Username: cuteanimalzzzz123\n",
      "Exception: ValueError, Message: Strange behavior when requesting your own info, needs further testing.\n",
      "--------------------------------------------------\n"
     ]
    }
   ],
   "source": [
    "for username in test_usernames:\n",
    "    print(\"Username: \" + username)\n",
    "    try:\n",
    "        test_user_info_requests(username)\n",
    "    except Exception as e:\n",
    "        print('Exception: %s, Message: %s'%(type(e).__name__,e))\n",
    "    print(\"-\"*50)"
   ]
  },
  {
   "cell_type": "code",
   "execution_count": 8,
   "metadata": {},
   "outputs": [],
   "source": [
    "def test_user_feed_media_ids(username):\n",
    "    rank_token = api.generate_uuid()\n",
    "    uir = user_info_requests(api,username,rank_token)\n",
    "    \n",
    "    user_feed_media_ids = uir.get_user_feed_media_ids()\n",
    "    assert(uir.media_count == len(user_feed_media_ids))\n",
    "    \n",
    "    print('Successfully ran all tests.')"
   ]
  },
  {
   "cell_type": "code",
   "execution_count": 9,
   "metadata": {},
   "outputs": [
    {
     "name": "stdout",
     "output_type": "stream",
     "text": [
      "Username: ryanlopezzzz\n",
      "Successfully ran all tests.\n",
      "--------------------------------------------------\n",
      "Username: ruining99\n",
      "Successfully ran all tests.\n",
      "--------------------------------------------------\n",
      "Username: i_am_jorge_murillo\n",
      "Exception: ValueError, Message: Can't get following info from private account.\n",
      "--------------------------------------------------\n",
      "Username: cuteanimalzzzz123\n",
      "Exception: ValueError, Message: Strange behavior when requesting your own info, needs further testing.\n",
      "--------------------------------------------------\n",
      "Username: cute.animals\n",
      "Successfully ran all tests.\n",
      "--------------------------------------------------\n"
     ]
    }
   ],
   "source": [
    "for username in test_usernames + ['cute.animals']: #cute.animals has more than 100 posts\n",
    "    print(\"Username: \" + username)\n",
    "    try:\n",
    "        test_user_feed_media_ids(username)\n",
    "    except Exception as e:\n",
    "        print('Exception: %s, Message: %s'%(type(e).__name__,e))\n",
    "    print(\"-\"*50)"
   ]
  }
 ],
 "metadata": {
  "kernelspec": {
   "display_name": "Python 3",
   "language": "python",
   "name": "python3"
  },
  "language_info": {
   "codemirror_mode": {
    "name": "ipython",
    "version": 3
   },
   "file_extension": ".py",
   "mimetype": "text/x-python",
   "name": "python",
   "nbconvert_exporter": "python",
   "pygments_lexer": "ipython3",
   "version": "3.7.4"
  }
 },
 "nbformat": 4,
 "nbformat_minor": 2
}
