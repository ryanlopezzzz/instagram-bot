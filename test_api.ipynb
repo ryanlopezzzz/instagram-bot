{
 "cells": [
  {
   "cell_type": "code",
   "execution_count": 1,
   "metadata": {},
   "outputs": [],
   "source": [
    "from instagram_private_api import Client, ClientCompatPatch\n",
    "import api_requests\n",
    "import importlib\n",
    "importlib.reload(api_requests)\n",
    "from api_requests import BasicUserInfo\n",
    "from api_requests import PublicUserInfoRequests\n",
    "from api_requests import MediaInfoRequests"
   ]
  },
  {
   "cell_type": "code",
   "execution_count": 2,
   "metadata": {},
   "outputs": [],
   "source": [
    "\"\"\"\n",
    "Only run once, multiple log ins will cause account ban\n",
    "TODO: Figure out how to cache auth cookie details. Hints: Can call api.cookie_jar, look into client.py\n",
    "\"\"\"\n",
    "username = 'cuteanimalzzzz123'\n",
    "password = 'instabotOP'\n",
    "api = Client(username, password)"
   ]
  },
  {
   "cell_type": "code",
   "execution_count": 3,
   "metadata": {},
   "outputs": [],
   "source": [
    "test_usernames = ['ryanlopezzzz', #small size public account example\n",
    "                  'ruining99', #small size public account example\n",
    "                  'i_am_jorge_murillo', #private account example\n",
    "                  'cuteanimalzzzz123' #API login account\n",
    "                 ]\n",
    "large_test_usernames = ['cute.animals'] #large size public account"
   ]
  },
  {
   "cell_type": "markdown",
   "metadata": {},
   "source": [
    "# Test BasicUserInfo() Class"
   ]
  },
  {
   "cell_type": "code",
   "execution_count": 4,
   "metadata": {},
   "outputs": [],
   "source": [
    "def test_basic_user_info(username):\n",
    "    \"\"\"\n",
    "    Can check against true values by going onto Instagram app.\n",
    "    \"\"\"\n",
    "    basic_user_info = BasicUserInfo(api, username)\n",
    "    print(\"User Id: \" + str(basic_user_info.user_id))\n",
    "    print(\"Follow count: \" + str(basic_user_info.follower_count))\n",
    "    print(\"Following count: \" + str(basic_user_info.following_count))\n",
    "    print(\"Media count: \" + str(basic_user_info.media_count))\n",
    "    print(\"Private status: \" + str(basic_user_info.private_status))"
   ]
  },
  {
   "cell_type": "code",
   "execution_count": 5,
   "metadata": {},
   "outputs": [
    {
     "name": "stdout",
     "output_type": "stream",
     "text": [
      "Username: ryanlopezzzz\n",
      "User Id: 255272463\n",
      "Follow count: 636\n",
      "Following count: 391\n",
      "Media count: 14\n",
      "Private status: False\n",
      "----------------------------------------------------------------------------------------------------\n",
      "Username: ruining99\n",
      "User Id: 2142436680\n",
      "Follow count: 387\n",
      "Following count: 368\n",
      "Media count: 15\n",
      "Private status: False\n",
      "----------------------------------------------------------------------------------------------------\n",
      "Username: i_am_jorge_murillo\n",
      "User Id: 9984230653\n",
      "Follow count: 172\n",
      "Following count: 190\n",
      "Media count: 2\n",
      "Private status: True\n",
      "----------------------------------------------------------------------------------------------------\n",
      "Username: cuteanimalzzzz123\n",
      "User Id: 50004795460\n",
      "Follow count: 0\n",
      "Following count: 0\n",
      "Media count: 0\n",
      "Private status: False\n",
      "----------------------------------------------------------------------------------------------------\n",
      "Username: cute.animals\n",
      "User Id: 435102802\n",
      "Follow count: 88333\n",
      "Following count: 1\n",
      "Media count: 344\n",
      "Private status: False\n",
      "----------------------------------------------------------------------------------------------------\n"
     ]
    }
   ],
   "source": [
    "for username in test_usernames + large_test_usernames:\n",
    "    print(\"Username: \" + username)\n",
    "    test_basic_user_info(username)\n",
    "    print(\"-\"*100)"
   ]
  },
  {
   "cell_type": "markdown",
   "metadata": {},
   "source": [
    "# Test PublicUserInfoRequests() Class"
   ]
  },
  {
   "cell_type": "code",
   "execution_count": 6,
   "metadata": {},
   "outputs": [],
   "source": [
    "def test_public_user_info_requests(username):\n",
    "    rank_token = api.generate_uuid()\n",
    "    puir = PublicUserInfoRequests(api,username,rank_token)\n",
    "    \n",
    "    followers_usernames = puir.get_followers_usernames()\n",
    "    assert(puir.follower_count == len(followers_usernames))\n",
    "    print('Loaded %d follower usernames.'%len(followers_usernames))\n",
    "    print('Peeking at first 3 followers: '+str(followers_usernames[:3]))\n",
    "    print()    \n",
    "    following_usernames = puir.get_following_usernames()\n",
    "    assert(puir.following_count == len(following_usernames))\n",
    "    print('Loaded %d following usernames.'%len(following_usernames))\n",
    "    print('Peeking at first 3 following: '+str(following_usernames[:3]))\n",
    "    print()\n",
    "    user_feed_media_ids = puir.get_user_feed_media_ids()\n",
    "    assert(puir.media_count == len(user_feed_media_ids))\n",
    "    print('Loaded %d media (posts) ids.'%len(user_feed_media_ids))\n",
    "    print('Peeking at first 2 ids: ' + str(user_feed_media_ids[:2]))"
   ]
  },
  {
   "cell_type": "code",
   "execution_count": 7,
   "metadata": {},
   "outputs": [
    {
     "name": "stdout",
     "output_type": "stream",
     "text": [
      "Username: ryanlopezzzz\n",
      "\n",
      "Loaded 636 follower usernames.\n",
      "Peeking at first 3 followers: ['c.hirish', 'matthewkim812', 'r.yamas']\n",
      "\n",
      "Loaded 391 following usernames.\n",
      "Peeking at first 3 following: ['c.hirish', 'happy_lucky_now.jp', 'neha_upponi']\n",
      "\n",
      "Loaded 14 media (posts) ids.\n",
      "Peeking at first 2 ids: ['2112726015003571292_255272463', '2018080158682059371_255272463']\n",
      "----------------------------------------------------------------------------------------------------\n",
      "Username: ruining99\n",
      "\n",
      "Loaded 387 follower usernames.\n",
      "Peeking at first 3 followers: ['cassandra.chow', 'c.hirish', 'andrewarmen']\n",
      "\n",
      "Loaded 368 following usernames.\n",
      "Peeking at first 3 following: ['cassandra.chow', 'c.hirish', 'johannalimmer']\n",
      "\n",
      "Loaded 15 media (posts) ids.\n",
      "Peeking at first 2 ids: ['2601326525749798387_2142436680', '2580166803319609035_2142436680']\n",
      "----------------------------------------------------------------------------------------------------\n",
      "Username: i_am_jorge_murillo\n",
      "\n",
      "Exception: ValueError, Message: Can't get following info from private account.\n",
      "----------------------------------------------------------------------------------------------------\n",
      "Username: cuteanimalzzzz123\n",
      "\n",
      "Exception: ValueError, Message: Strange behavior when requesting your own info, needs further testing.\n",
      "----------------------------------------------------------------------------------------------------\n"
     ]
    }
   ],
   "source": [
    "for username in test_usernames:\n",
    "    print(\"Username: \" + username + '\\n')\n",
    "    try:\n",
    "        test_public_user_info_requests(username)\n",
    "    except Exception as e:\n",
    "        print('Exception: %s, Message: %s'%(type(e).__name__,e))\n",
    "    print(\"-\"*100)"
   ]
  },
  {
   "cell_type": "markdown",
   "metadata": {},
   "source": [
    "# Test MediaInfoRequests() Class\n",
    "Seems there can be an error where it loads less comments than get_comment_count() says there are."
   ]
  },
  {
   "cell_type": "code",
   "execution_count": 8,
   "metadata": {},
   "outputs": [],
   "source": [
    "def test_media_info_requests(username):\n",
    "    rank_token = api.generate_uuid()\n",
    "    \n",
    "    #Get user's most recent media id\n",
    "    puir = PublicUserInfoRequests(api,username,rank_token)\n",
    "    user_feed_media_ids = puir.get_user_feed_media_ids()\n",
    "    most_recent_media_id = user_feed_media_ids[0]\n",
    "    \n",
    "    mir = MediaInfoRequests(api,most_recent_media_id,rank_token)\n",
    "    print('Comment count: %d'%mir.get_comment_count())\n",
    "    print()                       \n",
    "    comments_text = mir.get_n_comments_text()\n",
    "    print('Loaded %d comments text.'%len(comments_text))\n",
    "    print('Peeking at first 2 comments: '+str(comments_text[:2]))\n",
    "    print()\n",
    "    comment_counter = mir.get_n_comment_count_per_username()\n",
    "    assert(sum(comment_counter.values())==len(comments_text)) \n",
    "    print('Loaded %d (username, comment count) data.'%len(comment_counter))\n",
    "    comment_counter_list = list(comment_counter.items())\n",
    "    print('Peeking at first 2 elements: '+str(comment_counter_list[:2]))"
   ]
  },
  {
   "cell_type": "code",
   "execution_count": null,
   "metadata": {},
   "outputs": [
    {
     "name": "stdout",
     "output_type": "stream",
     "text": [
      "Testing on ryanlopezzzz's first post: \n",
      "\n",
      "Comment count: 7\n",
      "\n",
      "Loaded 7 comments text.\n",
      "Peeking at first 2 comments: ['this is so aesthetic i see u', 'Hahahaha i love the second photo so much']\n",
      "\n",
      "Loaded 6 (username, comment count) data.\n",
      "Peeking at first 2 elements: [('emmawilt', 1), ('nicoleqidess', 1)]\n",
      "----------------------------------------------------------------------------------------------------\n",
      "Testing on ruining99's first post: \n",
      "\n"
     ]
    }
   ],
   "source": [
    "for username in test_usernames + large_test_usernames:\n",
    "    print(\"Testing on %s's first post: \\n\"%username)\n",
    "    try:\n",
    "        test_media_info_requests(username)\n",
    "    except Exception as e:\n",
    "        print('Exception: %s, Message: %s'%(type(e).__name__,e))\n",
    "    print(\"-\"*100)"
   ]
  }
 ],
 "metadata": {
  "kernelspec": {
   "display_name": "Python 3",
   "language": "python",
   "name": "python3"
  },
  "language_info": {
   "codemirror_mode": {
    "name": "ipython",
    "version": 3
   },
   "file_extension": ".py",
   "mimetype": "text/x-python",
   "name": "python",
   "nbconvert_exporter": "python",
   "pygments_lexer": "ipython3",
   "version": "3.7.4"
  }
 },
 "nbformat": 4,
 "nbformat_minor": 2
}
