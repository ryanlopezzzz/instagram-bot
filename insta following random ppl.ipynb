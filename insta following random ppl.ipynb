#`
{
 "cells": [
  {
   "cell_type": "code",
   "execution_count": 145,
   "id": "9981d6f2",
   "metadata": {},
   "outputs": [],
   "source": [
    "from selenium import webdriver\n",
    "from selenium.webdriver.common.keys import Keys\n",
    "import time\n",
    "import random\n",
    "driver = webdriver.Chrome('/Applications/anaconda3/chromedriver')"
   ]
  },
  {
   "cell_type": "code",
   "execution_count": 146,
   "id": "ec759f2d",
   "metadata": {},
   "outputs": [],
   "source": [
    "url = 'https://www.instagram.com'\n",
    "time.sleep(1)\n",
    "driver.get(url)\n",
    "time.sleep(2)"
   ]
  },
  {
   "cell_type": "code",
   "execution_count": 147,
   "id": "1cc71bc0",
   "metadata": {},
   "outputs": [],
   "source": [
    "#id\n",
    "e = driver.find_elements_by_class_name('_2hvTZ')[0]\n",
    "e.send_keys('8056896480')\n",
    "#password\n",
    "e = driver.find_elements_by_class_name('_2hvTZ')[1]\n",
    "e.send_keys('datasci1234')"
   ]
  },
  {
   "cell_type": "code",
   "execution_count": 148,
   "id": "feb30310",
   "metadata": {},
   "outputs": [],
   "source": [
    "e.send_keys(Keys.ENTER)\n",
    "time.sleep(6)"
   ]
  },
  {
   "cell_type": "code",
   "execution_count": 149,
   "id": "12e71332",
   "metadata": {},
   "outputs": [],
   "source": [
    "e = driver.find_elements_by_class_name('y3zKF')[0]\n",
    "e.click()\n",
    "time.sleep(6)"
   ]
  },
  {
   "cell_type": "code",
   "execution_count": 150,
   "id": "bc29b8bc",
   "metadata": {},
   "outputs": [
    {
     "ename": "IndexError",
     "evalue": "list index out of range",
     "output_type": "error",
     "traceback": [
      "\u001b[0;31m---------------------------------------------------------------------------\u001b[0m",
      "\u001b[0;31mIndexError\u001b[0m                                Traceback (most recent call last)",
      "\u001b[0;32m<ipython-input-150-5cd98b6e5571>\u001b[0m in \u001b[0;36m<module>\u001b[0;34m\u001b[0m\n\u001b[0;32m----> 1\u001b[0;31m \u001b[0me\u001b[0m \u001b[0;34m=\u001b[0m \u001b[0mdriver\u001b[0m\u001b[0;34m.\u001b[0m\u001b[0mfind_elements_by_class_name\u001b[0m\u001b[0;34m(\u001b[0m\u001b[0;34m'HoLwm'\u001b[0m\u001b[0;34m)\u001b[0m\u001b[0;34m[\u001b[0m\u001b[0;36m0\u001b[0m\u001b[0;34m]\u001b[0m\u001b[0;34m.\u001b[0m\u001b[0mclick\u001b[0m\u001b[0;34m(\u001b[0m\u001b[0;34m)\u001b[0m\u001b[0;34m\u001b[0m\u001b[0;34m\u001b[0m\u001b[0m\n\u001b[0m",
      "\u001b[0;31mIndexError\u001b[0m: list index out of range"
     ]
    }
   ],
   "source": [
    "e = driver.find_elements_by_class_name('HoLwm')[0].click()"
   ]
  },
  {
   "cell_type": "code",
   "execution_count": null,
   "id": "2748fa8c",
   "metadata": {},
   "outputs": [],
   "source": [
    "#apple\n",
    "time.sleep(1)\n",
    "url = 'https://www.instagram.com/explore/tags/apple/'\n",
    "time.sleep(1)\n",
    "driver.get(url)\n",
    "time.sleep(1+random.random())"
   ]
  },
  {
   "cell_type": "code",
   "execution_count": null,
   "id": "4c1a554e",
   "metadata": {},
   "outputs": [],
   "source": [
    "#clicking the first post\n",
    "e = driver.find_elements_by_class_name('eLAPa')[0].click()\n",
    "time.sleep(3+random.random())"
   ]
  },
  {
   "cell_type": "code",
   "execution_count": null,
   "id": "d3687ae2",
   "metadata": {},
   "outputs": [],
   "source": [
    "#following random ppl\n",
    "while True:\n",
    "    e = driver.find_elements_by_class_name('qyrsm').click()"
   ]
  },
  {
   "cell_type": "code",
   "execution_count": null,
   "id": "930c797a",
   "metadata": {},
   "outputs": [],
   "source": []
  },
  {
   "cell_type": "code",
   "execution_count": null,
   "id": "83a0ca18",
   "metadata": {},
   "outputs": [],
   "source": []
  },
  {
   "cell_type": "code",
   "execution_count": null,
   "id": "edfab7c7",
   "metadata": {},
   "outputs": [],
   "source": []
  },
  {
   "cell_type": "code",
   "execution_count": null,
   "id": "4ab17f4a",
   "metadata": {},
   "outputs": [],
   "source": []
  }
 ],
 "metadata": {
  "kernelspec": {
   "display_name": "Python 3",
   "language": "python",
   "name": "python3"
  },
  "language_info": {
   "codemirror_mode": {
    "name": "ipython",
    "version": 3
   },
   "file_extension": ".py",
   "mimetype": "text/x-python",
   "name": "python",
   "nbconvert_exporter": "python",
   "pygments_lexer": "ipython3",
   "version": "3.8.8"
  }
 },
 "nbformat": 4,
 "nbformat_minor": 5
}
