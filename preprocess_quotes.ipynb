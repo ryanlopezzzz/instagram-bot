{
 "cells": [
  {
   "cell_type": "code",
   "execution_count": 59,
   "metadata": {},
   "outputs": [],
   "source": [
    "import tensorflow as tf\n",
    "import numpy as np\n",
    "import os\n",
    "import time\n",
    "import pandas as pd"
   ]
  },
  {
   "cell_type": "markdown",
   "metadata": {},
   "source": [
    "We take in the quotes csv file, and extract only the first column. We will be writing this in a text file so we can apply an rnn file premade for text files."
   ]
  },
  {
   "cell_type": "code",
   "execution_count": 60,
   "metadata": {},
   "outputs": [],
   "source": [
    "data = pd.read_csv('quotes.csv')\n",
    "quotes = data.iloc[:,0]"
   ]
  },
  {
   "cell_type": "code",
   "execution_count": null,
   "metadata": {},
   "outputs": [],
   "source": []
  },
  {
   "cell_type": "code",
   "execution_count": 61,
   "metadata": {},
   "outputs": [],
   "source": [
    "#I copy this vocabulary from the shakespeare text, and expanded it to include parenthesis, and numbers. \n",
    "#This is going to be useful to filter the quotes to be primarily english only\n",
    "\n",
    "vocab = ['\\n','(',')', ' ', '!', '$','&', \"'\", ',', '-', '.','1','0','2' ,'3','4','5','6','7','8','9', ':', ';',\n",
    " '?', 'A', 'B', 'C', 'D', 'E', 'F', 'G', 'H', 'I', 'J', 'K',\n",
    " 'L', 'M','N','O', 'P', 'Q', 'R', 'S', 'T', 'U', 'V', 'W', 'X','Y', 'Z',\n",
    " 'a','b','c','d','e','f', 'g', 'h', 'i', 'j', 'k', 'l', 'm', 'n', 'o', 'p',\n",
    " 'q', 'r', 's', 't', 'u','v', 'w', 'x', 'y', 'z',\"'\"]\n"
   ]
  },
  {
   "cell_type": "code",
   "execution_count": 62,
   "metadata": {},
   "outputs": [],
   "source": [
    "english_quotes = []"
   ]
  },
  {
   "cell_type": "code",
   "execution_count": 63,
   "metadata": {},
   "outputs": [
    {
     "name": "stdout",
     "output_type": "stream",
     "text": [
      "0\n"
     ]
    }
   ],
   "source": [
    "text_file = open(\"quote-text.txt\", \"wt\")\n",
    "for i in range(int(len(quotes)/66)):\n",
    "    if set(str(quotes[i])).issubset(vocab):\n",
    "        text_file.write( \"\\n\\n\" + str(quotes[i]))\n",
    "        english_quotes.append(i)        \n",
    "        if i%10000 ==0:\n",
    "            print(i)\n",
    "text_file.close()        "
   ]
  },
  {
   "cell_type": "code",
   "execution_count": 64,
   "metadata": {},
   "outputs": [
    {
     "data": {
      "text/plain": [
       "'Kabul is a walled city, which sounds romantic except the walls are pre-cast reinforced concrete blast barriers, 10 feet tall and 15 feet long and moved into place with cranes. The walls are topped with sandbags, and the sandbags are topped with guard posts from which gun barrels protrude.'"
      ]
     },
     "execution_count": 64,
     "metadata": {},
     "output_type": "execute_result"
    }
   ],
   "source": [
    "quotes[490146]"
   ]
  },
  {
   "cell_type": "code",
   "execution_count": 65,
   "metadata": {},
   "outputs": [
    {
     "data": {
      "text/plain": [
       "6254"
      ]
     },
     "execution_count": 65,
     "metadata": {},
     "output_type": "execute_result"
    }
   ],
   "source": [
    "len(quotes[english_quotes])"
   ]
  },
  {
   "cell_type": "code",
   "execution_count": null,
   "metadata": {},
   "outputs": [],
   "source": []
  }
 ],
 "metadata": {
  "kernelspec": {
   "display_name": "Python 3",
   "language": "python",
   "name": "python3"
  },
  "language_info": {
   "codemirror_mode": {
    "name": "ipython",
    "version": 3
   },
   "file_extension": ".py",
   "mimetype": "text/x-python",
   "name": "python",
   "nbconvert_exporter": "python",
   "pygments_lexer": "ipython3",
   "version": "3.7.6"
  }
 },
 "nbformat": 4,
 "nbformat_minor": 4
}
