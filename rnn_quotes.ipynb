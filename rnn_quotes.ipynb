{
  "cells": [
    {
      "cell_type": "markdown",
      "metadata": {
        "id": "view-in-github",
        "colab_type": "text"
      },
      "source": [
        "<a href=\"https://colab.research.google.com/github/ryanlopezzzz/instagram-bot/blob/jorge_m/rnn_quotes.ipynb\" target=\"_parent\"><img src=\"https://colab.research.google.com/assets/colab-badge.svg\" alt=\"Open In Colab\"/></a>"
      ]
    },
    {
      "cell_type": "code",
      "execution_count": 3,
      "metadata": {
        "id": "MUgSMijpDsRj"
      },
      "outputs": [],
      "source": [
        "import tensorflow as tf\n",
        "import numpy as np\n",
        "import os\n",
        "import time\n",
        "import pandas as pd"
      ]
    },
    {
      "cell_type": "code",
      "execution_count": 2,
      "metadata": {
        "id": "ZI98DxBLn4P9",
        "colab": {
          "base_uri": "https://localhost:8080/"
        },
        "outputId": "2adb7163-073e-4cd3-cc81-6e7de7ae93f5"
      },
      "outputs": [
        {
          "output_type": "stream",
          "name": "stdout",
          "text": [
            "Mounted at /content/gdrive\n"
          ]
        }
      ],
      "source": [
        "from google.colab import drive\n",
        "drive.mount('/content/gdrive') "
      ]
    },
    {
      "cell_type": "code",
      "execution_count": null,
      "metadata": {
        "id": "TZyKygnXn4P-"
      },
      "outputs": [],
      "source": [
        ""
      ]
    },
    {
      "cell_type": "code",
      "execution_count": 6,
      "metadata": {
        "colab": {
          "base_uri": "https://localhost:8080/"
        },
        "id": "2PkiSap1E0-p",
        "outputId": "7349e2e6-3300-41f6-dc7a-d01ffe8751e0"
      },
      "outputs": [
        {
          "output_type": "stream",
          "name": "stdout",
          "text": [
            "length of text: 4309536 characters\n"
          ]
        }
      ],
      "source": [
        "text = open('/content/gdrive/MyDrive/Text-Gen/quote.txt', 'r').read()\n",
        "print(f'length of text: {len(text)} characters')"
      ]
    },
    {
      "cell_type": "code",
      "execution_count": 7,
      "metadata": {
        "colab": {
          "base_uri": "https://localhost:8080/"
        },
        "id": "NKoGgQN6J2iI",
        "outputId": "b691b368-0da2-41fb-d525-1f695820a40e"
      },
      "outputs": [
        {
          "output_type": "stream",
          "name": "stdout",
          "text": [
            "\n",
            "\n",
            "You need a little bit of insanity to do great things.\n",
            "\n",
            "Honor your joy today, whilst it replenishes and strengthens you - in the company of your Soul.\n",
            "\n",
            "Give your Friends Roses while they are still alive\n",
            "\n",
            "Even if there are instances in which it can b\n"
          ]
        }
      ],
      "source": [
        "print(text[:250])"
      ]
    },
    {
      "cell_type": "code",
      "execution_count": 8,
      "metadata": {
        "colab": {
          "base_uri": "https://localhost:8080/"
        },
        "id": "lQ9RkvrSIg5r",
        "outputId": "749cc911-65e1-4aca-80f1-31f4f976f6b7"
      },
      "outputs": [
        {
          "output_type": "stream",
          "name": "stdout",
          "text": [
            "76 unique characters\n"
          ]
        },
        {
          "output_type": "execute_result",
          "data": {
            "text/plain": [
              "['\\n',\n",
              " ' ',\n",
              " '!',\n",
              " '$',\n",
              " '&',\n",
              " \"'\",\n",
              " '(',\n",
              " ')',\n",
              " ',',\n",
              " '-',\n",
              " '.',\n",
              " '0',\n",
              " '1',\n",
              " '2',\n",
              " '3',\n",
              " '4',\n",
              " '5',\n",
              " '6',\n",
              " '7',\n",
              " '8',\n",
              " '9',\n",
              " ':',\n",
              " ';',\n",
              " '?',\n",
              " 'A',\n",
              " 'B',\n",
              " 'C',\n",
              " 'D',\n",
              " 'E',\n",
              " 'F',\n",
              " 'G',\n",
              " 'H',\n",
              " 'I',\n",
              " 'J',\n",
              " 'K',\n",
              " 'L',\n",
              " 'M',\n",
              " 'N',\n",
              " 'O',\n",
              " 'P',\n",
              " 'Q',\n",
              " 'R',\n",
              " 'S',\n",
              " 'T',\n",
              " 'U',\n",
              " 'V',\n",
              " 'W',\n",
              " 'X',\n",
              " 'Y',\n",
              " 'Z',\n",
              " 'a',\n",
              " 'b',\n",
              " 'c',\n",
              " 'd',\n",
              " 'e',\n",
              " 'f',\n",
              " 'g',\n",
              " 'h',\n",
              " 'i',\n",
              " 'j',\n",
              " 'k',\n",
              " 'l',\n",
              " 'm',\n",
              " 'n',\n",
              " 'o',\n",
              " 'p',\n",
              " 'q',\n",
              " 'r',\n",
              " 's',\n",
              " 't',\n",
              " 'u',\n",
              " 'v',\n",
              " 'w',\n",
              " 'x',\n",
              " 'y',\n",
              " 'z']"
            ]
          },
          "metadata": {},
          "execution_count": 8
        }
      ],
      "source": [
        "# The unique characters in the file\n",
        "vocab = sorted(set(text))\n",
        "print(f'{len(vocab)} unique characters')\n",
        "vocab"
      ]
    },
    {
      "cell_type": "code",
      "execution_count": 9,
      "metadata": {
        "colab": {
          "base_uri": "https://localhost:8080/"
        },
        "id": "b61WVuVFLU76",
        "outputId": "8874b4bf-9131-4fc0-ed31-e0364124bc8e"
      },
      "outputs": [
        {
          "output_type": "execute_result",
          "data": {
            "text/plain": [
              "<tf.RaggedTensor [[b'a', b'b', b'c', b'd', b'e', b'f', b'g'], [b'x', b'y', b'z']]>"
            ]
          },
          "metadata": {},
          "execution_count": 9
        }
      ],
      "source": [
        "#Before training, you need to convert the strings to a numerical representation.\n",
        "example_texts = ['abcdefg', 'xyz']\n",
        "chars = tf.strings.unicode_split(example_texts, input_encoding = 'UTF-8')\n",
        "chars"
      ]
    },
    {
      "cell_type": "code",
      "execution_count": 10,
      "metadata": {
        "colab": {
          "base_uri": "https://localhost:8080/"
        },
        "id": "bmqi1xBbMZpi",
        "outputId": "d01b881e-310d-41b0-95d3-9515e6bba25e"
      },
      "outputs": [
        {
          "output_type": "execute_result",
          "data": {
            "text/plain": [
              "<tf.RaggedTensor [[51, 52, 53, 54, 55, 56, 57], [74, 75, 76]]>"
            ]
          },
          "metadata": {},
          "execution_count": 10
        }
      ],
      "source": [
        "ids_from_chars = tf.keras.layers.StringLookup(vocabulary = list(vocab), mask_token = None)\n",
        "ids = ids_from_chars(chars)\n",
        "ids"
      ]
    },
    {
      "cell_type": "code",
      "execution_count": 11,
      "metadata": {
        "colab": {
          "base_uri": "https://localhost:8080/"
        },
        "id": "arYbmM67MzmD",
        "outputId": "64a30e9e-45dd-4491-8220-cf00887fd815"
      },
      "outputs": [
        {
          "output_type": "execute_result",
          "data": {
            "text/plain": [
              "<tf.RaggedTensor [[b'a', b'b', b'c', b'd', b'e', b'f', b'g'], [b'x', b'y', b'z']]>"
            ]
          },
          "metadata": {},
          "execution_count": 11
        }
      ],
      "source": [
        "chars_from_ids = tf.keras.layers.StringLookup(\n",
        "    vocabulary=ids_from_chars.get_vocabulary(), invert=True, mask_token=None)\n",
        "chars = chars_from_ids(ids)\n",
        "chars"
      ]
    },
    {
      "cell_type": "code",
      "execution_count": 12,
      "metadata": {
        "colab": {
          "base_uri": "https://localhost:8080/"
        },
        "id": "WI0JFqyeXA5M",
        "outputId": "32dfa987-c183-420d-baaa-b6a680cf37b0"
      },
      "outputs": [
        {
          "output_type": "execute_result",
          "data": {
            "text/plain": [
              "array([b'abcdefg', b'xyz'], dtype=object)"
            ]
          },
          "metadata": {},
          "execution_count": 12
        }
      ],
      "source": [
        "tf.strings.reduce_join(chars,axis = -1).numpy()"
      ]
    },
    {
      "cell_type": "code",
      "execution_count": 13,
      "metadata": {
        "id": "7rYRbOBXZJJ2"
      },
      "outputs": [],
      "source": [
        "def text_from_ids(ids):\n",
        "  return tf.strings.reduce_join(chars_from_ids(ids), axis = -1)"
      ]
    },
    {
      "cell_type": "code",
      "execution_count": 14,
      "metadata": {
        "colab": {
          "base_uri": "https://localhost:8080/"
        },
        "id": "TFX55N3cT7EJ",
        "outputId": "400994a8-693a-4d3a-c5f2-cceebccdd947"
      },
      "outputs": [
        {
          "output_type": "execute_result",
          "data": {
            "text/plain": [
              "<TensorSliceDataset element_spec=TensorSpec(shape=(), dtype=tf.int64, name=None)>"
            ]
          },
          "metadata": {},
          "execution_count": 14
        }
      ],
      "source": [
        "all_ids = ids_from_chars(tf.strings.unicode_split(text,'UTF-8'))\n",
        "ids_dataset = tf.data.Dataset.from_tensor_slices(all_ids)\n",
        "ids_dataset"
      ]
    },
    {
      "cell_type": "code",
      "execution_count": 15,
      "metadata": {
        "colab": {
          "base_uri": "https://localhost:8080/"
        },
        "id": "mVRiwA_oTZTD",
        "outputId": "07b5165a-181a-45db-e156-608e20c0f042"
      },
      "outputs": [
        {
          "output_type": "stream",
          "name": "stdout",
          "text": [
            "\n",
            "\n",
            "\n",
            "\n",
            "Y\n",
            "o\n",
            "u\n",
            " \n",
            "n\n",
            "e\n",
            "e\n",
            "d\n"
          ]
        }
      ],
      "source": [
        "for ids in ids_dataset.take(10):\n",
        "  print(chars_from_ids(ids).numpy().decode('utf-8'))\n"
      ]
    },
    {
      "cell_type": "code",
      "execution_count": 16,
      "metadata": {
        "colab": {
          "base_uri": "https://localhost:8080/"
        },
        "id": "8YFQD2baaJBD",
        "outputId": "c5f088ad-0404-4cd9-d1f5-2f044dd689c3"
      },
      "outputs": [
        {
          "output_type": "stream",
          "name": "stdout",
          "text": [
            "tf.Tensor(\n",
            "[b'\\n' b'\\n' b'Y' b'o' b'u' b' ' b'n' b'e' b'e' b'd' b' ' b'a' b' ' b'l'\n",
            " b'i' b't' b't' b'l' b'e' b' ' b'b' b'i' b't' b' ' b'o' b'f' b' ' b'i'\n",
            " b'n' b's' b'a' b'n' b'i' b't' b'y' b' ' b't' b'o' b' ' b'd' b'o' b' '\n",
            " b'g' b'r' b'e' b'a' b't' b' ' b't' b'h' b'i' b'n' b'g' b's' b'.' b'\\n'\n",
            " b'\\n' b'H' b'o' b'n' b'o' b'r' b' ' b'y' b'o' b'u' b'r' b' ' b'j' b'o'\n",
            " b'y' b' ' b't' b'o' b'd' b'a' b'y' b',' b' ' b'w' b'h' b'i' b'l' b's'\n",
            " b't' b' ' b'i' b't' b' ' b'r' b'e' b'p' b'l' b'e' b'n' b'i' b's' b'h'\n",
            " b'e' b's' b' '], shape=(101,), dtype=string)\n"
          ]
        }
      ],
      "source": [
        "seq_length = 100\n",
        "examples_per_epoch = len(text)//(seq_length+1)\n",
        "sequences = ids_dataset.batch(seq_length+1, drop_remainder = True)\n",
        "for seq in sequences.take(1):\n",
        "  print(chars_from_ids(seq))\n"
      ]
    },
    {
      "cell_type": "code",
      "execution_count": 17,
      "metadata": {
        "id": "ETrGCTucmiD7"
      },
      "outputs": [],
      "source": [
        "def split_input_target(sequence):\n",
        "  input_text = sequence[:-1]\n",
        "  target_text = sequence[1:]\n",
        "  return input_text, target_text\n"
      ]
    },
    {
      "cell_type": "code",
      "execution_count": 18,
      "metadata": {
        "colab": {
          "base_uri": "https://localhost:8080/"
        },
        "id": "SEAeWsKzn-Og",
        "outputId": "960cc569-bca3-4498-ee67-2658bc99297b"
      },
      "outputs": [
        {
          "output_type": "execute_result",
          "data": {
            "text/plain": [
              "(['t', 'e', 'n', 's', 'o', 'r', 'f', 'l', 'o'],\n",
              " ['e', 'n', 's', 'o', 'r', 'f', 'l', 'o', 'w'])"
            ]
          },
          "metadata": {},
          "execution_count": 18
        }
      ],
      "source": [
        "split_input_target(list('tensorflow'))"
      ]
    },
    {
      "cell_type": "code",
      "execution_count": 19,
      "metadata": {
        "colab": {
          "base_uri": "https://localhost:8080/"
        },
        "id": "k9McbdhooIfq",
        "outputId": "1f002102-b8fc-4da9-d5f6-cb87e0e0f968"
      },
      "outputs": [
        {
          "output_type": "execute_result",
          "data": {
            "text/plain": [
              "<MapDataset element_spec=(TensorSpec(shape=(100,), dtype=tf.int64, name=None), TensorSpec(shape=(100,), dtype=tf.int64, name=None))>"
            ]
          },
          "metadata": {},
          "execution_count": 19
        }
      ],
      "source": [
        "dataset = sequences.map(split_input_target)\n",
        "dataset"
      ]
    },
    {
      "cell_type": "code",
      "execution_count": 20,
      "metadata": {
        "colab": {
          "base_uri": "https://localhost:8080/"
        },
        "id": "q7AMxfQXotUd",
        "outputId": "5c12d830-e89b-4dbc-a3dd-a0e5105b3ced"
      },
      "outputs": [
        {
          "output_type": "stream",
          "name": "stdout",
          "text": [
            "Input : b'\\n\\nYou need a little bit of insanity to do great things.\\n\\nHonor your joy today, whilst it replenishes'\n",
            "Target: b'\\nYou need a little bit of insanity to do great things.\\n\\nHonor your joy today, whilst it replenishes '\n"
          ]
        }
      ],
      "source": [
        "for input_example, target_example in dataset.take(1):\n",
        "    print(\"Input :\", text_from_ids(input_example).numpy())\n",
        "    print(\"Target:\", text_from_ids(target_example).numpy())"
      ]
    },
    {
      "cell_type": "code",
      "execution_count": 21,
      "metadata": {
        "colab": {
          "base_uri": "https://localhost:8080/"
        },
        "id": "RkOIG6-V7m53",
        "outputId": "461e4b54-2bfd-47b8-e812-928bd0d56ef2"
      },
      "outputs": [
        {
          "output_type": "execute_result",
          "data": {
            "text/plain": [
              "<PrefetchDataset element_spec=(TensorSpec(shape=(64, 100), dtype=tf.int64, name=None), TensorSpec(shape=(64, 100), dtype=tf.int64, name=None))>"
            ]
          },
          "metadata": {},
          "execution_count": 21
        }
      ],
      "source": [
        "BATCH_SIZE = 64\n",
        "# Buffer size to shuffle the dataset\n",
        "# (TF data is designed to work with possibly infinite sequences, \n",
        "# so it doesn't attempt to shuffle the entire sequence in memory. Instead, \n",
        "# it maintains a buffer in which it shuffles elements)\n",
        "BUFFER_SIZE = 10000\n",
        "\n",
        "dataset = (dataset.shuffle(BUFFER_SIZE).batch(BATCH_SIZE,drop_remainder=True).prefetch(tf.data.experimental.AUTOTUNE))\n",
        "dataset"
      ]
    },
    {
      "cell_type": "code",
      "execution_count": 22,
      "metadata": {
        "id": "_xgxHrtS-gsq"
      },
      "outputs": [],
      "source": [
        "#Length of the vocabulary in chars\n",
        "vocab_size = len(vocab)\n",
        "#The embedding dimension\n",
        "embedding_dim = 256\n",
        "#Number of RNN Units\n",
        "rnn_units = 1024"
      ]
    },
    {
      "cell_type": "code",
      "execution_count": 23,
      "metadata": {
        "id": "reNmEh-I_Hc_"
      },
      "outputs": [],
      "source": [
        "class MyModel(tf.keras.Model):\n",
        "  def __init__(self, vocab_size, embedding_dim, rnn_units):\n",
        "    super().__init__(self)\n",
        "    self.embedding = tf.keras.layers.Embedding(vocab_size, embedding_dim)\n",
        "    self.gru = tf.keras.layers.GRU(rnn_units,\n",
        "                                   return_sequences=True,\n",
        "                                   return_state=True)\n",
        "    self.dense = tf.keras.layers.Dense(vocab_size)\n",
        "\n",
        "  def call(self, inputs, states=None, return_state=False, training=False):\n",
        "    x = inputs\n",
        "    x = self.embedding(x, training=training)\n",
        "    if states is None:\n",
        "      states = self.gru.get_initial_state(x)\n",
        "    x, states = self.gru(x, initial_state=states, training=training)\n",
        "    x = self.dense(x, training=training)\n",
        "\n",
        "    if return_state:\n",
        "      return x, states\n",
        "    else:\n",
        "      return x\n",
        "model = MyModel (\n",
        "        #be sure the vocabulary size matches the 'StringLookup' layers.\n",
        "        vocab_size = len(ids_from_chars.get_vocabulary()), embedding_dim = embedding_dim, rnn_units = rnn_units\n",
        ")\n"
      ]
    },
    {
      "cell_type": "code",
      "execution_count": 24,
      "metadata": {
        "colab": {
          "base_uri": "https://localhost:8080/"
        },
        "id": "IFwQjN9oF6d3",
        "outputId": "2b6706b1-ddc3-4915-edc2-8876c9f7a203"
      },
      "outputs": [
        {
          "output_type": "stream",
          "name": "stdout",
          "text": [
            "(64, 100, 77) # (batch_size, sequence_length, vocab_size)\n"
          ]
        }
      ],
      "source": [
        "for input_example_batch, target_example_batch in dataset.take(1):\n",
        "    example_batch_predictions = model(input_example_batch)\n",
        "    print(example_batch_predictions.shape, \"# (batch_size, sequence_length, vocab_size)\")"
      ]
    },
    {
      "cell_type": "code",
      "execution_count": 25,
      "metadata": {
        "colab": {
          "base_uri": "https://localhost:8080/"
        },
        "id": "M-fyJvbXHMVb",
        "outputId": "bfb94707-e0ef-4e3f-f4a3-7a21fae325f5"
      },
      "outputs": [
        {
          "output_type": "stream",
          "name": "stdout",
          "text": [
            "Model: \"my_model\"\n",
            "_________________________________________________________________\n",
            " Layer (type)                Output Shape              Param #   \n",
            "=================================================================\n",
            " embedding (Embedding)       multiple                  19712     \n",
            "                                                                 \n",
            " gru (GRU)                   multiple                  3938304   \n",
            "                                                                 \n",
            " dense (Dense)               multiple                  78925     \n",
            "                                                                 \n",
            "=================================================================\n",
            "Total params: 4,036,941\n",
            "Trainable params: 4,036,941\n",
            "Non-trainable params: 0\n",
            "_________________________________________________________________\n"
          ]
        }
      ],
      "source": [
        "model.summary()"
      ]
    },
    {
      "cell_type": "code",
      "execution_count": 26,
      "metadata": {
        "colab": {
          "base_uri": "https://localhost:8080/"
        },
        "id": "oKwwSTtRHQWs",
        "outputId": "bfb86933-7033-497b-e209-8b7affd3c053"
      },
      "outputs": [
        {
          "output_type": "execute_result",
          "data": {
            "text/plain": [
              "array([27, 63, 21, 74, 69, 21, 21,  6, 72, 15,  6, 61, 66, 38, 44, 71, 41,\n",
              "       41, 47,  6,  5, 21, 27, 52, 74, 70, 72,  4, 50, 45,  0, 21, 70, 52,\n",
              "        7, 17, 43,  0, 71, 76, 18, 12, 45, 17, 29, 30, 69, 20, 43, 58, 33,\n",
              "       52,  0,  9, 75, 13, 21, 69,  4, 66, 24, 23,  4, 43,  4, 31, 72, 23,\n",
              "       46, 52, 54, 27, 48, 65, 60, 70, 31, 16,  2, 71, 52, 57, 55, 30, 66,\n",
              "       20, 15, 45, 31,  2, 75, 62, 22, 10, 54, 32,  0, 76, 74, 18])"
            ]
          },
          "metadata": {},
          "execution_count": 26
        }
      ],
      "source": [
        "sampled_indices = tf.random.categorical(example_batch_predictions[0], num_samples=1)\n",
        "sampled_indices = tf.squeeze(sampled_indices, axis=-1).numpy()\n",
        "sampled_indices\n"
      ]
    },
    {
      "cell_type": "code",
      "execution_count": 27,
      "metadata": {
        "colab": {
          "base_uri": "https://localhost:8080/"
        },
        "id": "4ZEcZ-0GHdkA",
        "outputId": "89d2020e-e9ea-4351-e31f-440c2019c848"
      },
      "outputs": [
        {
          "output_type": "stream",
          "name": "stdout",
          "text": [
            "Input:\n",
            " b'e present is the vivid fringe of memory tinged with anticipation.\\n\\nConstitutional democracy, you see'\n",
            "\n",
            "Next Char Predictions:\n",
            " b\"Cm9xs99'v3'kpNTuQQW'&9Cbxtv$ZU[UNK]9tb(5S[UNK]uz60U5EFs8ShIb[UNK],y19s$p?;$S$Gv;VbdCXojtG4 ubgeFp83UG yl:-dH[UNK]zx6\"\n"
          ]
        }
      ],
      "source": [
        "print(\"Input:\\n\", text_from_ids(input_example_batch[0]).numpy())\n",
        "print()\n",
        "print(\"Next Char Predictions:\\n\", text_from_ids(sampled_indices).numpy())"
      ]
    },
    {
      "cell_type": "code",
      "execution_count": 28,
      "metadata": {
        "id": "nsWYLnFqJR3G"
      },
      "outputs": [],
      "source": [
        "loss = tf.losses.SparseCategoricalCrossentropy(from_logits=True)"
      ]
    },
    {
      "cell_type": "code",
      "execution_count": 29,
      "metadata": {
        "colab": {
          "base_uri": "https://localhost:8080/"
        },
        "id": "yqSWNQkeKIHo",
        "outputId": "c299a224-c862-4e35-8554-ed5b1f7ef13d"
      },
      "outputs": [
        {
          "output_type": "stream",
          "name": "stdout",
          "text": [
            "Prediction shape:  (64, 100, 77)  # (batch_size, sequence_length, vocab_size)\n",
            "Mean loss:         4.3441744\n"
          ]
        }
      ],
      "source": [
        "example_batch_loss = loss(target_example_batch, example_batch_predictions)\n",
        "mean_loss = example_batch_loss.numpy().mean()\n",
        "print(\"Prediction shape: \", example_batch_predictions.shape, \" # (batch_size, sequence_length, vocab_size)\")\n",
        "print(\"Mean loss:        \", mean_loss)"
      ]
    },
    {
      "cell_type": "code",
      "execution_count": 30,
      "metadata": {
        "colab": {
          "base_uri": "https://localhost:8080/"
        },
        "id": "zSK7_Cj_MLxU",
        "outputId": "10b88828-e893-4304-8036-dded36e9e9e4"
      },
      "outputs": [
        {
          "output_type": "execute_result",
          "data": {
            "text/plain": [
              "77.02842"
            ]
          },
          "metadata": {},
          "execution_count": 30
        }
      ],
      "source": [
        "tf.exp(mean_loss).numpy()"
      ]
    },
    {
      "cell_type": "code",
      "execution_count": 31,
      "metadata": {
        "id": "5BkGx7MhMNG9"
      },
      "outputs": [],
      "source": [
        "model.compile(optimizer='adam', loss=loss)"
      ]
    },
    {
      "cell_type": "code",
      "execution_count": 32,
      "metadata": {
        "id": "BeYulcWQMQoW"
      },
      "outputs": [],
      "source": [
        "# Directory where the checkpoints will be saved\n",
        "checkpoint_dir = './training_checkpoints'\n",
        "# Name of the checkpoint files\n",
        "checkpoint_prefix = os.path.join(checkpoint_dir, \"ckpt_{epoch}\")\n",
        "\n",
        "checkpoint_callback = tf.keras.callbacks.ModelCheckpoint(\n",
        "    filepath=checkpoint_prefix,\n",
        "    save_weights_only=True)"
      ]
    },
    {
      "cell_type": "code",
      "execution_count": 33,
      "metadata": {
        "id": "ljnVG5UyMZx6"
      },
      "outputs": [],
      "source": [
        "EPOCHS = 10"
      ]
    },
    {
      "cell_type": "code",
      "execution_count": 88,
      "metadata": {
        "colab": {
          "base_uri": "https://localhost:8080/"
        },
        "id": "8ff7ny0aMk1n",
        "outputId": "9ec5f1a7-b5cc-4636-91f7-84172f6df878"
      },
      "outputs": [
        {
          "output_type": "stream",
          "name": "stdout",
          "text": [
            "Epoch 1/10\n",
            "666/666 [==============================] - 86s 127ms/step - loss: 1.0394\n",
            "Epoch 2/10\n",
            "666/666 [==============================] - 86s 127ms/step - loss: 1.0224\n",
            "Epoch 3/10\n",
            "666/666 [==============================] - 86s 127ms/step - loss: 1.0081\n",
            "Epoch 4/10\n",
            "666/666 [==============================] - 86s 127ms/step - loss: 0.9964\n",
            "Epoch 5/10\n",
            "666/666 [==============================] - 86s 127ms/step - loss: 0.9872\n",
            "Epoch 6/10\n",
            "666/666 [==============================] - 86s 126ms/step - loss: 0.9800\n",
            "Epoch 7/10\n",
            "666/666 [==============================] - 86s 127ms/step - loss: 0.9751\n",
            "Epoch 8/10\n",
            "666/666 [==============================] - 86s 127ms/step - loss: 0.9716\n",
            "Epoch 9/10\n",
            "666/666 [==============================] - 88s 129ms/step - loss: 0.9693\n",
            "Epoch 10/10\n",
            "666/666 [==============================] - 86s 127ms/step - loss: 0.9697\n"
          ]
        }
      ],
      "source": [
        "history = model.fit(dataset, epochs=EPOCHS, callbacks=[checkpoint_callback])"
      ]
    },
    {
      "cell_type": "code",
      "execution_count": 89,
      "metadata": {
        "id": "8BieBYsUOdHD"
      },
      "outputs": [],
      "source": [
        "class OneStep(tf.keras.Model):\n",
        "  def __init__(self, model, chars_from_ids, ids_from_chars, temperature=1.0):\n",
        "    super().__init__()\n",
        "    self.temperature = temperature\n",
        "    self.model = model\n",
        "    self.chars_from_ids = chars_from_ids\n",
        "    self.ids_from_chars = ids_from_chars\n",
        "\n",
        "    # Create a mask to prevent \"[UNK]\" from being generated.\n",
        "    skip_ids = self.ids_from_chars(['[UNK]'])[:, None]\n",
        "    sparse_mask = tf.SparseTensor(\n",
        "        # Put a -inf at each bad index.\n",
        "        values=[-float('inf')]*len(skip_ids),\n",
        "        indices=skip_ids,\n",
        "        # Match the shape to the vocabulary\n",
        "        dense_shape=[len(ids_from_chars.get_vocabulary())])\n",
        "    self.prediction_mask = tf.sparse.to_dense(sparse_mask)\n",
        "\n",
        "  @tf.function\n",
        "  def generate_one_step(self, inputs, states=None):\n",
        "    # Convert strings to token IDs.\n",
        "    input_chars = tf.strings.unicode_split(inputs, 'UTF-8')\n",
        "    input_ids = self.ids_from_chars(input_chars).to_tensor()\n",
        "\n",
        "    # Run the model.\n",
        "    # predicted_logits.shape is [batch, char, next_char_logits]\n",
        "    predicted_logits, states = self.model(inputs=input_ids, states=states,\n",
        "                                          return_state=True)\n",
        "    # Only use the last prediction.\n",
        "    predicted_logits = predicted_logits[:, -1, :]\n",
        "    predicted_logits = predicted_logits/self.temperature\n",
        "    # Apply the prediction mask: prevent \"[UNK]\" from being generated.\n",
        "    predicted_logits = predicted_logits + self.prediction_mask\n",
        "\n",
        "    # Sample the output logits to generate token IDs.\n",
        "    predicted_ids = tf.random.categorical(predicted_logits, num_samples=1)\n",
        "    predicted_ids = tf.squeeze(predicted_ids, axis=-1)\n",
        "\n",
        "    # Convert from token ids to characters\n",
        "    predicted_chars = self.chars_from_ids(predicted_ids)\n",
        "\n",
        "    # Return the characters and model state.\n",
        "    return predicted_chars, states\n",
        "    "
      ]
    },
    {
      "cell_type": "code",
      "execution_count": 90,
      "metadata": {
        "id": "VZ9yXF8mOpwc"
      },
      "outputs": [],
      "source": [
        "one_step_model = OneStep(model, chars_from_ids, ids_from_chars)"
      ]
    },
    {
      "cell_type": "code",
      "source": [
        "start_sentence= pd.read_csv('/content/gdrive/MyDrive/Text-Gen/quotes.csv')\n",
        "start_sentence = start_sentence['quote']"
      ],
      "metadata": {
        "id": "Z5ZQZBYK982B"
      },
      "execution_count": 126,
      "outputs": []
    },
    {
      "cell_type": "code",
      "source": [
        "start_sentence.sample(frac=1)\n",
        "start_sentence = list(start_sentence.iloc[:])"
      ],
      "metadata": {
        "colab": {
          "base_uri": "https://localhost:8080/",
          "height": 183
        },
        "id": "39Z3vu1h-U45",
        "outputId": "cf55e63d-ca66-45dc-b7da-68a8c0f2c052"
      },
      "execution_count": 140,
      "outputs": [
        {
          "output_type": "error",
          "ename": "AttributeError",
          "evalue": "ignored",
          "traceback": [
            "\u001b[0;31m---------------------------------------------------------------------------\u001b[0m",
            "\u001b[0;31mAttributeError\u001b[0m                            Traceback (most recent call last)",
            "\u001b[0;32m<ipython-input-140-0e56d90ba50b>\u001b[0m in \u001b[0;36m<module>\u001b[0;34m()\u001b[0m\n\u001b[0;32m----> 1\u001b[0;31m \u001b[0mstart_sentence\u001b[0m\u001b[0;34m.\u001b[0m\u001b[0msample\u001b[0m\u001b[0;34m(\u001b[0m\u001b[0mfrac\u001b[0m\u001b[0;34m=\u001b[0m\u001b[0;36m1\u001b[0m\u001b[0;34m)\u001b[0m\u001b[0;34m\u001b[0m\u001b[0;34m\u001b[0m\u001b[0m\n\u001b[0m\u001b[1;32m      2\u001b[0m \u001b[0mstart_sentence\u001b[0m \u001b[0;34m=\u001b[0m \u001b[0mlist\u001b[0m\u001b[0;34m(\u001b[0m\u001b[0mstart_sentence\u001b[0m\u001b[0;34m.\u001b[0m\u001b[0miloc\u001b[0m\u001b[0;34m[\u001b[0m\u001b[0;34m:\u001b[0m\u001b[0;34m]\u001b[0m\u001b[0;34m)\u001b[0m\u001b[0;34m\u001b[0m\u001b[0;34m\u001b[0m\u001b[0m\n",
            "\u001b[0;31mAttributeError\u001b[0m: 'list' object has no attribute 'sample'"
          ]
        }
      ]
    },
    {
      "cell_type": "code",
      "source": [
        "starts = start_sentence[:][:1000]"
      ],
      "metadata": {
        "id": "oqMsJSBb-8QI"
      },
      "execution_count": 141,
      "outputs": []
    },
    {
      "cell_type": "code",
      "source": [
        "len(starts)"
      ],
      "metadata": {
        "colab": {
          "base_uri": "https://localhost:8080/"
        },
        "id": "csYXShpC_LT7",
        "outputId": "11799b14-ba73-41de-e600-4f27aaaba9ab"
      },
      "execution_count": 142,
      "outputs": [
        {
          "output_type": "execute_result",
          "data": {
            "text/plain": [
              "1000"
            ]
          },
          "metadata": {},
          "execution_count": 142
        }
      ]
    },
    {
      "cell_type": "code",
      "source": [
        "sc = [starts[i][:50] for i in range(1000) if len(starts[i]) > 50]\n"
      ],
      "metadata": {
        "id": "Qp1270r4Ac_M"
      },
      "execution_count": 150,
      "outputs": []
    },
    {
      "cell_type": "code",
      "source": [
        "generated_quotes = []"
      ],
      "metadata": {
        "id": "qe5CUwBvNuZJ"
      },
      "execution_count": 151,
      "outputs": []
    },
    {
      "cell_type": "code",
      "execution_count": 152,
      "metadata": {
        "id": "nOLFQzPXOwrI",
        "colab": {
          "base_uri": "https://localhost:8080/"
        },
        "outputId": "a7365685-2621-42d0-e692-99e056a64abf"
      },
      "outputs": [
        {
          "output_type": "stream",
          "name": "stdout",
          "text": [
            "I'm selfish, impatient and a little insecure. I may be an astorilist, and where I love someone, be quite like them.\n",
            "\n",
            "The only roufine word sting of the world is taking away the value, it just takes to geor curiosity.\n",
            "\n",
            "Haliss exactly for the gods, millions of perceptions.\n",
            "\n",
            "Quit not only to check and pretend to have peace, which is the subtle you there the security but of TRANPY\n",
            "\n",
            "Patient are you espenime; our pricelest directs fill your God outwite; follow, you are right, the truths worldwill knuck after society\n",
            "\n",
            "You need to see the world to me unmirtleness in friendship.\n",
            "\n",
            "The man the reward is the most amount of the Other soul!\n",
            "\n",
            "Animals. We have to. So we droam, I will continue leisure.\n",
            "\n",
            "Don't depend on whether we want in the field strength to explain.\n",
            "\n",
            "No greatness in the world was inevitable, wherever they turn on their life?\n",
            "\n",
            "I felt social animal that turning toward impression is a falld fascinating, of inadequal point in our lives. The experience of true faith.\n",
            "\n",
            "To rescond to the universe doesn't always have mistakes; it is shaking \n",
            "\n",
            "________________________________________________________________________________\n",
            "You've gotta dance like there's nobody watching,Love and family. Faking is a broken heart.\n",
            "\n",
            "Happiness. It's the only vacation from the world shines.\n",
            "\n",
            "I love the health because I looked at myself. I have to say whether we'll still have to choose between its judismies who love wind quietle on plucky.\n",
            "\n",
            "Unless they are only different death, but really.\n",
            "\n",
            "Nurses,all the path to kill the scheme of a sun.\n",
            "\n",
            "Ruming kindling through into the human cuts, study word each other' and they have abiding himself given on the door and give some tongues.\n",
            "\n",
            "No one wants to work as ancohour. They keep smiling.\n",
            "\n",
            "The Word of God became feeliable enough to keeping the eyes of men.\n",
            "\n",
            "The inner world in lies are teamings and acquiring conduct.\n",
            "\n",
            "Only increases are greater blowing, gluery breathing.\n",
            "\n",
            "Venice describes showing memories of knowledge at once.\n",
            "\n",
            "She was a tyrination and wealth that has a chain; beating  your imagination takes is open to us in the neck.\n",
            "\n",
            "There is always the ability to assist the markaggerosesem.\n",
            "\n",
            "A lie is seldom each invisible when you do \n",
            "\n",
            "________________________________________________________________________________\n",
            "You know you're in love when you can't fall asleep, but you will be and madually as a fruendly done that you living is impossible.\n",
            "\n",
            "Amazing women, Free Confoles true body always.\n",
            "\n",
            "The fame of order is to become great of ourself. Off somebody else doesn't happen. Maker it only because of the people, for service. Stand still for failure to complain. You will respond to terroric sky, for he is truly there.\n",
            "\n",
            "Expressing your swin a museups of those who often to at least one small amount of conformity and happiness lies self-estep across, not because they're appearable, but you can escape.\n",
            "\n",
            "You go will you think we live in the blood of chance.\n",
            "\n",
            "A relationship is a choice  the more free of dreams\n",
            "\n",
            "The stupidity of the tongue.\n",
            "\n",
            "The art of time dovin the more you lade anyone.\n",
            "\n",
            "I have a new cheek the oldest daily lies that line it.\n",
            "\n",
            "I some man hatred turned  and my words can't be judged me, my friends feel women after you\n",
            "\n",
            "My mom always swimls to work, words always give in God. Having fear is dwell on some men lie there is no truth.\n",
            "\n",
            "The rish o \n",
            "\n",
            "________________________________________________________________________________\n",
            "A friend is someone who knows all about you and stay therain.\n",
            "\n",
            "The parting impudation is that which insiles the absence of words.\n",
            "\n",
            "Custom grows in the same way out of a vast time.\n",
            "\n",
            "Contraniments is an overwholly exercise, not Creator.\n",
            "\n",
            "Walk the savanes of you, laugh and come into your soul, but he loved you back together\n",
            "\n",
            "Autonomy - desire covers of such a mirror and a higher pot one with doubling frught in all invincible.\n",
            "\n",
            "Marrive typewrites your good because they change you.\n",
            "\n",
            "So great things are likely today.\n",
            "\n",
            "The happiness of my feet more about somebody else is wealthy to be named weeds. I largely awake the clouds from Meeting wrong.. And it will die.\n",
            "\n",
            "It's never too loved - which is carved by if you imite the fift of an elterpresenve it!\n",
            "\n",
            "Your life is the motives of failure as the public season for your fish.\n",
            "\n",
            "Wisdom above, to those who habe sense flight to be near to picked.\n",
            "\n",
            "Trust me, feel unhungry and even be forgotten.\n",
            "\n",
            "The human quick-you were homes, you must expect a little bit of failure than bound thoughts to frightening f \n",
            "\n",
            "________________________________________________________________________________\n",
            "Darkness cannot drive out darkness: only light can bear peace between many greatest hands.\n",
            "\n",
            "There are no Virtues  but I did not really like to win it before. I want to be late\n",
            "\n",
            "True freedom meets meet someone reason that came, so far for the mutual beauty of our lives.\n",
            "\n",
            "We can never make one another of a poem being lies. Where death was gracitude.\n",
            "\n",
            "You cannot follow your head up things you cannot control your life.\n",
            "\n",
            "If I had to make the world forget you. I like to remember that your dreams are milestances with open. Not even in your life are unstruggable.\n",
            "\n",
            "Give untold on the wings of the radiantato as mad as practiced liarity,Sometimes Mastical abundance is not moving forward when the light will be our definition of life\n",
            "\n",
            "Her determination is our imagination.\n",
            "\n",
            "Sexuality is greatest action.\n",
            "\n",
            "Liberty is to ensure your brain as a person find it.\n",
            "\n",
            "Your WEY spank depidation and Laurely young psyche. I would fired to be fought without remembering more.\n",
            "\n",
            "If you want to have faith, then what's gonna happen once someone if you're's young.\n",
            "\n",
            "Nov \n",
            "\n",
            "________________________________________________________________________________\n",
            "\n",
            "Run time: 13.023329734802246\n"
          ]
        }
      ],
      "source": [
        "start = time.time()\n",
        "states = None\n",
        "next_char = tf.constant([sc[i] for i in range(len(sc)) ])\n",
        "result = [next_char]\n",
        "\n",
        "for n in range(1000):\n",
        "  next_char, states = one_step_model.generate_one_step(next_char, states=states)\n",
        "  result.append(next_char)\n",
        "\n",
        "result = tf.strings.join(result)\n",
        "end = time.time()\n",
        "for i in range(5):\n",
        "  print(result[i].numpy().decode('utf-8'), '\\n\\n' + '_'*80)\n",
        "\n",
        "print('\\nRun time:', end - start)"
      ]
    },
    {
      "cell_type": "code",
      "source": [
        "!pip install striprtf"
      ],
      "metadata": {
        "colab": {
          "base_uri": "https://localhost:8080/"
        },
        "id": "klXg6_uhL20J",
        "outputId": "033684d5-3688-46cb-93e5-769b17de61fb"
      },
      "execution_count": 153,
      "outputs": [
        {
          "output_type": "stream",
          "name": "stdout",
          "text": [
            "Requirement already satisfied: striprtf in /usr/local/lib/python3.7/dist-packages (0.0.19)\n"
          ]
        }
      ]
    },
    {
      "cell_type": "code",
      "source": [
        "from striprtf.striprtf import rtf_to_text\n",
        "import striprtf"
      ],
      "metadata": {
        "id": "h5nOsw6QL-Ko"
      },
      "execution_count": 154,
      "outputs": []
    },
    {
      "cell_type": "code",
      "execution_count": 155,
      "metadata": {
        "id": "pvOpXjP0n4QW"
      },
      "outputs": [],
      "source": [
        "for i in range(len(sc)):\n",
        "  text_file = result[i].numpy().decode('utf-8') \n",
        "  data = [content.strip() for content in text_file.splitlines() if content]\n",
        "  generated_quotes+=data[1:-1]"
      ]
    },
    {
      "cell_type": "code",
      "source": [
        "len(generated_quotes)"
      ],
      "metadata": {
        "colab": {
          "base_uri": "https://localhost:8080/"
        },
        "id": "A-wZ860mOLLx",
        "outputId": "99f737bb-14bb-4214-acb3-398d5bb35c07"
      },
      "execution_count": 156,
      "outputs": [
        {
          "output_type": "execute_result",
          "data": {
            "text/plain": [
              "9963"
            ]
          },
          "metadata": {},
          "execution_count": 156
        }
      ]
    },
    {
      "cell_type": "code",
      "source": [
        "generated_df = pd.DataFrame({'drunk-text':generated_quotes})"
      ],
      "metadata": {
        "id": "gtnjVcN6O8-Q"
      },
      "execution_count": 158,
      "outputs": []
    },
    {
      "cell_type": "code",
      "source": [
        "generated_df[:40]"
      ],
      "metadata": {
        "colab": {
          "base_uri": "https://localhost:8080/",
          "height": 1000
        },
        "id": "lkQEmTr2QmqY",
        "outputId": "2a90e1df-c8ac-4239-e5ae-c32c07dfd927"
      },
      "execution_count": 161,
      "outputs": [
        {
          "output_type": "execute_result",
          "data": {
            "text/html": [
              "\n",
              "  <div id=\"df-3f94a494-fcb1-45e0-8aac-50e2c9176e44\">\n",
              "    <div class=\"colab-df-container\">\n",
              "      <div>\n",
              "<style scoped>\n",
              "    .dataframe tbody tr th:only-of-type {\n",
              "        vertical-align: middle;\n",
              "    }\n",
              "\n",
              "    .dataframe tbody tr th {\n",
              "        vertical-align: top;\n",
              "    }\n",
              "\n",
              "    .dataframe thead th {\n",
              "        text-align: right;\n",
              "    }\n",
              "</style>\n",
              "<table border=\"1\" class=\"dataframe\">\n",
              "  <thead>\n",
              "    <tr style=\"text-align: right;\">\n",
              "      <th></th>\n",
              "      <th>drunk-text</th>\n",
              "    </tr>\n",
              "  </thead>\n",
              "  <tbody>\n",
              "    <tr>\n",
              "      <th>0</th>\n",
              "      <td>The only roufine word sting of the world is ta...</td>\n",
              "    </tr>\n",
              "    <tr>\n",
              "      <th>1</th>\n",
              "      <td>Haliss exactly for the gods, millions of perce...</td>\n",
              "    </tr>\n",
              "    <tr>\n",
              "      <th>2</th>\n",
              "      <td>Quit not only to check and pretend to have pea...</td>\n",
              "    </tr>\n",
              "    <tr>\n",
              "      <th>3</th>\n",
              "      <td>Patient are you espenime; our pricelest direct...</td>\n",
              "    </tr>\n",
              "    <tr>\n",
              "      <th>4</th>\n",
              "      <td>You need to see the world to me unmirtleness i...</td>\n",
              "    </tr>\n",
              "    <tr>\n",
              "      <th>5</th>\n",
              "      <td>The man the reward is the most amount of the O...</td>\n",
              "    </tr>\n",
              "    <tr>\n",
              "      <th>6</th>\n",
              "      <td>Animals. We have to. So we droam, I will conti...</td>\n",
              "    </tr>\n",
              "    <tr>\n",
              "      <th>7</th>\n",
              "      <td>Don't depend on whether we want in the field s...</td>\n",
              "    </tr>\n",
              "    <tr>\n",
              "      <th>8</th>\n",
              "      <td>No greatness in the world was inevitable, wher...</td>\n",
              "    </tr>\n",
              "    <tr>\n",
              "      <th>9</th>\n",
              "      <td>I felt social animal that turning toward impre...</td>\n",
              "    </tr>\n",
              "    <tr>\n",
              "      <th>10</th>\n",
              "      <td>Happiness. It's the only vacation from the wor...</td>\n",
              "    </tr>\n",
              "    <tr>\n",
              "      <th>11</th>\n",
              "      <td>I love the health because I looked at myself. ...</td>\n",
              "    </tr>\n",
              "    <tr>\n",
              "      <th>12</th>\n",
              "      <td>Unless they are only different death, but really.</td>\n",
              "    </tr>\n",
              "    <tr>\n",
              "      <th>13</th>\n",
              "      <td>Nurses,all the path to kill the scheme of a sun.</td>\n",
              "    </tr>\n",
              "    <tr>\n",
              "      <th>14</th>\n",
              "      <td>Ruming kindling through into the human cuts, s...</td>\n",
              "    </tr>\n",
              "    <tr>\n",
              "      <th>15</th>\n",
              "      <td>No one wants to work as ancohour. They keep sm...</td>\n",
              "    </tr>\n",
              "    <tr>\n",
              "      <th>16</th>\n",
              "      <td>The Word of God became feeliable enough to kee...</td>\n",
              "    </tr>\n",
              "    <tr>\n",
              "      <th>17</th>\n",
              "      <td>The inner world in lies are teamings and acqui...</td>\n",
              "    </tr>\n",
              "    <tr>\n",
              "      <th>18</th>\n",
              "      <td>Only increases are greater blowing, gluery bre...</td>\n",
              "    </tr>\n",
              "    <tr>\n",
              "      <th>19</th>\n",
              "      <td>Venice describes showing memories of knowledge...</td>\n",
              "    </tr>\n",
              "    <tr>\n",
              "      <th>20</th>\n",
              "      <td>She was a tyrination and wealth that has a cha...</td>\n",
              "    </tr>\n",
              "    <tr>\n",
              "      <th>21</th>\n",
              "      <td>There is always the ability to assist the mark...</td>\n",
              "    </tr>\n",
              "    <tr>\n",
              "      <th>22</th>\n",
              "      <td>Amazing women, Free Confoles true body always.</td>\n",
              "    </tr>\n",
              "    <tr>\n",
              "      <th>23</th>\n",
              "      <td>The fame of order is to become great of oursel...</td>\n",
              "    </tr>\n",
              "    <tr>\n",
              "      <th>24</th>\n",
              "      <td>Expressing your swin a museups of those who of...</td>\n",
              "    </tr>\n",
              "    <tr>\n",
              "      <th>25</th>\n",
              "      <td>You go will you think we live in the blood of ...</td>\n",
              "    </tr>\n",
              "    <tr>\n",
              "      <th>26</th>\n",
              "      <td>A relationship is a choice  the more free of d...</td>\n",
              "    </tr>\n",
              "    <tr>\n",
              "      <th>27</th>\n",
              "      <td>The stupidity of the tongue.</td>\n",
              "    </tr>\n",
              "    <tr>\n",
              "      <th>28</th>\n",
              "      <td>The art of time dovin the more you lade anyone.</td>\n",
              "    </tr>\n",
              "    <tr>\n",
              "      <th>29</th>\n",
              "      <td>I have a new cheek the oldest daily lies that ...</td>\n",
              "    </tr>\n",
              "    <tr>\n",
              "      <th>30</th>\n",
              "      <td>I some man hatred turned  and my words can't b...</td>\n",
              "    </tr>\n",
              "    <tr>\n",
              "      <th>31</th>\n",
              "      <td>My mom always swimls to work, words always giv...</td>\n",
              "    </tr>\n",
              "    <tr>\n",
              "      <th>32</th>\n",
              "      <td>The parting impudation is that which insiles t...</td>\n",
              "    </tr>\n",
              "    <tr>\n",
              "      <th>33</th>\n",
              "      <td>Custom grows in the same way out of a vast time.</td>\n",
              "    </tr>\n",
              "    <tr>\n",
              "      <th>34</th>\n",
              "      <td>Contraniments is an overwholly exercise, not C...</td>\n",
              "    </tr>\n",
              "    <tr>\n",
              "      <th>35</th>\n",
              "      <td>Walk the savanes of you, laugh and come into y...</td>\n",
              "    </tr>\n",
              "    <tr>\n",
              "      <th>36</th>\n",
              "      <td>Autonomy - desire covers of such a mirror and ...</td>\n",
              "    </tr>\n",
              "    <tr>\n",
              "      <th>37</th>\n",
              "      <td>Marrive typewrites your good because they chan...</td>\n",
              "    </tr>\n",
              "    <tr>\n",
              "      <th>38</th>\n",
              "      <td>So great things are likely today.</td>\n",
              "    </tr>\n",
              "    <tr>\n",
              "      <th>39</th>\n",
              "      <td>The happiness of my feet more about somebody e...</td>\n",
              "    </tr>\n",
              "  </tbody>\n",
              "</table>\n",
              "</div>\n",
              "      <button class=\"colab-df-convert\" onclick=\"convertToInteractive('df-3f94a494-fcb1-45e0-8aac-50e2c9176e44')\"\n",
              "              title=\"Convert this dataframe to an interactive table.\"\n",
              "              style=\"display:none;\">\n",
              "        \n",
              "  <svg xmlns=\"http://www.w3.org/2000/svg\" height=\"24px\"viewBox=\"0 0 24 24\"\n",
              "       width=\"24px\">\n",
              "    <path d=\"M0 0h24v24H0V0z\" fill=\"none\"/>\n",
              "    <path d=\"M18.56 5.44l.94 2.06.94-2.06 2.06-.94-2.06-.94-.94-2.06-.94 2.06-2.06.94zm-11 1L8.5 8.5l.94-2.06 2.06-.94-2.06-.94L8.5 2.5l-.94 2.06-2.06.94zm10 10l.94 2.06.94-2.06 2.06-.94-2.06-.94-.94-2.06-.94 2.06-2.06.94z\"/><path d=\"M17.41 7.96l-1.37-1.37c-.4-.4-.92-.59-1.43-.59-.52 0-1.04.2-1.43.59L10.3 9.45l-7.72 7.72c-.78.78-.78 2.05 0 2.83L4 21.41c.39.39.9.59 1.41.59.51 0 1.02-.2 1.41-.59l7.78-7.78 2.81-2.81c.8-.78.8-2.07 0-2.86zM5.41 20L4 18.59l7.72-7.72 1.47 1.35L5.41 20z\"/>\n",
              "  </svg>\n",
              "      </button>\n",
              "      \n",
              "  <style>\n",
              "    .colab-df-container {\n",
              "      display:flex;\n",
              "      flex-wrap:wrap;\n",
              "      gap: 12px;\n",
              "    }\n",
              "\n",
              "    .colab-df-convert {\n",
              "      background-color: #E8F0FE;\n",
              "      border: none;\n",
              "      border-radius: 50%;\n",
              "      cursor: pointer;\n",
              "      display: none;\n",
              "      fill: #1967D2;\n",
              "      height: 32px;\n",
              "      padding: 0 0 0 0;\n",
              "      width: 32px;\n",
              "    }\n",
              "\n",
              "    .colab-df-convert:hover {\n",
              "      background-color: #E2EBFA;\n",
              "      box-shadow: 0px 1px 2px rgba(60, 64, 67, 0.3), 0px 1px 3px 1px rgba(60, 64, 67, 0.15);\n",
              "      fill: #174EA6;\n",
              "    }\n",
              "\n",
              "    [theme=dark] .colab-df-convert {\n",
              "      background-color: #3B4455;\n",
              "      fill: #D2E3FC;\n",
              "    }\n",
              "\n",
              "    [theme=dark] .colab-df-convert:hover {\n",
              "      background-color: #434B5C;\n",
              "      box-shadow: 0px 1px 3px 1px rgba(0, 0, 0, 0.15);\n",
              "      filter: drop-shadow(0px 1px 2px rgba(0, 0, 0, 0.3));\n",
              "      fill: #FFFFFF;\n",
              "    }\n",
              "  </style>\n",
              "\n",
              "      <script>\n",
              "        const buttonEl =\n",
              "          document.querySelector('#df-3f94a494-fcb1-45e0-8aac-50e2c9176e44 button.colab-df-convert');\n",
              "        buttonEl.style.display =\n",
              "          google.colab.kernel.accessAllowed ? 'block' : 'none';\n",
              "\n",
              "        async function convertToInteractive(key) {\n",
              "          const element = document.querySelector('#df-3f94a494-fcb1-45e0-8aac-50e2c9176e44');\n",
              "          const dataTable =\n",
              "            await google.colab.kernel.invokeFunction('convertToInteractive',\n",
              "                                                     [key], {});\n",
              "          if (!dataTable) return;\n",
              "\n",
              "          const docLinkHtml = 'Like what you see? Visit the ' +\n",
              "            '<a target=\"_blank\" href=https://colab.research.google.com/notebooks/data_table.ipynb>data table notebook</a>'\n",
              "            + ' to learn more about interactive tables.';\n",
              "          element.innerHTML = '';\n",
              "          dataTable['output_type'] = 'display_data';\n",
              "          await google.colab.output.renderOutput(dataTable, element);\n",
              "          const docLink = document.createElement('div');\n",
              "          docLink.innerHTML = docLinkHtml;\n",
              "          element.appendChild(docLink);\n",
              "        }\n",
              "      </script>\n",
              "    </div>\n",
              "  </div>\n",
              "  "
            ],
            "text/plain": [
              "                                           drunk-text\n",
              "0   The only roufine word sting of the world is ta...\n",
              "1   Haliss exactly for the gods, millions of perce...\n",
              "2   Quit not only to check and pretend to have pea...\n",
              "3   Patient are you espenime; our pricelest direct...\n",
              "4   You need to see the world to me unmirtleness i...\n",
              "5   The man the reward is the most amount of the O...\n",
              "6   Animals. We have to. So we droam, I will conti...\n",
              "7   Don't depend on whether we want in the field s...\n",
              "8   No greatness in the world was inevitable, wher...\n",
              "9   I felt social animal that turning toward impre...\n",
              "10  Happiness. It's the only vacation from the wor...\n",
              "11  I love the health because I looked at myself. ...\n",
              "12  Unless they are only different death, but really.\n",
              "13   Nurses,all the path to kill the scheme of a sun.\n",
              "14  Ruming kindling through into the human cuts, s...\n",
              "15  No one wants to work as ancohour. They keep sm...\n",
              "16  The Word of God became feeliable enough to kee...\n",
              "17  The inner world in lies are teamings and acqui...\n",
              "18  Only increases are greater blowing, gluery bre...\n",
              "19  Venice describes showing memories of knowledge...\n",
              "20  She was a tyrination and wealth that has a cha...\n",
              "21  There is always the ability to assist the mark...\n",
              "22     Amazing women, Free Confoles true body always.\n",
              "23  The fame of order is to become great of oursel...\n",
              "24  Expressing your swin a museups of those who of...\n",
              "25  You go will you think we live in the blood of ...\n",
              "26  A relationship is a choice  the more free of d...\n",
              "27                       The stupidity of the tongue.\n",
              "28    The art of time dovin the more you lade anyone.\n",
              "29  I have a new cheek the oldest daily lies that ...\n",
              "30  I some man hatred turned  and my words can't b...\n",
              "31  My mom always swimls to work, words always giv...\n",
              "32  The parting impudation is that which insiles t...\n",
              "33   Custom grows in the same way out of a vast time.\n",
              "34  Contraniments is an overwholly exercise, not C...\n",
              "35  Walk the savanes of you, laugh and come into y...\n",
              "36  Autonomy - desire covers of such a mirror and ...\n",
              "37  Marrive typewrites your good because they chan...\n",
              "38                  So great things are likely today.\n",
              "39  The happiness of my feet more about somebody e..."
            ]
          },
          "metadata": {},
          "execution_count": 161
        }
      ]
    },
    {
      "cell_type": "code",
      "source": [
        "generated_df.to_csv('drunkard-ai.csv')"
      ],
      "metadata": {
        "id": "8pgrsRmhPMF3"
      },
      "execution_count": 160,
      "outputs": []
    }
  ],
  "metadata": {
    "accelerator": "GPU",
    "colab": {
      "name": "rnn_quotes.ipynb",
      "provenance": [],
      "collapsed_sections": [],
      "include_colab_link": true
    },
    "kernelspec": {
      "display_name": "Python 3",
      "language": "python",
      "name": "python3"
    },
    "language_info": {
      "codemirror_mode": {
        "name": "ipython",
        "version": 3
      },
      "file_extension": ".py",
      "mimetype": "text/x-python",
      "name": "python",
      "nbconvert_exporter": "python",
      "pygments_lexer": "ipython3",
      "version": "3.7.6"
    }
  },
  "nbformat": 4,
  "nbformat_minor": 0
}