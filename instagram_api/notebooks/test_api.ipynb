{
 "cells": [
  {
   "cell_type": "code",
   "execution_count": 1,
   "metadata": {},
   "outputs": [],
   "source": [
    "import time\n",
    "import pdb\n",
    "import sys\n",
    "import os\n",
    "instagram_api_folder = os.path.dirname(os.getcwd())\n",
    "sys.path.insert(1, instagram_api_folder\n",
    "\n",
    "#Useful if editing python files and want to keep jupyter notebook running\n",
    "import importlib\n",
    "import utils.api_requests\n",
    "import utils.safe_api\n",
    "importlib.reload(utils.api_requests)\n",
    "importlib.reload(utils.safe_api)\n",
    "\n",
    "from utils.api_requests import (BasicUserInfo, UserInfo, PublicUserInfoRequests, MediaInfoRequests, \n",
    "                            InteractWithUsersActions)\n",
    "from utils.safe_api import SafeClient"
   ]
  },
  {
   "cell_type": "code",
   "execution_count": 2,
   "metadata": {},
   "outputs": [],
   "source": [
    "username = 'ds_club_2021'\n",
    "password = 'instabotOP'\n",
    "api = SafeClient(username, password)"
   ]
  },
  {
   "cell_type": "code",
   "execution_count": 3,
   "metadata": {},
   "outputs": [],
   "source": [
    "test_usernames = ['ryanlopezzzz', #small size public account example\n",
    "                  'ruining99', #small size public account example\n",
    "                  'i_am_jorge_murillo', #private account example\n",
    "                  'cuteanimalzzzz123' #API login account\n",
    "                 ]\n",
    "large_test_usernames = ['cute.animals'] #large size public account"
   ]
  },
  {
   "cell_type": "markdown",
   "metadata": {},
   "source": [
    "# Test UserInfo() Class"
   ]
  },
  {
   "cell_type": "code",
   "execution_count": 4,
   "metadata": {},
   "outputs": [],
   "source": [
    "def test_user_info(username):\n",
    "    \"\"\"\n",
    "    Can check against true values by going onto Instagram app.\n",
    "    \"\"\"\n",
    "    user_info = UserInfo(api, username)\n",
    "    print(\"Username: \" + user_info.username)\n",
    "    print(\"User Id: \" + str(user_info.user_id))\n",
    "    print(\"Full name: \" + user_info.full_name)\n",
    "    print(\"Profile Pic Url: \" + user_info.profile_pic_url)\n",
    "    print(\"Media count: \" + str(user_info.media_count))\n",
    "    print(\"Private status: \" + str(user_info.private_status))\n",
    "    print(\"Follow count: \" + str(user_info.follower_count))\n",
    "    print(\"Following count: \" + str(user_info.following_count))\n",
    "    print(\"Bio text: \" + user_info.bio_text)\n",
    "    print(\"Url in bio: \" + user_info.url_in_bio)\n",
    "    print(\"Hashtag following count: \" + str(user_info.hashtag_following_count))\n",
    "    print(\"Usertags count: \" + str(user_info.usertags_count))"
   ]
  },
  {
   "cell_type": "code",
   "execution_count": 5,
   "metadata": {
    "scrolled": true
   },
   "outputs": [
    {
     "name": "stdout",
     "output_type": "stream",
     "text": [
      "Username: ryanlopezzzz\n",
      "User Id: 255272463\n",
      "Full name: Ryan Lopez\n",
      "Profile Pic Url: https://scontent-lax3-1.cdninstagram.com/v/t51.2885-19/s150x150/71332398_2133305030311574_6318002106229850112_n.jpg?_nc_ht=scontent-lax3-1.cdninstagram.com&_nc_cat=102&_nc_ohc=1P-x-2B3p5wAX8yyzCZ&edm=AKralEIBAAAA&ccb=7-4&oh=00_AT83_MT48B-9vU7ozEMHC0vc4x9REfcfRfHM4CF26G9kyw&oe=61CA2C52&_nc_sid=5e3072\n",
      "Media count: 14\n",
      "Private status: False\n",
      "Follow count: 638\n",
      "Following count: 392\n",
      "Bio text: \n",
      "Url in bio: https://youtu.be/nsaj6X8RsO0\n",
      "Hashtag following count: 0\n",
      "Usertags count: 104\n",
      "----------------------------------------------------------------------------------------------------\n",
      "Username: ruining99\n",
      "User Id: 2142436680\n",
      "Full name: Ruining Zhang\n",
      "Profile Pic Url: https://scontent-lax3-2.cdninstagram.com/v/t51.2885-19/s150x150/243385856_392184329034203_3685413185592972597_n.jpg?_nc_ht=scontent-lax3-2.cdninstagram.com&_nc_cat=111&_nc_ohc=d9AvcGcGuwsAX-Bs9RB&edm=AKralEIBAAAA&ccb=7-4&oh=00_AT81m72BXGl108FPnfu9G4wWWNgZRX4FraHhVqZo4UqoTg&oe=61C9E996&_nc_sid=5e3072\n",
      "Media count: 16\n",
      "Private status: False\n",
      "Follow count: 383\n",
      "Following count: 371\n",
      "Bio text: ☔️\n",
      "Url in bio: \n",
      "Hashtag following count: 7\n",
      "Usertags count: 56\n",
      "----------------------------------------------------------------------------------------------------\n",
      "Username: i_am_jorge_murillo\n",
      "User Id: 9984230653\n",
      "Full name: Jorge Murillo\n",
      "Profile Pic Url: https://scontent-lax3-2.cdninstagram.com/v/t51.2885-19/s150x150/134204562_867950880670603_3999276325048521108_n.jpg?_nc_ht=scontent-lax3-2.cdninstagram.com&_nc_cat=107&_nc_ohc=2P6DsabTdLkAX9O-iWq&edm=AKralEIBAAAA&ccb=7-4&oh=00_AT-0Yl3Queij5joEnJWOqy7vTvxqbBwjrhJua7-w4QZEyg&oe=61C97DDC&_nc_sid=5e3072\n",
      "Media count: 2\n",
      "Private status: True\n",
      "Follow count: 187\n",
      "Following count: 203\n",
      "Bio text: Pushing through things one quarantini at a time \n",
      "UCSB 2022\n",
      "Url in bio: \n",
      "Hashtag following count: 0\n",
      "Usertags count: 0\n",
      "----------------------------------------------------------------------------------------------------\n",
      "Username: cuteanimalzzzz123\n",
      "User Id: 50004795460\n",
      "Full name: Cute Animals\n",
      "Profile Pic Url: https://scontent-lax3-2.cdninstagram.com/v/t51.2885-19/s150x150/254468360_3135446006780605_1931375684411090830_n.jpg?_nc_ht=scontent-lax3-2.cdninstagram.com&_nc_cat=101&_nc_ohc=KvW3R69BwmwAX9T8_zr&edm=AKralEIBAAAA&ccb=7-4&oh=00_AT9rjjZX5bp2oGv3BvIp5NyvsRVlgo-uAdUDTMMzLVS19A&oe=61CA9028&_nc_sid=5e3072\n",
      "Media count: 1\n",
      "Private status: False\n",
      "Follow count: 0\n",
      "Following count: 2\n",
      "Bio text: I post cute animal photos! 🥰\n",
      "Url in bio: \n",
      "Hashtag following count: 0\n",
      "Usertags count: 0\n",
      "----------------------------------------------------------------------------------------------------\n",
      "Username: cute.animals\n",
      "User Id: 435102802\n",
      "Full name: CUTE ANIMALS!\n",
      "Profile Pic Url: https://scontent-lax3-2.cdninstagram.com/v/t51.2885-19/11375754_997769993619291_1383212852_a.jpg?_nc_ht=scontent-lax3-2.cdninstagram.com&_nc_cat=103&_nc_ohc=UkCMi6w_3NgAX9I7uY6&edm=AKralEIBAAAA&ccb=7-4&oh=00_AT92Hdx63dzORaCOPxKfU0Tjqbhfj-PweAdVJ9kKysuSJg&oe=61CA1F46&_nc_sid=5e3072\n",
      "Media count: 344\n",
      "Private status: False\n",
      "Follow count: 87955\n",
      "Following count: 1\n",
      "Bio text: instagram’s cutest animals page! 🤗🐾\n",
      "-\n",
      "Submit via dm📲\n",
      "Url in bio: \n",
      "Hashtag following count: 0\n",
      "Usertags count: 18500\n",
      "----------------------------------------------------------------------------------------------------\n"
     ]
    }
   ],
   "source": [
    "for username in test_usernames + large_test_usernames:\n",
    "    test_user_info(username)\n",
    "    print(\"-\"*100)"
   ]
  },
  {
   "cell_type": "markdown",
   "metadata": {},
   "source": [
    "# Test PublicUserInfoRequests() Class"
   ]
  },
  {
   "cell_type": "code",
   "execution_count": 6,
   "metadata": {},
   "outputs": [],
   "source": [
    "def test_public_user_info_requests(username):\n",
    "    puir = PublicUserInfoRequests(api,username)\n",
    "    followers_usernames = puir.get_followers_usernames()\n",
    "    print('Has a total of %d followers.'%puir.follower_count)\n",
    "    print('Loaded %d follower usernames.'%len(followers_usernames))\n",
    "    print('Peeking at first 3 followers: '+str(followers_usernames[:3]))\n",
    "    print()    \n",
    "    following_usernames = puir.get_following_usernames()\n",
    "    print('Has a total of %d following'%puir.following_count)\n",
    "    print('Loaded %d following usernames.'%len(following_usernames))\n",
    "    print('Peeking at first 3 following: '+str(following_usernames[:3]))\n",
    "    print()\n",
    "    user_feed_media_ids = puir.get_user_feed_media_ids()\n",
    "    print('Has a total of %d medias'%puir.media_count)\n",
    "    print('Loaded %d media (posts) ids.'%len(user_feed_media_ids))\n",
    "    print('Peeking at first 2 ids: ' + str(user_feed_media_ids[:2]))"
   ]
  },
  {
   "cell_type": "code",
   "execution_count": 7,
   "metadata": {},
   "outputs": [
    {
     "name": "stdout",
     "output_type": "stream",
     "text": [
      "Username: ryanlopezzzz\n",
      "\n",
      "Has a total of 638 followers.\n",
      "Loaded 638 follower usernames.\n",
      "Peeking at first 3 followers: ['jameshatesjameson', 'carconnell_', 'hidaniella']\n",
      "\n",
      "Has a total of 392 following\n",
      "Loaded 392 following usernames.\n",
      "Peeking at first 3 following: ['carconnell_', 'xubryana', 'c.hirish']\n",
      "\n",
      "Has a total of 14 medias\n",
      "Loaded 14 media (posts) ids.\n",
      "Peeking at first 2 ids: ['2112726015003571292_255272463', '2018080158682059371_255272463']\n",
      "----------------------------------------------------------------------------------------------------\n",
      "Username: ruining99\n",
      "\n",
      "Has a total of 383 followers.\n",
      "Loaded 383 follower usernames.\n",
      "Peeking at first 3 followers: ['cassandra.chow', 'xubryana', 'sunny_yang3']\n",
      "\n",
      "Has a total of 371 following\n",
      "Loaded 371 following usernames.\n",
      "Peeking at first 3 following: ['cassandra.chow', 'ameliamachum', 'xubryana']\n",
      "\n",
      "Has a total of 16 medias\n",
      "Loaded 16 media (posts) ids.\n",
      "Peeking at first 2 ids: ['2719733092604892811_2142436680', '2601326525749798387_2142436680']\n",
      "----------------------------------------------------------------------------------------------------\n",
      "Username: i_am_jorge_murillo\n",
      "\n",
      "Exception: ValueError, Message: Can't get following info from private account.\n",
      "----------------------------------------------------------------------------------------------------\n",
      "Username: cuteanimalzzzz123\n",
      "\n",
      "Has a total of 0 followers.\n",
      "Loaded 0 follower usernames.\n",
      "Peeking at first 3 followers: []\n",
      "\n",
      "Has a total of 2 following\n",
      "Loaded 2 following usernames.\n",
      "Peeking at first 3 following: ['luca.scharrer', 'ryanlopezzzz']\n",
      "\n",
      "Has a total of 1 medias\n",
      "Loaded 1 media (posts) ids.\n",
      "Peeking at first 2 ids: ['2704089042919460231_50004795460']\n",
      "----------------------------------------------------------------------------------------------------\n"
     ]
    }
   ],
   "source": [
    "for username in test_usernames:\n",
    "    print(\"Username: \" + username + '\\n')\n",
    "    try:\n",
    "        test_public_user_info_requests(username)\n",
    "    except Exception as e:\n",
    "        print('Exception: %s, Message: %s'%(type(e).__name__,e))\n",
    "    print(\"-\"*100)"
   ]
  },
  {
   "cell_type": "markdown",
   "metadata": {},
   "source": [
    "# Test MediaInfoRequests() Class\n",
    "Seems there can be an error where it loads less comments than get_comment_count() says there are."
   ]
  },
  {
   "cell_type": "code",
   "execution_count": 8,
   "metadata": {},
   "outputs": [],
   "source": [
    "def test_media_info_requests(username):\n",
    "    #Get user's most recent media id\n",
    "    puir = PublicUserInfoRequests(api,username)\n",
    "    user_feed_media_ids = puir.get_user_feed_media_ids()\n",
    "    most_recent_media_id = user_feed_media_ids[0]\n",
    "    \n",
    "    mir = MediaInfoRequests(api,most_recent_media_id)\n",
    "    print('Comment count: %d'%mir.get_comment_count())\n",
    "    print()                       \n",
    "    comments_text = mir.get_n_comments_text()\n",
    "    print('Loaded %d comments text.'%len(comments_text))\n",
    "    print('Peeking at first 2 comments: '+str(comments_text[:2]))\n",
    "    print()\n",
    "    comment_counter = mir.get_n_comment_count_per_username()\n",
    "    assert(sum(comment_counter.values())==len(comments_text)) \n",
    "    print('Loaded %d (username, comment count) data.'%len(comment_counter))\n",
    "    comment_counter_list = list(comment_counter.items())\n",
    "    print('Peeking at first 2 elements: '+str(comment_counter_list[:2]))"
   ]
  },
  {
   "cell_type": "code",
   "execution_count": 9,
   "metadata": {},
   "outputs": [
    {
     "name": "stdout",
     "output_type": "stream",
     "text": [
      "Testing on ryanlopezzzz's first post: \n",
      "\n",
      "Comment count: 7\n",
      "\n"
     ]
    },
    {
     "name": "stderr",
     "output_type": "stream",
     "text": [
      "/Users/ryanlopez/Desktop/Python_Programs/instagram-bot/instagram_api/utils/api_requests.py:111: UserWarning: _get_comments_info may not load all comments\n",
      "  warnings.warn('_get_comments_info may not load all comments')\n"
     ]
    },
    {
     "name": "stdout",
     "output_type": "stream",
     "text": [
      "Loaded 7 comments text.\n",
      "Peeking at first 2 comments: ['this is so aesthetic i see u', 'Hahahaha i love the second photo so much']\n",
      "\n",
      "Loaded 6 (username, comment count) data.\n",
      "Peeking at first 2 elements: [('emmawilt', 1), ('nicolekidess', 1)]\n",
      "----------------------------------------------------------------------------------------------------\n",
      "Testing on ruining99's first post: \n",
      "\n",
      "Comment count: 5\n",
      "\n",
      "Loaded 5 comments text.\n",
      "Peeking at first 2 comments: ['You are living the dream!!', '@jinglelikebells 有点意思']\n",
      "\n",
      "Loaded 4 (username, comment count) data.\n",
      "Peeking at first 2 elements: [('jessicalombarddo', 1), ('ruining99', 2)]\n",
      "----------------------------------------------------------------------------------------------------\n",
      "Testing on i_am_jorge_murillo's first post: \n",
      "\n",
      "Exception: ValueError, Message: Can't get following info from private account.\n",
      "----------------------------------------------------------------------------------------------------\n",
      "Testing on cuteanimalzzzz123's first post: \n",
      "\n",
      "Comment count: 0\n",
      "\n",
      "Loaded 0 comments text.\n",
      "Peeking at first 2 comments: []\n",
      "\n",
      "Loaded 0 (username, comment count) data.\n",
      "Peeking at first 2 elements: []\n",
      "----------------------------------------------------------------------------------------------------\n"
     ]
    }
   ],
   "source": [
    "for username in test_usernames: #+ large_test_usernames:\n",
    "    print(\"Testing on %s's first post: \\n\"%username)\n",
    "    try:\n",
    "        test_media_info_requests(username)\n",
    "    except Exception as e:\n",
    "        print('Exception: %s, Message: %s'%(type(e).__name__,e))\n",
    "    print(\"-\"*100)"
   ]
  },
  {
   "cell_type": "markdown",
   "metadata": {},
   "source": [
    "# Test InteractWithUsersActions() Class"
   ]
  },
  {
   "cell_type": "code",
   "execution_count": 10,
   "metadata": {},
   "outputs": [],
   "source": [
    "def test_interact_with_users_actions(username):\n",
    "    \"\"\"\n",
    "    Can check by looking onto the Instagram app when function is called\n",
    "    \"\"\"\n",
    "    #Get user's id and oldest media id\n",
    "    puir = PublicUserInfoRequests(api,username)\n",
    "    user_id = puir.user_id\n",
    "    user_feed_media_ids = puir.get_user_feed_media_ids()\n",
    "    oldest_media_id = user_feed_media_ids[-1]\n",
    "    \n",
    "    iwua = InteractWithUsersActions(api)\n",
    "    print('Following user %s...'%username)\n",
    "    iwua.follow_user(user_id)\n",
    "    print('Successfully followed - now sleeping')\n",
    "    time.sleep(30) #can check that this user was followed in this time\n",
    "    print()\n",
    "    print('Unfollowing user')\n",
    "    iwua.unfollow_user(user_id)\n",
    "    print('Successfully unfollowed - now sleeping')\n",
    "    time.sleep(10)\n",
    "    print()\n",
    "    print('Liking %s last media post'%username)\n",
    "    iwua.like_post(oldest_media_id)\n",
    "    print('Successfully liked - now sleeping')\n",
    "    time.sleep(10)\n",
    "    print()\n",
    "    comment = 'Great photo!'\n",
    "    print('Posting comment \\'%s\\' on %s last post'%(comment,username))\n",
    "    iwua.post_comment(oldest_media_id,comment)\n",
    "    print('Successfully posted comment.')"
   ]
  },
  {
   "cell_type": "code",
   "execution_count": null,
   "metadata": {},
   "outputs": [],
   "source": [
    "\"\"\"\n",
    "If you keep running this code you *might* get banned\n",
    "\"\"\"\n",
    "test_actions_username = test_usernames[0]\n",
    "print('Testing on user %s: \\n'%test_actions_username)\n",
    "test_interact_with_users_actions(test_actions_username)"
   ]
  }
 ],
 "metadata": {
  "kernelspec": {
   "display_name": "Python 3",
   "language": "python",
   "name": "python3"
  },
  "language_info": {
   "codemirror_mode": {
    "name": "ipython",
    "version": 3
   },
   "file_extension": ".py",
   "mimetype": "text/x-python",
   "name": "python",
   "nbconvert_exporter": "python",
   "pygments_lexer": "ipython3",
   "version": "3.7.4"
  }
 },
 "nbformat": 4,
 "nbformat_minor": 2
}
