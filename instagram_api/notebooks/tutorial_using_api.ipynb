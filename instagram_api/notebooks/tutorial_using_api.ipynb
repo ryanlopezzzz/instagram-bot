{
 "cells": [
  {
   "cell_type": "code",
   "execution_count": 43,
   "metadata": {},
   "outputs": [],
   "source": [
    "import sys\n",
    "import os\n",
    "import numpy as np\n",
    "instagram_api_folder = os.path.dirname(os.getcwd())\n",
    "sys.path.insert(1, instagram_api_folder)\n",
    "\n",
    "#Useful if editing python files and want to keep jupyter notebook running\n",
    "import importlib\n",
    "import utils.safe_api\n",
    "importlib.reload(utils.safe_api)\n",
    "\n",
    "from utils.safe_api import SafeClientExtended"
   ]
  },
  {
   "cell_type": "code",
   "execution_count": 44,
   "metadata": {},
   "outputs": [],
   "source": [
    "test_usernames = ['ryanlopezzzz', #small size public account example\n",
    "                  'ruining99', #small size public account example\n",
    "                  'i_am_jorge_murillo', #private account example\n",
    "                  'cuteanimalzzzz123' #API login account\n",
    "                 ]\n",
    "medium_test_usernames = ['julia.chesson'] #medium size public account\n",
    "large_test_usernames = ['cute.animals'] #large size public account"
   ]
  },
  {
   "cell_type": "markdown",
   "metadata": {},
   "source": [
    "# How to Log-In\n",
    "After logging in once, re-running this code does not use additional API calls. Define username-password pair in saved_info/usernames_passwords.txt\n",
    "\n",
    "Additional Key Word Arguments:\n",
    "* **api_call_wait_time_generator** - Determines how long the API should wait before making request. Should be a function that takes no inputs and outputs a time in seconds. Default is random between 3s and 4s.\n",
    "* **max_api_calls_per_hour** - Maximum amount of api calls per hour for single account. Throws ApiLimitReachedException on our side (safe) if reached this amount. Default: 160.\n",
    "* **retry_failed_call** - If set to True, instead of throwing error when API limit is reached, program will pause and resume when safe. Default: False"
   ]
  },
  {
   "cell_type": "code",
   "execution_count": 45,
   "metadata": {},
   "outputs": [],
   "source": [
    "kwargs = {\n",
    "    'api_call_wait_time_generator' : (lambda : np.random.uniform(low=3.0, high=4.0)),\n",
    "    'max_api_calls_per_hour' : 160,\n",
    "    'retry_failed_call' : False\n",
    "}\n",
    "\n",
    "api_username = 'cuteanimalzzzz123'\n",
    "api = SafeClientExtended(api_username, **kwargs) #don't need to pass in **kwargs"
   ]
  },
  {
   "cell_type": "markdown",
   "metadata": {},
   "source": [
    "# How to get single user info\n",
    "Getting a single user's info only requires 1 API call. You can use **api.username_info(username)** or **api.user_info(user_id)**"
   ]
  },
  {
   "cell_type": "code",
   "execution_count": 4,
   "metadata": {
    "scrolled": false
   },
   "outputs": [
    {
     "name": "stdout",
     "output_type": "stream",
     "text": [
      "USER INFO:\n",
      "username: ryanlopezzzz\n",
      "user_id: 255272463\n",
      "full_name: Ryan Lopez\n",
      "private_status: False\n",
      "profile_pic_url: https://scontent-sjc3-1.cdninstagram.com/v/t51.2885-19/s150x150/71332398_2133305030311574_6318002106229850112_n.jpg?_nc_ht=scontent-sjc3-1.cdninstagram.com&_nc_cat=102&_nc_ohc=wxx5-Asp1nsAX_OWbC9&edm=AKralEIBAAAA&ccb=7-4&oh=00_AT-oxUtr8impcz4SJ-UZCmYgRf3z_g5aFcv64vlDQSHllw&oe=61E3E192&_nc_sid=5e3072\n",
      "media_count: 14\n",
      "follower_count: 633\n",
      "following_count: 390\n",
      "bio_text: \n",
      "url_in_bio: https://youtu.be/nsaj6X8RsO0\n",
      "hashtag_following_count: 0\n",
      "usertags_count: 105\n",
      "--------------------------------------------------------------------------------\n",
      "\n",
      "USER INFO:\n",
      "username: ruining99\n",
      "user_id: 2142436680\n",
      "full_name: Ruining Zhang\n",
      "private_status: False\n",
      "profile_pic_url: https://scontent-sjc3-1.cdninstagram.com/v/t51.2885-19/s150x150/270095174_638765060885629_7676217408302914859_n.jpg?_nc_ht=scontent-sjc3-1.cdninstagram.com&_nc_cat=101&_nc_ohc=i5k-IUBSKNQAX8ZQ_zN&edm=AKralEIBAAAA&ccb=7-4&oh=00_AT_qqqy-9G8wf2mNZRJoCqq67jbpijFYePOiOEH1BqNf2w&oe=61E3C12C&_nc_sid=5e3072\n",
      "media_count: 17\n",
      "follower_count: 381\n",
      "following_count: 376\n",
      "bio_text: ☔️\n",
      "url_in_bio: \n",
      "hashtag_following_count: 7\n",
      "usertags_count: 57\n",
      "--------------------------------------------------------------------------------\n",
      "\n",
      "USER INFO:\n",
      "username: i_am_jorge_murillo\n",
      "user_id: 9984230653\n",
      "full_name: Jorge Murillo\n",
      "private_status: True\n",
      "profile_pic_url: https://scontent-sjc3-1.cdninstagram.com/v/t51.2885-19/s150x150/134204562_867950880670603_3999276325048521108_n.jpg?_nc_ht=scontent-sjc3-1.cdninstagram.com&_nc_cat=107&_nc_ohc=x61_6QFDqDQAX8J0lEH&edm=AKralEIBAAAA&ccb=7-4&oh=00_AT-jjoRiMqtyyrk-Pm-9wYW8FFlMHXqk4OjDF1YEHqietA&oe=61E3331C&_nc_sid=5e3072\n",
      "media_count: 2\n",
      "follower_count: 186\n",
      "following_count: 202\n",
      "bio_text: Pushing through things one quarantini at a time \n",
      "UCSB 2022\n",
      "url_in_bio: \n",
      "hashtag_following_count: 0\n",
      "usertags_count: 0\n",
      "--------------------------------------------------------------------------------\n",
      "\n",
      "USER INFO:\n",
      "username: cuteanimalzzzz123\n",
      "user_id: 50004795460\n",
      "full_name: Cute Animals\n",
      "private_status: False\n",
      "profile_pic_url: https://scontent-sjc3-1.cdninstagram.com/v/t51.2885-19/s150x150/254468360_3135446006780605_1931375684411090830_n.jpg?_nc_ht=scontent-sjc3-1.cdninstagram.com&_nc_cat=101&_nc_ohc=mROWHjNlZ84AX_WPgBQ&edm=AKralEIBAAAA&ccb=7-4&oh=00_AT9UloDo8D7yip0g0bRYYCbScNNFY7KeRfAY0e3CtIlAEg&oe=61E44568&_nc_sid=5e3072\n",
      "media_count: 1\n",
      "follower_count: 0\n",
      "following_count: 2\n",
      "bio_text: I post cute animal photos! 🥰\n",
      "url_in_bio: \n",
      "hashtag_following_count: 0\n",
      "usertags_count: 0\n",
      "--------------------------------------------------------------------------------\n",
      "\n",
      "USER INFO:\n",
      "username: julia.chesson\n",
      "user_id: 191039579\n",
      "full_name: jules!!\n",
      "private_status: False\n",
      "profile_pic_url: https://scontent-sjc3-1.cdninstagram.com/v/t51.2885-19/s150x150/239858939_197404145634528_4424809290978789183_n.jpg?_nc_ht=scontent-sjc3-1.cdninstagram.com&_nc_cat=100&_nc_ohc=NC7rjXL2PE4AX97xK6C&edm=AKralEIBAAAA&ccb=7-4&oh=00_AT8hAqGw5a5JVwbWWwOd-B9V5x0DhDUtaqSiqoZcU2QqbQ&oe=61E42F0D&_nc_sid=5e3072\n",
      "media_count: 129\n",
      "follower_count: 2935\n",
      "following_count: 1570\n",
      "bio_text: go2talent agency\n",
      "o models agency\n",
      "url_in_bio: \n",
      "hashtag_following_count: 0\n",
      "usertags_count: 594\n",
      "--------------------------------------------------------------------------------\n",
      "\n",
      "USER INFO:\n",
      "username: cute.animals\n",
      "user_id: 435102802\n",
      "full_name: CUTE ANIMALS!\n",
      "private_status: False\n",
      "profile_pic_url: https://scontent-sjc3-1.cdninstagram.com/v/t51.2885-19/11375754_997769993619291_1383212852_a.jpg?_nc_ht=scontent-sjc3-1.cdninstagram.com&_nc_cat=103&_nc_ohc=2h93VQu7JDUAX9DfiVQ&edm=AKralEIBAAAA&ccb=7-4&oh=00_AT9lYYWU0NVU3H0kv73bRdaxLAVo1qooiXeUfhxIm5yP8g&oe=61E3D486&_nc_sid=5e3072\n",
      "media_count: 344\n",
      "follower_count: 87814\n",
      "following_count: 1\n",
      "bio_text: instagram’s cutest animals page! 🤗🐾\n",
      "-\n",
      "Submit via dm📲\n",
      "url_in_bio: \n",
      "hashtag_following_count: 0\n",
      "usertags_count: 18525\n",
      "--------------------------------------------------------------------------------\n",
      "\n"
     ]
    }
   ],
   "source": [
    "collected_user_info = [] #collect this data for later use\n",
    "user_info_keys = [\n",
    "    'username',\n",
    "    'user_id',\n",
    "    'full_name',\n",
    "    'private_status',\n",
    "    'profile_pic_url',\n",
    "    'media_count',\n",
    "    'follower_count',\n",
    "    'following_count',\n",
    "    'bio_text',\n",
    "    'url_in_bio',\n",
    "    'hashtag_following_count',\n",
    "    'usertags_count'\n",
    "]\n",
    "for username in test_usernames+medium_test_usernames+large_test_usernames:\n",
    "    print('USER INFO:')\n",
    "    username_info = api.username_info(username)\n",
    "    for key in user_info_keys:\n",
    "        print(f\"{key}: {username_info[key]}\")\n",
    "    print('-'*80)\n",
    "    print()\n",
    "    collected_user_info.append(username_info)"
   ]
  },
  {
   "cell_type": "markdown",
   "metadata": {},
   "source": [
    "# How to get follower / following list\n",
    "\n",
    "Typically returns 100 user ids per API call (+1 API call to check the user is not private). Doesn't always return full list. You can use **api.user_followers(user_id)** and **api.user_following(user_id)**\n",
    "\n",
    "Additional Key Word Arguments (Useful for paging through long list of results.):\n",
    "* **begin_query_id** - Keeps track of where you left off in the list.\n",
    "* **num_results_stop_api_at** - Stop making API calls once this number of results has been returned (or until reach end of list). This will not necessarily be the number of results returned.\n",
    "\n",
    "Note: Ping's API gives errors when requesting any follower info from very popular accounts. I got errors on cute.animals (88,000 followers) and justinbeiber (215M followers)."
   ]
  },
  {
   "cell_type": "code",
   "execution_count": 5,
   "metadata": {},
   "outputs": [
    {
     "name": "stdout",
     "output_type": "stream",
     "text": [
      "Collecting data on user: ryanlopezzzz \n",
      "\n",
      "Total followers: 633\n",
      "Total followers loaded: 620\n",
      "Peeking at first three elements: [50004795460, 8478000530, 39612202963] \n",
      "\n",
      "Total following: 390\n",
      "Total following loaded: 390\n",
      "Peeking at first three elements: [8478000530, 39612202963, 199342698]\n",
      "--------------------------------------------------------------------------------\n",
      "\n",
      "Collecting data on user: ruining99 \n",
      "\n",
      "Total followers: 381\n",
      "Total followers loaded: 376\n",
      "Peeking at first three elements: [8478000530, 255272463, 51207545762] \n",
      "\n",
      "Total following: 376\n",
      "Total following loaded: 376\n",
      "Peeking at first three elements: [255272463, 8478000530, 51207545762]\n",
      "--------------------------------------------------------------------------------\n",
      "\n",
      "Collecting data on user: i_am_jorge_murillo \n",
      "\n",
      "Exception: ValueError, Message: Can't get this info from private account.\n",
      "--------------------------------------------------------------------------------\n",
      "\n",
      "Collecting data on user: cuteanimalzzzz123 \n",
      "\n",
      "Exception: ValueError, Message: Strange behavior when requesting your own info, needs further testing.\n",
      "--------------------------------------------------------------------------------\n",
      "\n"
     ]
    }
   ],
   "source": [
    "#Getting results on regular accounts\n",
    "for user_index, username in enumerate(test_usernames):\n",
    "    print(f'Collecting data on user: {username} \\n')\n",
    "    user_id = collected_user_info[user_index]['user_id']\n",
    "    try:\n",
    "        follower_count = collected_user_info[user_index]['follower_count']\n",
    "        user_followers, _ = api.user_followers(user_id)\n",
    "        print(f'Total followers: {follower_count}')\n",
    "        print(f'Total followers loaded: {len(user_followers)}')\n",
    "        print(f'Peeking at first three elements: {user_followers[:3]} \\n')\n",
    "        following_count = collected_user_info[user_index]['following_count']\n",
    "        user_following, _ = api.user_following(user_id)\n",
    "        print(f'Total following: {following_count}')\n",
    "        print(f'Total following loaded: {len(user_following)}')\n",
    "        print(f'Peeking at first three elements: {user_following[:3]}')\n",
    "    except Exception as e:\n",
    "        print('Exception: %s, Message: %s'%(type(e).__name__,e))\n",
    "    print('-'*80)\n",
    "    print()"
   ]
  },
  {
   "cell_type": "code",
   "execution_count": 6,
   "metadata": {},
   "outputs": [
    {
     "name": "stdout",
     "output_type": "stream",
     "text": [
      "Collecting data on user: julia.chesson\n",
      "Total followers: 87814\n",
      "Loaded the first 395 followers.\n",
      "Loaded an additional 394 followers.\n",
      "Sometimes the two lists contain duplicate followers, so should remove these.\n",
      "Total unique followers loaded: 789\n"
     ]
    }
   ],
   "source": [
    "#When getting follower info from a 'more' popular account, it may be useful to do this in different chunks.\n",
    "username = medium_test_usernames[0]\n",
    "user_id = collected_user_info[-2]['user_id']\n",
    "print(f'Collecting data on user: {username}')\n",
    "follower_count = collected_user_info[-1]['follower_count']\n",
    "print(f'Total followers: {follower_count}')\n",
    "\n",
    "first_user_followers, next_begin_query_id = api.user_followers(user_id, num_results_stop_api_at = 300)\n",
    "print(f'Loaded the first {len(first_user_followers)} followers.')\n",
    "more_user_followers, _ = api.user_followers(user_id, begin_query_id = next_begin_query_id, \n",
    "                                            num_results_stop_api_at = 300)\n",
    "print(f'Loaded an additional {len(more_user_followers)} followers.')\n",
    "print('Sometimes the two lists contain duplicate followers, so should remove these.')\n",
    "user_followers_no_duplicates = []\n",
    "for user in first_user_followers + more_user_followers:\n",
    "    if user not in user_followers_no_duplicates:\n",
    "        user_followers_no_duplicates.append(user)\n",
    "print(f'Total unique followers loaded: {len(user_followers_no_duplicates)}')"
   ]
  },
  {
   "cell_type": "markdown",
   "metadata": {},
   "source": [
    "# How to get media (post) info from a user\n",
    "Typically returns 18 posts per API call (+1 API call to check the user is not private). You can use **api.user_feed(user_id)**.\n",
    "\n",
    "Additional Key Word Arguments (Useful for paging through long list of results.):\n",
    "* **begin_query_id** - Keeps track of where you left off in the list.\n",
    "* **num_results_stop_api_at** - Stop making API calls once this number of results has been returned (or until reach end of list). This will not necessarily be the number of results returned.\n",
    "\n",
    "Note: Comment count includes caption."
   ]
  },
  {
   "cell_type": "code",
   "execution_count": 7,
   "metadata": {},
   "outputs": [
    {
     "name": "stdout",
     "output_type": "stream",
     "text": [
      "Collecting data on user: ryanlopezzzz \n",
      "\n",
      "Total number of posts: 14\n",
      "Total number of posts loaded: 14\n",
      "Peeking at first post data: {'media_id': '2112726015003571292_255272463', 'username': 'ryanlopezzzz', 'user_id': 255272463, 'like_count': 156, 'comment_count': 7, 'time_posted': 1566076588, 'num_sliding_content': 4, 'media_type': 8, 'caption_text': 'Pink wall lives up to the hype #fotofieldtrip', 'media_urls': ['https://scontent-sjc3-1.cdninstagram.com/v/t51.2885-15/e35/67083131_493918131397061_976073748018960648_n.jpg?se=8&_nc_ht=scontent-sjc3-1.cdninstagram.com&_nc_cat=105&_nc_ohc=EBYKIqCHvAEAX-VYZ5i&edm=ABmJApABAAAA&ccb=7-4&ig_cache_key=MjExMjcyNjAxMTc1Njk0NjAzMw%3D%3D.2-ccb7-4&oh=00_AT-W-OEsaHUGxdN6eQI7hS9lRZy9HxAYHyaJKFlDkNLqxA&oe=61E49BD8&_nc_sid=6136e7', 'https://scontent-sjc3-1.cdninstagram.com/v/t51.2885-15/e35/68965965_655095278311512_5384214181216759067_n.jpg?_nc_ht=scontent-sjc3-1.cdninstagram.com&_nc_cat=100&_nc_ohc=cqmlUsx-IgIAX_PYGMw&edm=ABmJApABAAAA&ccb=7-4&ig_cache_key=MjExMjcyNjAxMTc0ODY4MzI5OA%3D%3D.2-ccb7-4&oh=00_AT8pnx1Og2ZlMGGgy2lq7f7EhnakXZo6gG3yROj2dpmFLQ&oe=61E3B366&_nc_sid=6136e7', 'https://scontent-sjc3-1.cdninstagram.com/v/t51.2885-15/e35/66685143_127898745156698_7215760060615450222_n.jpg?se=8&_nc_ht=scontent-sjc3-1.cdninstagram.com&_nc_cat=102&_nc_ohc=7Y5cLoHT_NgAX8KqTS1&edm=ABmJApABAAAA&ccb=7-4&ig_cache_key=MjExMjcyNjAxMTczMTk1NTkxMw%3D%3D.2-ccb7-4&oh=00_AT9GTO_3xtOvp9z8LqtXrz-py7idxomcY1Ee3_W1OXYvGg&oe=61E3B636&_nc_sid=6136e7', 'https://scontent-sjc3-1.cdninstagram.com/v/t51.2885-15/e35/67759047_381139772601321_6162518142557843038_n.jpg?se=7&_nc_ht=scontent-sjc3-1.cdninstagram.com&_nc_cat=109&_nc_ohc=ifmykLXcI0wAX_5Hdva&edm=ABmJApABAAAA&ccb=7-4&ig_cache_key=MjExMjcyNjAxMTc1NzEyNjg1Mw%3D%3D.2-ccb7-4&oh=00_AT8p2XAErgJ180Msn1sPjJtJVfjgeutW0lcien90zFIjww&oe=61E3CCE4&_nc_sid=6136e7'], 'tagged_users': [1508727494, 262758892, 355959503, 4527462051]} \n",
      "\n",
      "--------------------------------------------------------------------------------\n",
      "\n",
      "Collecting data on user: ruining99 \n",
      "\n",
      "Total number of posts: 17\n",
      "Total number of posts loaded: 17\n",
      "Peeking at first post data: {'media_id': '2738327250983660783_2142436680', 'username': 'ruining99', 'user_id': 2142436680, 'like_count': 107, 'comment_count': 8, 'time_posted': 1640654067, 'num_sliding_content': 4, 'media_type': 8, 'caption_text': 'Found Nemo', 'media_urls': ['https://scontent-sjc3-1.cdninstagram.com/v/t51.2885-15/e35/270011706_502023511103768_7276994612814018288_n.jpg?se=7&_nc_ht=scontent-sjc3-1.cdninstagram.com&_nc_cat=108&_nc_ohc=TDtojV9mvewAX81B_GU&edm=ABmJApABAAAA&ccb=7-4&ig_cache_key=MjczODMyNzI0NTA0NDQ2MjIzOA%3D%3D.2-ccb7-4&oh=00_AT-jETb0D1l2kcXD4dRQgCOjBATJ05QLjMuC8Zu2TjGHZw&oe=61E46F27&_nc_sid=6136e7', 'https://scontent-sjc3-1.cdninstagram.com/v/t51.2885-15/e35/270372719_346627153503558_577368375907475491_n.jpg?se=7&_nc_ht=scontent-sjc3-1.cdninstagram.com&_nc_cat=106&_nc_ohc=BcpBHXp_gVUAX8PO7gl&edm=ABmJApABAAAA&ccb=7-4&ig_cache_key=MjczODMyNzI0NTAzNjExNjAwOA%3D%3D.2-ccb7-4&oh=00_AT9IDL-PnKMKfd5pdkMGJqIu85RD-4eoPRQ5dXglK5iFEw&oe=61E2C280&_nc_sid=6136e7', 'https://scontent-sjc3-1.cdninstagram.com/v/t51.2885-15/e35/270117794_213203931013670_7828635385950571119_n.jpg?se=7&_nc_ht=scontent-sjc3-1.cdninstagram.com&_nc_cat=102&_nc_ohc=wQAynruDl1gAX96wOVw&edm=ABmJApABAAAA&ccb=7-4&ig_cache_key=MjczODMyNzI0NTAxOTE4NTgyNA%3D%3D.2-ccb7-4&oh=00_AT_0BdpLIpUyjif-gV7w3iMR_rXTr_dOVwuzXxNpnuFumw&oe=61E3FE31&_nc_sid=6136e7', 'https://scontent-sjc3-1.cdninstagram.com/v/t51.2885-15/e35/270063831_376727797544026_7524257946970385548_n.jpg?se=7&_nc_ht=scontent-sjc3-1.cdninstagram.com&_nc_cat=110&_nc_ohc=tPq0BtqKBwQAX9ckRJn&edm=ABmJApABAAAA&ccb=7-4&ig_cache_key=MjczODMyNzI0NTAyNzc1MDU4MA%3D%3D.2-ccb7-4&oh=00_AT9f85VWEUYRIk98q0Y1JweA-IF3QouFQZgwj6aYMQ3Raw&oe=61E45BA7&_nc_sid=6136e7'], 'tagged_users': None} \n",
      "\n",
      "--------------------------------------------------------------------------------\n",
      "\n",
      "Collecting data on user: i_am_jorge_murillo \n",
      "\n",
      "Exception: ValueError, Message: Can't get this info from private account.\n",
      "--------------------------------------------------------------------------------\n",
      "\n",
      "Collecting data on user: cuteanimalzzzz123 \n",
      "\n",
      "Exception: ValueError, Message: Strange behavior when requesting your own info, needs further testing.\n",
      "--------------------------------------------------------------------------------\n",
      "\n"
     ]
    }
   ],
   "source": [
    "#Getting results on regular accounts\n",
    "for user_index, username in enumerate(test_usernames):\n",
    "    print(f'Collecting data on user: {username} \\n')\n",
    "    user_id = collected_user_info[user_index]['user_id']\n",
    "    try:\n",
    "        media_count = collected_user_info[user_index]['media_count']\n",
    "        user_feed, _ = api.user_feed(user_id)\n",
    "        print(f'Total number of posts: {media_count}')\n",
    "        print(f'Total number of posts loaded: {len(user_feed)}')\n",
    "        print(f'Peeking at first post data: {user_feed[0]} \\n')\n",
    "    except Exception as e:\n",
    "        print('Exception: %s, Message: %s'%(type(e).__name__,e))\n",
    "    print('-'*80)\n",
    "    print()"
   ]
  },
  {
   "cell_type": "code",
   "execution_count": 8,
   "metadata": {},
   "outputs": [
    {
     "name": "stdout",
     "output_type": "stream",
     "text": [
      "Collecting data on user: cute.animals\n",
      "Total number of posts: 344\n",
      "Loaded the first 54 posts.\n",
      "Loaded an additional 54 posts.\n",
      "Total posts loaded: 108\n"
     ]
    }
   ],
   "source": [
    "#Getting post info in different chunks\n",
    "username = collected_user_info[-1]['username']\n",
    "user_id = collected_user_info[-1]['user_id']\n",
    "print(f'Collecting data on user: {username}')\n",
    "media_count = collected_user_info[-1]['media_count']\n",
    "print(f'Total number of posts: {media_count}')\n",
    "\n",
    "first_user_feed, next_begin_query_id = api.user_feed(user_id, num_results_stop_api_at = 40)\n",
    "print(f'Loaded the first {len(first_user_feed)} posts.')\n",
    "more_user_feed, _ = api.user_feed(user_id, begin_query_id = next_begin_query_id, \n",
    "                                            num_results_stop_api_at = 40)\n",
    "print(f'Loaded an additional {len(more_user_feed)} posts.')\n",
    "collected_user_feed = first_user_feed + more_user_feed\n",
    "print(f'Total posts loaded: {len(collected_user_feed)}')"
   ]
  },
  {
   "cell_type": "markdown",
   "metadata": {},
   "source": [
    "# How to get specific likers / comments info\n",
    "\n",
    "It takes 1 API call to get about ~100 user ids that liked a post. Even on Instagram app, you can't view all likers. You can use **api.media_likers(media_id)**.\n",
    "\n",
    "It takes 1 API call to get info on 20 comments on post. You can use **api.media_comments(media_id)**. Additional keyword argument: **num_results_stop_api_at = 100**, returns at least this many results if enough comments exist.\n",
    "\n",
    "Note: Doesn't load caption as comment."
   ]
  },
  {
   "cell_type": "code",
   "execution_count": 47,
   "metadata": {},
   "outputs": [
    {
     "name": "stdout",
     "output_type": "stream",
     "text": [
      "MEDIA LIKERS:\n",
      "Loaded 97 user ids\n",
      "Peeking at first three: [1926588717, 437825333, 1378788367] \n",
      "\n",
      "MEDIA COMMENTS:\n",
      "Loaded 6 comments info\n",
      "Peeking at first comment info: {'user_id': 262758892, 'time_posted': 1566076665, 'text': 'Only hype post'}\n"
     ]
    }
   ],
   "source": [
    "example_media_id = '2112726015003571292_255272463' #post from ryanlopezzzz\n",
    "media_likers = api.media_likers(example_media_id)\n",
    "media_comments = api.media_comments(example_media_id, num_results_stop_api_at=100)\n",
    "print(f'MEDIA LIKERS:')\n",
    "print(f'Loaded {len(media_likers)} user ids')\n",
    "print(f'Peeking at first three: {media_likers[:3]} \\n')\n",
    "print(f'MEDIA COMMENTS:')\n",
    "print(f'Loaded {len(media_comments)} comments info')\n",
    "print(f'Peeking at first comment info: {media_comments[0]}')"
   ]
  },
  {
   "cell_type": "markdown",
   "metadata": {},
   "source": [
    "# How to follow / like / comment\n",
    "\n",
    "You can check Ping's API documentation for how to do this. It seems to be easy to get banned for using these features. Before commenting or liking, should check if these features are enabled on the post, which can be done through Ping's original API (but not wrapper class)."
   ]
  }
 ],
 "metadata": {
  "kernelspec": {
   "display_name": "Python 3",
   "language": "python",
   "name": "python3"
  },
  "language_info": {
   "codemirror_mode": {
    "name": "ipython",
    "version": 3
   },
   "file_extension": ".py",
   "mimetype": "text/x-python",
   "name": "python",
   "nbconvert_exporter": "python",
   "pygments_lexer": "ipython3",
   "version": "3.7.4"
  }
 },
 "nbformat": 4,
 "nbformat_minor": 2
}
