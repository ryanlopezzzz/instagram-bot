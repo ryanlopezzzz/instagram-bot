{
 "cells": [
  {
   "cell_type": "code",
   "execution_count": 1,
   "metadata": {},
   "outputs": [],
   "source": [
    "import sys\n",
    "import os\n",
    "import numpy as np\n",
    "instagram_api_folder = os.path.dirname(os.getcwd())\n",
    "sys.path.insert(1, instagram_api_folder)\n",
    "\n",
    "#Useful if editing python files and want to keep jupyter notebook running\n",
    "import importlib\n",
    "import utils.safe_api\n",
    "importlib.reload(utils.safe_api)\n",
    "\n",
    "from utils.safe_api import SafeClientExtended"
   ]
  },
  {
   "cell_type": "code",
   "execution_count": 2,
   "metadata": {},
   "outputs": [],
   "source": [
    "test_usernames = ['ryanlopezzzz', #small size public account example\n",
    "                  'ruining99', #small size public account example\n",
    "                  'i_am_jorge_murillo', #private account example\n",
    "                  'cuteanimalzzzz123' #API login account\n",
    "                 ]\n",
    "medium_test_usernames = ['julia.chesson'] #medium size public account\n",
    "large_test_usernames = ['cute.animals'] #large size public account"
   ]
  },
  {
   "cell_type": "markdown",
   "metadata": {},
   "source": [
    "# How to Log-In\n",
    "After logging in once, re-running this code does not use additional API calls.\n",
    "\n",
    "Additional Key Word Arguments:\n",
    "* **api_call_wait_time_generator** - Determines how long the API should wait before making request. Should be a function that takes no inputs and outputs a time in seconds. Default is random between 3s and 4s.\n",
    "* **max_api_calls_per_hour** - Maximum amount of api calls per hour for single account. Throws ApiLimitReachedException on our side (safe) if reached this amount. Default: 160.\n",
    "* **retry_failed_call** - If set to True, instead of throwing error when API limit is reached, program will pause and resume when safe. Default: False"
   ]
  },
  {
   "cell_type": "code",
   "execution_count": 3,
   "metadata": {},
   "outputs": [],
   "source": [
    "kwargs = {\n",
    "    'api_call_wait_time_generator' : (lambda : np.random.uniform(low=3.0, high=4.0)),\n",
    "    'max_api_calls_per_hour' : 160,\n",
    "    'retry_failed_call' : False\n",
    "}\n",
    "\n",
    "api_username = 'cuteanimalzzzz123'\n",
    "api_password = 'instabotOP'\n",
    "api = SafeClientExtended(api_username, api_password, **kwargs) #don't need to pass in **kwargs"
   ]
  },
  {
   "cell_type": "markdown",
   "metadata": {},
   "source": [
    "# How to get single user info\n",
    "Getting a single user's info only requires 1 API call. You can use **api.username_info(username)** or **api.user_info(user_id)**"
   ]
  },
  {
   "cell_type": "code",
   "execution_count": 4,
   "metadata": {
    "scrolled": false
   },
   "outputs": [
    {
     "name": "stdout",
     "output_type": "stream",
     "text": [
      "USER INFO:\n",
      "username: ryanlopezzzz\n",
      "user_id: 255272463\n",
      "full_name: Ryan Lopez\n",
      "private_status: False\n",
      "profile_pic_url: https://scontent-lax3-1.cdninstagram.com/v/t51.2885-19/s150x150/71332398_2133305030311574_6318002106229850112_n.jpg?_nc_ht=scontent-lax3-1.cdninstagram.com&_nc_cat=102&_nc_ohc=wxx5-Asp1nsAX_GpapC&edm=AKralEIBAAAA&ccb=7-4&oh=00_AT-V_CD8ssOkBP9x0pe777bsZo295OIZYbvYRWRhhVZHlA&oe=61E3E192&_nc_sid=5e3072\n",
      "media_count: 14\n",
      "follower_count: 633\n",
      "following_count: 390\n",
      "bio_text: \n",
      "url_in_bio: https://youtu.be/nsaj6X8RsO0\n",
      "hashtag_following_count: 0\n",
      "usertags_count: 105\n",
      "--------------------------------------------------------------------------------\n",
      "\n",
      "USER INFO:\n",
      "username: ruining99\n",
      "user_id: 2142436680\n",
      "full_name: Ruining Zhang\n",
      "private_status: False\n",
      "profile_pic_url: https://scontent-lax3-2.cdninstagram.com/v/t51.2885-19/s150x150/270095174_638765060885629_7676217408302914859_n.jpg?_nc_ht=scontent-lax3-2.cdninstagram.com&_nc_cat=101&_nc_ohc=i5k-IUBSKNQAX_CWuw1&edm=AKralEIBAAAA&ccb=7-4&oh=00_AT9e1TbgGcM0RXi_vvydXaZC3MDrEKcJRomV_T7qEZ2-PQ&oe=61E3C12C&_nc_sid=5e3072\n",
      "media_count: 17\n",
      "follower_count: 381\n",
      "following_count: 376\n",
      "bio_text: ☔️\n",
      "url_in_bio: \n",
      "hashtag_following_count: 7\n",
      "usertags_count: 57\n",
      "--------------------------------------------------------------------------------\n",
      "\n",
      "USER INFO:\n",
      "username: i_am_jorge_murillo\n",
      "user_id: 9984230653\n",
      "full_name: Jorge Murillo\n",
      "private_status: True\n",
      "profile_pic_url: https://scontent-lax3-2.cdninstagram.com/v/t51.2885-19/s150x150/134204562_867950880670603_3999276325048521108_n.jpg?_nc_ht=scontent-lax3-2.cdninstagram.com&_nc_cat=107&_nc_ohc=x61_6QFDqDQAX8wnqWb&edm=AKralEIBAAAA&ccb=7-4&oh=00_AT97hmyGoTHD-dyQZETMmyoe5p8CJv7Iy0PXs2vfUScibg&oe=61E3331C&_nc_sid=5e3072\n",
      "media_count: 2\n",
      "follower_count: 186\n",
      "following_count: 202\n",
      "bio_text: Pushing through things one quarantini at a time \n",
      "UCSB 2022\n",
      "url_in_bio: \n",
      "hashtag_following_count: 0\n",
      "usertags_count: 0\n",
      "--------------------------------------------------------------------------------\n",
      "\n",
      "USER INFO:\n",
      "username: cuteanimalzzzz123\n",
      "user_id: 50004795460\n",
      "full_name: Cute Animals\n",
      "private_status: False\n",
      "profile_pic_url: https://scontent-lax3-2.cdninstagram.com/v/t51.2885-19/s150x150/254468360_3135446006780605_1931375684411090830_n.jpg?_nc_ht=scontent-lax3-2.cdninstagram.com&_nc_cat=101&_nc_ohc=mROWHjNlZ84AX8MhyT1&edm=AKralEIBAAAA&ccb=7-4&oh=00_AT_IyPEytFidMEOZguiHHEVyTv4REVsVtjAi62kp1egExA&oe=61E44568&_nc_sid=5e3072\n",
      "media_count: 1\n",
      "follower_count: 0\n",
      "following_count: 2\n",
      "bio_text: I post cute animal photos! 🥰\n",
      "url_in_bio: \n",
      "hashtag_following_count: 0\n",
      "usertags_count: 0\n",
      "--------------------------------------------------------------------------------\n",
      "\n",
      "USER INFO:\n",
      "username: julia.chesson\n",
      "user_id: 191039579\n",
      "full_name: jules!!\n",
      "private_status: False\n",
      "profile_pic_url: https://scontent-lax3-2.cdninstagram.com/v/t51.2885-19/s150x150/239858939_197404145634528_4424809290978789183_n.jpg?_nc_ht=scontent-lax3-2.cdninstagram.com&_nc_cat=100&_nc_ohc=NC7rjXL2PE4AX-e_isp&edm=AKralEIBAAAA&ccb=7-4&oh=00_AT_1qTr3lY7bhBMgV8oGuE6wfAIXFNTrzwDs1g1fsbLC5Q&oe=61E42F0D&_nc_sid=5e3072\n",
      "media_count: 129\n",
      "follower_count: 2935\n",
      "following_count: 1570\n",
      "bio_text: go2talent agency\n",
      "o models agency\n",
      "url_in_bio: \n",
      "hashtag_following_count: 0\n",
      "usertags_count: 594\n",
      "--------------------------------------------------------------------------------\n",
      "\n",
      "USER INFO:\n",
      "username: cute.animals\n",
      "user_id: 435102802\n",
      "full_name: CUTE ANIMALS!\n",
      "private_status: False\n",
      "profile_pic_url: https://scontent-lax3-2.cdninstagram.com/v/t51.2885-19/11375754_997769993619291_1383212852_a.jpg?_nc_ht=scontent-lax3-2.cdninstagram.com&_nc_cat=103&_nc_ohc=2h93VQu7JDUAX9GagV-&edm=AKralEIBAAAA&ccb=7-4&oh=00_AT-l0gCIYgVTQ9ZNv-9WBTYvpJx-oq4rEmzXcnxn0qlxgw&oe=61E3D486&_nc_sid=5e3072\n",
      "media_count: 344\n",
      "follower_count: 87817\n",
      "following_count: 1\n",
      "bio_text: instagram’s cutest animals page! 🤗🐾\n",
      "-\n",
      "Submit via dm📲\n",
      "url_in_bio: \n",
      "hashtag_following_count: 0\n",
      "usertags_count: 18524\n",
      "--------------------------------------------------------------------------------\n",
      "\n"
     ]
    }
   ],
   "source": [
    "collected_user_info = [] #collect this data for later use\n",
    "user_info_keys = [\n",
    "    'username',\n",
    "    'user_id',\n",
    "    'full_name',\n",
    "    'private_status',\n",
    "    'profile_pic_url',\n",
    "    'media_count',\n",
    "    'follower_count',\n",
    "    'following_count',\n",
    "    'bio_text',\n",
    "    'url_in_bio',\n",
    "    'hashtag_following_count',\n",
    "    'usertags_count'\n",
    "]\n",
    "for username in test_usernames+medium_test_usernames+large_test_usernames:\n",
    "    print('USER INFO:')\n",
    "    username_info = api.username_info(username)\n",
    "    for key in user_info_keys:\n",
    "        print(f\"{key}: {username_info[key]}\")\n",
    "    print('-'*80)\n",
    "    print()\n",
    "    collected_user_info.append(username_info)"
   ]
  },
  {
   "cell_type": "markdown",
   "metadata": {},
   "source": [
    "# How to get follower / following list\n",
    "\n",
    "Typically returns 100 usernames / user ids per API call (+1 API call to check the user is not private). Doesn't always return full list. You can use **api.user_followers(user_id)** and **api.user_following(user_id)**\n",
    "\n",
    "Additional Key Word Arguments (Useful for paging through long list of results.):\n",
    "* **begin_query_id** - Keeps track of where you left off in the list.\n",
    "* **num_results_stop_api_at** - Stop making API calls once this number of results has been returned (or until reach end of list). This will not necessarily be the number of results returned.\n",
    "\n",
    "Note: Ping's API gives errors when requesting any follower info from very popular accounts. I got errors on cute.animals (88,000 followers) and justinbeiber (215M followers)."
   ]
  },
  {
   "cell_type": "code",
   "execution_count": 5,
   "metadata": {},
   "outputs": [
    {
     "name": "stdout",
     "output_type": "stream",
     "text": [
      "Collecting data on user: ryanlopezzzz \n",
      "\n",
      "Total followers: 633\n",
      "Total followers loaded: 622\n",
      "Peeking at first three elements: [[50004795460, 'cuteanimalzzzz123'], [8478000530, 'luca.scharrer'], [39612202963, 'carconnell_']] \n",
      "\n",
      "Total following: 390\n",
      "Total following loaded: 390\n",
      "Peeking at first three elements: [[8478000530, 'luca.scharrer'], [39612202963, 'carconnell_'], [249745606, 'grace.v.corrigan']]\n",
      "--------------------------------------------------------------------------------\n",
      "\n",
      "Collecting data on user: ruining99 \n",
      "\n",
      "Total followers: 381\n",
      "Total followers loaded: 379\n",
      "Peeking at first three elements: [[8478000530, 'luca.scharrer'], [255272463, 'ryanlopezzzz'], [51207545762, 'allyminju']] \n",
      "\n",
      "Total following: 376\n",
      "Total following loaded: 376\n",
      "Peeking at first three elements: [[255272463, 'ryanlopezzzz'], [8478000530, 'luca.scharrer'], [51207545762, 'allyminju']]\n",
      "--------------------------------------------------------------------------------\n",
      "\n",
      "Collecting data on user: i_am_jorge_murillo \n",
      "\n",
      "Exception: ValueError, Message: Can't get this info from private account.\n",
      "--------------------------------------------------------------------------------\n",
      "\n",
      "Collecting data on user: cuteanimalzzzz123 \n",
      "\n",
      "Exception: ValueError, Message: Strange behavior when requesting your own info, needs further testing.\n",
      "--------------------------------------------------------------------------------\n",
      "\n"
     ]
    }
   ],
   "source": [
    "#Getting results on regular accounts\n",
    "for user_index, username in enumerate(test_usernames):\n",
    "    print(f'Collecting data on user: {username} \\n')\n",
    "    user_id = collected_user_info[user_index]['user_id']\n",
    "    try:\n",
    "        follower_count = collected_user_info[user_index]['follower_count']\n",
    "        user_followers, _ = api.user_followers(user_id)\n",
    "        print(f'Total followers: {follower_count}')\n",
    "        print(f'Total followers loaded: {len(user_followers)}')\n",
    "        print(f'Peeking at first three elements: {user_followers[:3]} \\n')\n",
    "        following_count = collected_user_info[user_index]['following_count']\n",
    "        user_following, _ = api.user_following(user_id)\n",
    "        print(f'Total following: {following_count}')\n",
    "        print(f'Total following loaded: {len(user_following)}')\n",
    "        print(f'Peeking at first three elements: {user_following[:3]}')\n",
    "    except Exception as e:\n",
    "        print('Exception: %s, Message: %s'%(type(e).__name__,e))\n",
    "    print('-'*80)\n",
    "    print()"
   ]
  },
  {
   "cell_type": "code",
   "execution_count": 6,
   "metadata": {},
   "outputs": [
    {
     "name": "stdout",
     "output_type": "stream",
     "text": [
      "Collecting data on user: julia.chesson\n",
      "Total followers: 87817\n",
      "Loaded the first 392 followers.\n",
      "Loaded an additional 393 followers.\n",
      "Sometimes the two lists contain duplicate followers, so should remove these.\n",
      "Total unique followers loaded: 784\n"
     ]
    }
   ],
   "source": [
    "#When getting follower info from a 'more' popular account, it may be useful to do this in different chunks.\n",
    "username = medium_test_usernames[0]\n",
    "user_id = collected_user_info[-2]['user_id']\n",
    "print(f'Collecting data on user: {username}')\n",
    "follower_count = collected_user_info[-1]['follower_count']\n",
    "print(f'Total followers: {follower_count}')\n",
    "\n",
    "first_user_followers, next_begin_query_id = api.user_followers(user_id, num_results_stop_api_at = 300)\n",
    "print(f'Loaded the first {len(first_user_followers)} followers.')\n",
    "more_user_followers, _ = api.user_followers(user_id, begin_query_id = next_begin_query_id, \n",
    "                                            num_results_stop_api_at = 300)\n",
    "print(f'Loaded an additional {len(more_user_followers)} followers.')\n",
    "print('Sometimes the two lists contain duplicate followers, so should remove these.')\n",
    "user_followers_no_duplicates = []\n",
    "for user in first_user_followers + more_user_followers:\n",
    "    if user not in user_followers_no_duplicates:\n",
    "        user_followers_no_duplicates.append(user)\n",
    "print(f'Total unique followers loaded: {len(user_followers_no_duplicates)}')"
   ]
  },
  {
   "cell_type": "markdown",
   "metadata": {},
   "source": [
    "# How to get media (post) info from a user\n",
    "Typically returns 18 posts per API call (+1 API call to check the user is not private). You can use **api.user_feed(user_id)**.\n",
    "\n",
    "Additional Key Word Arguments (Useful for paging through long list of results.):\n",
    "* **begin_query_id** - Keeps track of where you left off in the list.\n",
    "* **num_results_stop_api_at** - Stop making API calls once this number of results has been returned (or until reach end of list). This will not necessarily be the number of results returned."
   ]
  },
  {
   "cell_type": "code",
   "execution_count": 7,
   "metadata": {},
   "outputs": [
    {
     "name": "stdout",
     "output_type": "stream",
     "text": [
      "Collecting data on user: ryanlopezzzz \n",
      "\n",
      "Total number of posts: 14\n",
      "Total number of posts loaded: 14\n",
      "Peeking at first post data: {'media_id': '2112726015003571292_255272463', 'username': 'ryanlopezzzz', 'user_id': 255272463, 'like_count': 156, 'comment_count': 7, 'time_posted': 1566076588, 'num_sliding_content': 4, 'media_type': 8, 'caption_text': 'Pink wall lives up to the hype #fotofieldtrip', 'media_urls': ['https://scontent-lax3-1.cdninstagram.com/v/t51.2885-15/e35/67083131_493918131397061_976073748018960648_n.jpg?se=8&_nc_ht=scontent-lax3-1.cdninstagram.com&_nc_cat=105&_nc_ohc=EBYKIqCHvAEAX8Bg4YT&edm=ABmJApABAAAA&ccb=7-4&ig_cache_key=MjExMjcyNjAxMTc1Njk0NjAzMw%3D%3D.2-ccb7-4&oh=00_AT8AiNNcMBhjb2kkoCOalohYFerfKyrzMwAYsq6B4jHy9w&oe=61E2A198&_nc_sid=6136e7', 'https://scontent-lax3-2.cdninstagram.com/v/t51.2885-15/e35/68965965_655095278311512_5384214181216759067_n.jpg?_nc_ht=scontent-lax3-2.cdninstagram.com&_nc_cat=100&_nc_ohc=cqmlUsx-IgIAX8UI_gE&edm=ABmJApABAAAA&ccb=7-4&ig_cache_key=MjExMjcyNjAxMTc0ODY4MzI5OA%3D%3D.2-ccb7-4&oh=00_AT8zRwiw_y4gucGG2HxMsrY_kMoJeJP0Y_dJvAMmxawc8w&oe=61E3B366&_nc_sid=6136e7', 'https://scontent-lax3-1.cdninstagram.com/v/t51.2885-15/e35/66685143_127898745156698_7215760060615450222_n.jpg?se=8&_nc_ht=scontent-lax3-1.cdninstagram.com&_nc_cat=102&_nc_ohc=7Y5cLoHT_NgAX-2Bq__&edm=ABmJApABAAAA&ccb=7-4&ig_cache_key=MjExMjcyNjAxMTczMTk1NTkxMw%3D%3D.2-ccb7-4&oh=00_AT9r8tN-5pxcxAN7W5T9du3iZngF2LmmJJYjCQ1hhIJ8fQ&oe=61E3B636&_nc_sid=6136e7', 'https://scontent-lax3-1.cdninstagram.com/v/t51.2885-15/e35/67759047_381139772601321_6162518142557843038_n.jpg?se=7&_nc_ht=scontent-lax3-1.cdninstagram.com&_nc_cat=109&_nc_ohc=ifmykLXcI0wAX9D1_3D&edm=ABmJApABAAAA&ccb=7-4&ig_cache_key=MjExMjcyNjAxMTc1NzEyNjg1Mw%3D%3D.2-ccb7-4&oh=00_AT9C7vMJ7GMYFnMBhpFVs9wBtPQOjdNnM5bWlh7DdJ0Ppw&oe=61E3CCE4&_nc_sid=6136e7'], 'tagged_users': [[1508727494, 'bentsuruda'], [262758892, 'jessicalombarddo'], [355959503, 'alanistewartt'], [4527462051, 'simplyy.sky']]} \n",
      "\n",
      "--------------------------------------------------------------------------------\n",
      "\n",
      "Collecting data on user: ruining99 \n",
      "\n",
      "Total number of posts: 17\n",
      "Total number of posts loaded: 17\n",
      "Peeking at first post data: {'media_id': '2738327250983660783_2142436680', 'username': 'ruining99', 'user_id': 2142436680, 'like_count': 107, 'comment_count': 8, 'time_posted': 1640654067, 'num_sliding_content': 4, 'media_type': 8, 'caption_text': 'Found Nemo', 'media_urls': ['https://scontent-lax3-1.cdninstagram.com/v/t51.2885-15/e35/270011706_502023511103768_7276994612814018288_n.jpg?se=7&_nc_ht=scontent-lax3-1.cdninstagram.com&_nc_cat=108&_nc_ohc=TDtojV9mvewAX-fl0B3&edm=ABmJApABAAAA&ccb=7-4&ig_cache_key=MjczODMyNzI0NTA0NDQ2MjIzOA%3D%3D.2-ccb7-4&oh=00_AT9akLtMlaDrAGiEf2tD9ia_BVk2oEr2a7zbupEE2LxofQ&oe=61E46F27&_nc_sid=6136e7', 'https://scontent-lax3-2.cdninstagram.com/v/t51.2885-15/e35/270372719_346627153503558_577368375907475491_n.jpg?se=7&_nc_ht=scontent-lax3-2.cdninstagram.com&_nc_cat=106&_nc_ohc=BcpBHXp_gVUAX-cysJn&edm=ABmJApABAAAA&ccb=7-4&ig_cache_key=MjczODMyNzI0NTAzNjExNjAwOA%3D%3D.2-ccb7-4&oh=00_AT82QIioyDW5tR2QFO-9el4Hj1pzletCZ9UI5FVFBGj6qw&oe=61E2C280&_nc_sid=6136e7', 'https://scontent-lax3-1.cdninstagram.com/v/t51.2885-15/e35/270117794_213203931013670_7828635385950571119_n.jpg?se=7&_nc_ht=scontent-lax3-1.cdninstagram.com&_nc_cat=102&_nc_ohc=wQAynruDl1gAX_ymHqd&edm=ABmJApABAAAA&ccb=7-4&ig_cache_key=MjczODMyNzI0NTAxOTE4NTgyNA%3D%3D.2-ccb7-4&oh=00_AT-ikm_45Hfy8Ox_vMnoY5YQwwHk4pANIN56Lq-rmR0FfA&oe=61E3FE31&_nc_sid=6136e7', 'https://scontent-lax3-1.cdninstagram.com/v/t51.2885-15/e35/270063831_376727797544026_7524257946970385548_n.jpg?se=7&_nc_ht=scontent-lax3-1.cdninstagram.com&_nc_cat=110&_nc_ohc=tPq0BtqKBwQAX8awcPo&edm=ABmJApABAAAA&ccb=7-4&ig_cache_key=MjczODMyNzI0NTAyNzc1MDU4MA%3D%3D.2-ccb7-4&oh=00_AT_fmdWdzOuUx94URpRYHaf3dIMOdhCqIHXZfyTN9TkSXw&oe=61E45BA7&_nc_sid=6136e7'], 'tagged_users': None} \n",
      "\n",
      "--------------------------------------------------------------------------------\n",
      "\n",
      "Collecting data on user: i_am_jorge_murillo \n",
      "\n",
      "Exception: ValueError, Message: Can't get this info from private account.\n",
      "--------------------------------------------------------------------------------\n",
      "\n",
      "Collecting data on user: cuteanimalzzzz123 \n",
      "\n",
      "Exception: ValueError, Message: Strange behavior when requesting your own info, needs further testing.\n",
      "--------------------------------------------------------------------------------\n",
      "\n"
     ]
    }
   ],
   "source": [
    "#Getting results on regular accounts\n",
    "for user_index, username in enumerate(test_usernames):\n",
    "    print(f'Collecting data on user: {username} \\n')\n",
    "    user_id = collected_user_info[user_index]['user_id']\n",
    "    try:\n",
    "        media_count = collected_user_info[user_index]['media_count']\n",
    "        user_feed, _ = api.user_feed(user_id)\n",
    "        print(f'Total number of posts: {media_count}')\n",
    "        print(f'Total number of posts loaded: {len(user_feed)}')\n",
    "        print(f'Peeking at first post data: {user_feed[0]} \\n')\n",
    "    except Exception as e:\n",
    "        print('Exception: %s, Message: %s'%(type(e).__name__,e))\n",
    "    print('-'*80)\n",
    "    print()"
   ]
  },
  {
   "cell_type": "code",
   "execution_count": 8,
   "metadata": {},
   "outputs": [
    {
     "name": "stdout",
     "output_type": "stream",
     "text": [
      "Collecting data on user: cute.animals\n",
      "Total number of posts: 344\n",
      "Loaded the first 54 posts.\n",
      "Loaded an additional 54 posts.\n",
      "Total posts loaded: 108\n"
     ]
    }
   ],
   "source": [
    "#Getting post info in different chunks\n",
    "username = collected_user_info[-1]['username']\n",
    "user_id = collected_user_info[-1]['user_id']\n",
    "print(f'Collecting data on user: {username}')\n",
    "media_count = collected_user_info[-1]['media_count']\n",
    "print(f'Total number of posts: {media_count}')\n",
    "\n",
    "first_user_feed, next_begin_query_id = api.user_feed(user_id, num_results_stop_api_at = 40)\n",
    "print(f'Loaded the first {len(first_user_feed)} posts.')\n",
    "more_user_feed, _ = api.user_feed(user_id, begin_query_id = next_begin_query_id, \n",
    "                                            num_results_stop_api_at = 40)\n",
    "print(f'Loaded an additional {len(more_user_feed)} posts.')\n",
    "collected_user_feed = first_user_feed + more_user_feed\n",
    "print(f'Total posts loaded: {len(collected_user_feed)}')"
   ]
  },
  {
   "cell_type": "markdown",
   "metadata": {},
   "source": [
    "# How to follow / like / comment\n",
    "\n",
    "You can check Ping's API documentation for how to do this. It seems to be easy to get banned for using these features. Before commenting or liking, should check if these features are enabled on the post, which can be done through Ping's original API (but not wrapper class)."
   ]
  }
 ],
 "metadata": {
  "kernelspec": {
   "display_name": "Python 3",
   "language": "python",
   "name": "python3"
  },
  "language_info": {
   "codemirror_mode": {
    "name": "ipython",
    "version": 3
   },
   "file_extension": ".py",
   "mimetype": "text/x-python",
   "name": "python",
   "nbconvert_exporter": "python",
   "pygments_lexer": "ipython3",
   "version": "3.7.4"
  }
 },
 "nbformat": 4,
 "nbformat_minor": 2
}
