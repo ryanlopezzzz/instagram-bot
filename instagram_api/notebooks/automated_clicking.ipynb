{
 "cells": [
  {
   "cell_type": "code",
   "execution_count": 33,
   "metadata": {},
   "outputs": [],
   "source": [
    "from pyclick import HumanClicker\n",
    "from pynput.keyboard import (Controller as KeyboardController, Key)\n",
    "from pynput.mouse import Controller as MouseController\n",
    "import time\n",
    "import random\n",
    "import numpy as np"
   ]
  },
  {
   "cell_type": "code",
   "execution_count": 41,
   "metadata": {},
   "outputs": [],
   "source": [
    "def type_string_with_delay(string, keyboard_controller):\n",
    "    \"\"\"\n",
    "    Type input with keyboard\n",
    "    \"\"\"\n",
    "    for character in string:\n",
    "        keyboard_controller.type(character)\n",
    "        delay = random.uniform(0.05, 0.4)\n",
    "        time.sleep(delay)\n",
    "\n",
    "def test_mouse_position(mouse_controller, wait_time=5):\n",
    "    \"\"\"\n",
    "    Used for testing where a button's pixel location is\n",
    "    \"\"\"\n",
    "    time.sleep(wait_time)\n",
    "    print(f'The mouse was at position {mouse_controller.position} after {wait_time}s')\n",
    "\n",
    "def add_randomness_to_click_position(click_position, pixel_variance):\n",
    "    click_x_position, click_y_position = click_position\n",
    "    random_click_x_position = int(click_x_position + np.random.normal(0, pixel_variance))\n",
    "    random_click_y_position = int(click_y_position + np.random.normal(0, pixel_variance))\n",
    "    return (random_click_x_position, random_click_y_position)\n",
    "\n",
    "def go_to_next_explore_post(keyboard_controller):\n",
    "    keyboard_controller.press(Key.right)\n",
    "    time.sleep(random.uniform(0.1,0.2))\n",
    "    keyboard_controller.press(Key.release)\n",
    "\n",
    "def click_on_explore_button(human_clicker):\n",
    "    explore_button_position = (1083.8359375, 139.359375)\n",
    "    click_button_position = add_randomness_to_click_position(explore_button_position, 5)\n",
    "    human_clicker.move(click_button_position, random.uniform(0.7, 2))\n",
    "    time.sleep(random.uniform(0.4, 0.7))\n",
    "    human_clicker.click()\n",
    "\n",
    "def click_on_explore_post(human_clicker):\n",
    "    post_button_position = (394.11328125, 338.796875)\n",
    "    click_button_position = add_randomness_to_click_position(post_button_position, 30)\n",
    "    human_clicker.move(click_button_position, random.uniform(0.7, 2))\n",
    "    time.sleep(random.uniform(0.4, 0.7))\n",
    "    human_clicker.click()\n",
    "\n",
    "def start_explore_session(human_clicker, keyboard_controller, num_posts = 3):\n",
    "    click_on_explore_button(human_clicker)\n",
    "    click_on_explore_post(human_clicker)\n",
    "    for _ in range(num_posts):\n",
    "        time.sleep(random.uniform(5, 11))\n",
    "        go_to_next_explore_post(keyboard_controller)"
   ]
  },
  {
   "cell_type": "code",
   "execution_count": 28,
   "metadata": {},
   "outputs": [
    {
     "name": "stdout",
     "output_type": "stream",
     "text": [
      "The mouse was at position (394.11328125, 338.796875) after 5s\n"
     ]
    }
   ],
   "source": [
    "mouse_controller = MouseController()\n",
    "test_mouse_position\n",
    "mouse_controller"
   ]
  },
  {
   "cell_type": "code",
   "execution_count": 43,
   "metadata": {},
   "outputs": [
    {
     "ename": "TypeError",
     "evalue": "'Key' object is not iterable",
     "output_type": "error",
     "traceback": [
      "\u001b[0;31m---------------------------------------------------------------------------\u001b[0m",
      "\u001b[0;31mTypeError\u001b[0m                                 Traceback (most recent call last)",
      "\u001b[0;32m/var/folders/tx/q3232g455csdf_4pq82gggdc0000gn/T/ipykernel_97498/4180125979.py\u001b[0m in \u001b[0;36m<module>\u001b[0;34m\u001b[0m\n\u001b[1;32m      2\u001b[0m \u001b[0mkeyboard_controller\u001b[0m \u001b[0;34m=\u001b[0m \u001b[0mKeyboardController\u001b[0m\u001b[0;34m(\u001b[0m\u001b[0;34m)\u001b[0m\u001b[0;34m\u001b[0m\u001b[0;34m\u001b[0m\u001b[0m\n\u001b[1;32m      3\u001b[0m \u001b[0mtime\u001b[0m\u001b[0;34m.\u001b[0m\u001b[0msleep\u001b[0m\u001b[0;34m(\u001b[0m\u001b[0;36m4\u001b[0m\u001b[0;34m)\u001b[0m\u001b[0;34m\u001b[0m\u001b[0;34m\u001b[0m\u001b[0m\n\u001b[0;32m----> 4\u001b[0;31m \u001b[0mstart_explore_session\u001b[0m\u001b[0;34m(\u001b[0m\u001b[0mhuman_clicker\u001b[0m\u001b[0;34m,\u001b[0m \u001b[0mkeyboard_controller\u001b[0m\u001b[0;34m)\u001b[0m\u001b[0;34m\u001b[0m\u001b[0;34m\u001b[0m\u001b[0m\n\u001b[0m",
      "\u001b[0;32m/var/folders/tx/q3232g455csdf_4pq82gggdc0000gn/T/ipykernel_97498/2173701037.py\u001b[0m in \u001b[0;36mstart_explore_session\u001b[0;34m(human_clicker, keyboard_controller, num_posts)\u001b[0m\n\u001b[1;32m     43\u001b[0m     \u001b[0;32mfor\u001b[0m \u001b[0m_\u001b[0m \u001b[0;32min\u001b[0m \u001b[0mrange\u001b[0m\u001b[0;34m(\u001b[0m\u001b[0mnum_posts\u001b[0m\u001b[0;34m)\u001b[0m\u001b[0;34m:\u001b[0m\u001b[0;34m\u001b[0m\u001b[0;34m\u001b[0m\u001b[0m\n\u001b[1;32m     44\u001b[0m         \u001b[0mtime\u001b[0m\u001b[0;34m.\u001b[0m\u001b[0msleep\u001b[0m\u001b[0;34m(\u001b[0m\u001b[0mrandom\u001b[0m\u001b[0;34m.\u001b[0m\u001b[0muniform\u001b[0m\u001b[0;34m(\u001b[0m\u001b[0;36m5\u001b[0m\u001b[0;34m,\u001b[0m \u001b[0;36m11\u001b[0m\u001b[0;34m)\u001b[0m\u001b[0;34m)\u001b[0m\u001b[0;34m\u001b[0m\u001b[0;34m\u001b[0m\u001b[0m\n\u001b[0;32m---> 45\u001b[0;31m         \u001b[0mgo_to_next_explore_post\u001b[0m\u001b[0;34m(\u001b[0m\u001b[0mkeyboard_controller\u001b[0m\u001b[0;34m)\u001b[0m\u001b[0;34m\u001b[0m\u001b[0;34m\u001b[0m\u001b[0m\n\u001b[0m",
      "\u001b[0;32m/var/folders/tx/q3232g455csdf_4pq82gggdc0000gn/T/ipykernel_97498/2173701037.py\u001b[0m in \u001b[0;36mgo_to_next_explore_post\u001b[0;34m(keyboard_controller)\u001b[0m\n\u001b[1;32m     22\u001b[0m \u001b[0;34m\u001b[0m\u001b[0m\n\u001b[1;32m     23\u001b[0m \u001b[0;32mdef\u001b[0m \u001b[0mgo_to_next_explore_post\u001b[0m\u001b[0;34m(\u001b[0m\u001b[0mkeyboard_controller\u001b[0m\u001b[0;34m)\u001b[0m\u001b[0;34m:\u001b[0m\u001b[0;34m\u001b[0m\u001b[0;34m\u001b[0m\u001b[0m\n\u001b[0;32m---> 24\u001b[0;31m     \u001b[0mkeyboard_controller\u001b[0m\u001b[0;34m.\u001b[0m\u001b[0mtype\u001b[0m\u001b[0;34m(\u001b[0m\u001b[0mKey\u001b[0m\u001b[0;34m.\u001b[0m\u001b[0mright\u001b[0m\u001b[0;34m)\u001b[0m\u001b[0;34m\u001b[0m\u001b[0;34m\u001b[0m\u001b[0m\n\u001b[0m\u001b[1;32m     25\u001b[0m \u001b[0;34m\u001b[0m\u001b[0m\n\u001b[1;32m     26\u001b[0m \u001b[0;32mdef\u001b[0m \u001b[0mclick_on_explore_button\u001b[0m\u001b[0;34m(\u001b[0m\u001b[0mhuman_clicker\u001b[0m\u001b[0;34m)\u001b[0m\u001b[0;34m:\u001b[0m\u001b[0;34m\u001b[0m\u001b[0;34m\u001b[0m\u001b[0m\n",
      "\u001b[0;32m~/opt/anaconda3/envs/insta_bot_env/lib/python3.7/site-packages/pynput/keyboard/_base.py\u001b[0m in \u001b[0;36mtype\u001b[0;34m(self, string)\u001b[0m\n\u001b[1;32m    486\u001b[0m         \"\"\"\n\u001b[1;32m    487\u001b[0m         \u001b[0;32mfrom\u001b[0m \u001b[0;34m.\u001b[0m \u001b[0;32mimport\u001b[0m \u001b[0m_CONTROL_CODES\u001b[0m\u001b[0;34m\u001b[0m\u001b[0;34m\u001b[0m\u001b[0m\n\u001b[0;32m--> 488\u001b[0;31m         \u001b[0;32mfor\u001b[0m \u001b[0mi\u001b[0m\u001b[0;34m,\u001b[0m \u001b[0mcharacter\u001b[0m \u001b[0;32min\u001b[0m \u001b[0menumerate\u001b[0m\u001b[0;34m(\u001b[0m\u001b[0mstring\u001b[0m\u001b[0;34m)\u001b[0m\u001b[0;34m:\u001b[0m\u001b[0;34m\u001b[0m\u001b[0;34m\u001b[0m\u001b[0m\n\u001b[0m\u001b[1;32m    489\u001b[0m             \u001b[0mkey\u001b[0m \u001b[0;34m=\u001b[0m \u001b[0m_CONTROL_CODES\u001b[0m\u001b[0;34m.\u001b[0m\u001b[0mget\u001b[0m\u001b[0;34m(\u001b[0m\u001b[0mcharacter\u001b[0m\u001b[0;34m,\u001b[0m \u001b[0mcharacter\u001b[0m\u001b[0;34m)\u001b[0m\u001b[0;34m\u001b[0m\u001b[0;34m\u001b[0m\u001b[0m\n\u001b[1;32m    490\u001b[0m             \u001b[0;32mtry\u001b[0m\u001b[0;34m:\u001b[0m\u001b[0;34m\u001b[0m\u001b[0;34m\u001b[0m\u001b[0m\n",
      "\u001b[0;31mTypeError\u001b[0m: 'Key' object is not iterable"
     ]
    }
   ],
   "source": [
    "human_clicker = HumanClicker()\n",
    "keyboard_controller = KeyboardController()\n",
    "time.sleep(4)\n",
    "start_explore_session(human_clicker, keyboard_controller)"
   ]
  }
 ],
 "metadata": {
  "kernelspec": {
   "display_name": "Python 3",
   "language": "python",
   "name": "python3"
  },
  "language_info": {
   "codemirror_mode": {
    "name": "ipython",
    "version": 3
   },
   "file_extension": ".py",
   "mimetype": "text/x-python",
   "name": "python",
   "nbconvert_exporter": "python",
   "pygments_lexer": "ipython3",
   "version": "3.7.12"
  }
 },
 "nbformat": 4,
 "nbformat_minor": 2
}
