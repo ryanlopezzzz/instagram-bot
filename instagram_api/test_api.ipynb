{
 "cells": [
  {
   "cell_type": "code",
   "execution_count": 1,
   "metadata": {},
   "outputs": [],
   "source": [
    "from instagram_private_api import Client, ClientCompatPatch\n",
    "import api_requests\n",
    "import safe_api\n",
    "import importlib\n",
    "importlib.reload(api_requests)\n",
    "importlib.reload(safe_api)\n",
    "from api_requests import (BasicUserInfo, UserInfo, PublicUserInfoRequests, MediaInfoRequests, \n",
    "                            InteractWithUsersActions, CollectDataThroughHashtags)\n",
    "from safe_api import SafeClient\n",
    "import time\n",
    "import pdb"
   ]
  },
  {
   "cell_type": "code",
   "execution_count": 2,
   "metadata": {},
   "outputs": [],
   "source": [
    "username = 'cuteanimalzzzz123'\n",
    "password = 'instabotOP'\n",
    "api = SafeClient(username, password)"
   ]
  },
  {
   "cell_type": "code",
   "execution_count": 3,
   "metadata": {},
   "outputs": [],
   "source": [
    "test_usernames = ['ryanlopezzzz', #small size public account example\n",
    "                  'ruining99', #small size public account example\n",
    "                  'i_am_jorge_murillo', #private account example\n",
    "                  'cuteanimalzzzz123' #API login account\n",
    "                 ]\n",
    "large_test_usernames = ['cute.animals'] #large size public account"
   ]
  },
  {
   "cell_type": "markdown",
   "metadata": {},
   "source": [
    "# Test UserInfo() Class"
   ]
  },
  {
   "cell_type": "code",
   "execution_count": 4,
   "metadata": {},
   "outputs": [],
   "source": [
    "def test_user_info(username):\n",
    "    \"\"\"\n",
    "    Can check against true values by going onto Instagram app.\n",
    "    \"\"\"\n",
    "    user_info = UserInfo(api, username)\n",
    "    print(\"Username: \" + user_info.username)\n",
    "    print(\"User Id: \" + str(user_info.user_id))\n",
    "    print(\"Full name: \" + user_info.full_name)\n",
    "    print(\"Profile Pic Url: \" + user_info.profile_pic_url)\n",
    "    print(\"Media count: \" + str(user_info.media_count))\n",
    "    print(\"Private status: \" + str(user_info.private_status))\n",
    "    print(\"Follow count: \" + str(user_info.follower_count))\n",
    "    print(\"Following count: \" + str(user_info.following_count))\n",
    "    print(\"Bio text: \" + user_info.bio_text)\n",
    "    print(\"Url in bio: \" + user_info.url_in_bio)\n",
    "    print(\"Hashtag following count: \" + str(user_info.hashtag_following_count))\n",
    "    print(\"Usertags count: \" + str(user_info.usertags_count))"
   ]
  },
  {
   "cell_type": "code",
   "execution_count": 5,
   "metadata": {},
   "outputs": [
    {
     "name": "stdout",
     "output_type": "stream",
     "text": [
      "Username: ryanlopezzzz\n",
      "User Id: 255272463\n",
      "Full name: Ryan Lopez\n",
      "Profile Pic Url: https://scontent-lax3-1.cdninstagram.com/v/t51.2885-19/s150x150/71332398_2133305030311574_6318002106229850112_n.jpg?_nc_ht=scontent-lax3-1.cdninstagram.com&_nc_cat=102&_nc_ohc=XN6cRe-ZmCMAX8ILjpb&edm=AKralEIBAAAA&ccb=7-4&oh=e05ca625048bce425ac45100615fbed4&oe=61BE4ED2&_nc_sid=5e3072\n",
      "Media count: 14\n",
      "Private status: False\n",
      "Follow count: 637\n",
      "Following count: 391\n",
      "Bio text: \n",
      "Url in bio: https://youtu.be/nsaj6X8RsO0\n",
      "Hashtag following count: 0\n",
      "Usertags count: 102\n",
      "----------------------------------------------------------------------------------------------------\n",
      "Username: ruining99\n",
      "User Id: 2142436680\n",
      "Full name: Ruining Zhang\n",
      "Profile Pic Url: https://scontent-lax3-2.cdninstagram.com/v/t51.2885-19/s150x150/243385856_392184329034203_3685413185592972597_n.jpg?_nc_ht=scontent-lax3-2.cdninstagram.com&_nc_cat=111&_nc_ohc=xw6bzkqbt3AAX-9dBey&edm=AKralEIBAAAA&ccb=7-4&oh=e188dd3c568b925545757768869b7ad5&oe=61BE0C16&_nc_sid=5e3072\n",
      "Media count: 16\n",
      "Private status: False\n",
      "Follow count: 384\n",
      "Following count: 371\n",
      "Bio text: ☔️\n",
      "Url in bio: \n",
      "Hashtag following count: 7\n",
      "Usertags count: 55\n",
      "----------------------------------------------------------------------------------------------------\n",
      "Username: i_am_jorge_murillo\n",
      "User Id: 9984230653\n",
      "Full name: Jorge Murillo\n",
      "Profile Pic Url: https://scontent-lax3-2.cdninstagram.com/v/t51.2885-19/s150x150/134204562_867950880670603_3999276325048521108_n.jpg?_nc_ht=scontent-lax3-2.cdninstagram.com&_nc_cat=107&_nc_ohc=pcddTBcW3oMAX_jJsZG&edm=AKralEIBAAAA&ccb=7-4&oh=bd577bc3614205e53ff02fd5410ba07a&oe=61BDA05C&_nc_sid=5e3072\n",
      "Media count: 2\n",
      "Private status: True\n",
      "Follow count: 186\n",
      "Following count: 202\n",
      "Bio text: Pushing through things one quarantini at a time \n",
      "UCSB 2022\n",
      "Url in bio: \n",
      "Hashtag following count: 0\n",
      "Usertags count: 0\n",
      "----------------------------------------------------------------------------------------------------\n",
      "Username: cuteanimalzzzz123\n",
      "User Id: 50004795460\n",
      "Full name: Cute Animals\n",
      "Profile Pic Url: https://scontent-lax3-2.cdninstagram.com/v/t51.2885-19/s150x150/254468360_3135446006780605_1931375684411090830_n.jpg?_nc_ht=scontent-lax3-2.cdninstagram.com&_nc_cat=101&_nc_ohc=YZ_U4t_XpuUAX8kZYne&edm=AKralEIBAAAA&ccb=7-4&oh=00_AT9TcQudvMwXJqB-3UY7ZZ1-MCqx7Tpa2laaM16Jgp_u-Q&oe=61BCB868&_nc_sid=5e3072\n",
      "Media count: 1\n",
      "Private status: False\n",
      "Follow count: 0\n",
      "Following count: 2\n",
      "Bio text: I post cute animal photos! 🥰\n",
      "Url in bio: \n",
      "Hashtag following count: 0\n",
      "Usertags count: 0\n",
      "----------------------------------------------------------------------------------------------------\n",
      "Username: cute.animals\n",
      "User Id: 435102802\n",
      "Full name: CUTE ANIMALS!\n",
      "Profile Pic Url: https://scontent-lax3-2.cdninstagram.com/v/t51.2885-19/11375754_997769993619291_1383212852_a.jpg?_nc_ht=scontent-lax3-2.cdninstagram.com&_nc_cat=103&_nc_ohc=SMDMR2-jt-cAX8lpQGp&edm=AKralEIBAAAA&ccb=7-4&oh=275d9bc447face133e2c83e9dbef745f&oe=61BE41C6&_nc_sid=5e3072\n",
      "Media count: 344\n",
      "Private status: False\n",
      "Follow count: 88001\n",
      "Following count: 0\n",
      "Bio text: instagram’s cutest animals page! 🤗🐾\n",
      "-\n",
      "Submit via dm📲\n",
      "Url in bio: \n",
      "Hashtag following count: 0\n",
      "Usertags count: 18474\n",
      "----------------------------------------------------------------------------------------------------\n"
     ]
    }
   ],
   "source": [
    "for username in test_usernames + large_test_usernames:\n",
    "    test_user_info(username)\n",
    "    print(\"-\"*100)"
   ]
  },
  {
   "cell_type": "markdown",
   "metadata": {},
   "source": [
    "# Test PublicUserInfoRequests() Class"
   ]
  },
  {
   "cell_type": "code",
   "execution_count": 7,
   "metadata": {},
   "outputs": [],
   "source": [
    "def test_public_user_info_requests(username):\n",
    "    puir = PublicUserInfoRequests(api,username)\n",
    "    followers_usernames = puir.get_followers_usernames()\n",
    "    print('Has a total of %d followers.'%puir.follower_count)\n",
    "    print('Loaded %d follower usernames.'%len(followers_usernames))\n",
    "    print('Peeking at first 3 followers: '+str(followers_usernames[:3]))\n",
    "    print()    \n",
    "    following_usernames = puir.get_following_usernames()\n",
    "    print('Has a total of %d following'%puir.following_count)\n",
    "    print('Loaded %d following usernames.'%len(following_usernames))\n",
    "    print('Peeking at first 3 following: '+str(following_usernames[:3]))\n",
    "    print()\n",
    "    user_feed_media_ids = puir.get_user_feed_media_ids()\n",
    "    print('Has a total of %d medias'%puir.media_count)\n",
    "    print('Loaded %d media (posts) ids.'%len(user_feed_media_ids))\n",
    "    print('Peeking at first 2 ids: ' + str(user_feed_media_ids[:2]))"
   ]
  },
  {
   "cell_type": "code",
   "execution_count": 8,
   "metadata": {},
   "outputs": [
    {
     "name": "stdout",
     "output_type": "stream",
     "text": [
      "Username: ryanlopezzzz\n",
      "\n",
      "Has a total of 637 followers.\n",
      "Loaded 637 follower usernames.\n",
      "Peeking at first 3 followers: ['cuteanimalzzzz123', 'luca.scharrer', 'jameshatesjameson']\n",
      "\n",
      "Has a total of 391 following\n",
      "Loaded 391 following usernames.\n",
      "Peeking at first 3 following: ['luca.scharrer', 'carconnell_', 'xubryana']\n",
      "\n",
      "Has a total of 14 medias\n",
      "Loaded 14 media (posts) ids.\n",
      "Peeking at first 2 ids: ['2112726015003571292_255272463', '2018080158682059371_255272463']\n",
      "----------------------------------------------------------------------------------------------------\n",
      "Username: ruining99\n",
      "\n",
      "Has a total of 384 followers.\n",
      "Loaded 384 follower usernames.\n",
      "Peeking at first 3 followers: ['ryanlopezzzz', 'luca.scharrer', 'rabbit__fan_']\n",
      "\n",
      "Has a total of 371 following\n",
      "Loaded 371 following usernames.\n",
      "Peeking at first 3 following: ['ryanlopezzzz', 'luca.scharrer', '_juliaballesteros']\n",
      "\n",
      "Has a total of 16 medias\n",
      "Loaded 16 media (posts) ids.\n",
      "Peeking at first 2 ids: ['2719733092604892811_2142436680', '2601326525749798387_2142436680']\n",
      "----------------------------------------------------------------------------------------------------\n",
      "Username: i_am_jorge_murillo\n",
      "\n",
      "Exception: ValueError, Message: Can't get following info from private account.\n",
      "----------------------------------------------------------------------------------------------------\n",
      "Username: cuteanimalzzzz123\n",
      "\n",
      "Exception: ValueError, Message: Strange behavior when requesting your own info, needs further testing.\n",
      "----------------------------------------------------------------------------------------------------\n"
     ]
    }
   ],
   "source": [
    "for username in test_usernames:\n",
    "    print(\"Username: \" + username + '\\n')\n",
    "    try:\n",
    "        test_public_user_info_requests(username)\n",
    "    except Exception as e:\n",
    "        print('Exception: %s, Message: %s'%(type(e).__name__,e))\n",
    "    print(\"-\"*100)"
   ]
  },
  {
   "cell_type": "markdown",
   "metadata": {},
   "source": [
    "# Test MediaInfoRequests() Class\n",
    "Seems there can be an error where it loads less comments than get_comment_count() says there are."
   ]
  },
  {
   "cell_type": "code",
   "execution_count": 9,
   "metadata": {},
   "outputs": [],
   "source": [
    "def test_media_info_requests(username):\n",
    "    #Get user's most recent media id\n",
    "    puir = PublicUserInfoRequests(api,username)\n",
    "    user_feed_media_ids = puir.get_user_feed_media_ids()\n",
    "    most_recent_media_id = user_feed_media_ids[0]\n",
    "    \n",
    "    mir = MediaInfoRequests(api,most_recent_media_id)\n",
    "    print('Comment count: %d'%mir.get_comment_count())\n",
    "    print()                       \n",
    "    comments_text = mir.get_n_comments_text()\n",
    "    print('Loaded %d comments text.'%len(comments_text))\n",
    "    print('Peeking at first 2 comments: '+str(comments_text[:2]))\n",
    "    print()\n",
    "    comment_counter = mir.get_n_comment_count_per_username()\n",
    "    assert(sum(comment_counter.values())==len(comments_text)) \n",
    "    print('Loaded %d (username, comment count) data.'%len(comment_counter))\n",
    "    comment_counter_list = list(comment_counter.items())\n",
    "    print('Peeking at first 2 elements: '+str(comment_counter_list[:2]))"
   ]
  },
  {
   "cell_type": "code",
   "execution_count": 10,
   "metadata": {},
   "outputs": [
    {
     "name": "stdout",
     "output_type": "stream",
     "text": [
      "Testing on ryanlopezzzz's first post: \n",
      "\n",
      "Comment count: 7\n",
      "\n",
      "Exception: Warning, Message: _get_comments_info may not load all comments\n",
      "----------------------------------------------------------------------------------------------------\n",
      "Testing on ruining99's first post: \n",
      "\n",
      "Comment count: 5\n",
      "\n",
      "Exception: Warning, Message: _get_comments_info may not load all comments\n",
      "----------------------------------------------------------------------------------------------------\n",
      "Testing on i_am_jorge_murillo's first post: \n",
      "\n",
      "Exception: ValueError, Message: Can't get following info from private account.\n",
      "----------------------------------------------------------------------------------------------------\n",
      "Testing on cuteanimalzzzz123's first post: \n",
      "\n",
      "Exception: ValueError, Message: Strange behavior when requesting your own info, needs further testing.\n",
      "----------------------------------------------------------------------------------------------------\n"
     ]
    }
   ],
   "source": [
    "for username in test_usernames: #+ large_test_usernames:\n",
    "    print(\"Testing on %s's first post: \\n\"%username)\n",
    "    try:\n",
    "        test_media_info_requests(username)\n",
    "    except Exception as e:\n",
    "        print('Exception: %s, Message: %s'%(type(e).__name__,e))\n",
    "    print(\"-\"*100)"
   ]
  },
  {
   "cell_type": "markdown",
   "metadata": {},
   "source": [
    "# Test InteractWithUsersActions() Class"
   ]
  },
  {
   "cell_type": "code",
   "execution_count": null,
   "metadata": {},
   "outputs": [],
   "source": [
    "def test_interact_with_users_actions(username):\n",
    "    \"\"\"\n",
    "    Can check by looking onto the Instagram app when function is called\n",
    "    \"\"\"\n",
    "    #Get user's id and oldest media id\n",
    "    puir = PublicUserInfoRequests(api,username)\n",
    "    user_id = puir.user_id\n",
    "    user_feed_media_ids = puir.get_user_feed_media_ids()\n",
    "    oldest_media_id = user_feed_media_ids[-1]\n",
    "    \n",
    "    iwua = InteractWithUsersActions(api)\n",
    "    print('Following user %s...'%username)\n",
    "    iwua.follow_user(user_id)\n",
    "    print('Successfully followed - now sleeping')\n",
    "    time.sleep(30) #can check that this user was followed in this time\n",
    "    print()\n",
    "    print('Unfollowing user')\n",
    "    iwua.unfollow_user(user_id)\n",
    "    print('Successfully unfollowed - now sleeping')\n",
    "    time.sleep(10)\n",
    "    print()\n",
    "    print('Liking %s last media post'%username)\n",
    "    iwua.like_post(oldest_media_id)\n",
    "    print('Successfully liked - now sleeping')\n",
    "    time.sleep(10)\n",
    "    print()\n",
    "    comment = 'Great photo!'\n",
    "    print('Posting comment \\'%s\\' on %s last post'%(comment,username))\n",
    "    iwua.post_comment(oldest_media_id,comment)\n",
    "    print('Successfully posted comment.')"
   ]
  },
  {
   "cell_type": "code",
   "execution_count": null,
   "metadata": {},
   "outputs": [],
   "source": [
    "\"\"\"\n",
    "If you keep running this code you might get banned\n",
    "\"\"\"\n",
    "test_actions_username = test_usernames[0]\n",
    "print('Testing on user %s: \\n'%test_actions_username)\n",
    "test_interact_with_users_actions(test_actions_username)"
   ]
  }
 ],
 "metadata": {
  "kernelspec": {
   "display_name": "Python 3",
   "language": "python",
   "name": "python3"
  },
  "language_info": {
   "codemirror_mode": {
    "name": "ipython",
    "version": 3
   },
   "file_extension": ".py",
   "mimetype": "text/x-python",
   "name": "python",
   "nbconvert_exporter": "python",
   "pygments_lexer": "ipython3",
   "version": "3.7.4"
  }
 },
 "nbformat": 4,
 "nbformat_minor": 2
}
