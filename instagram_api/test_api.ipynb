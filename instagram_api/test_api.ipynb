{
 "cells": [
  {
   "cell_type": "code",
   "execution_count": 1,
   "metadata": {},
   "outputs": [],
   "source": [
    "from instagram_private_api import Client, ClientCompatPatch\n",
    "import api_requests\n",
    "import safe_api\n",
    "import importlib\n",
    "importlib.reload(api_requests)\n",
    "importlib.reload(safe_api)\n",
    "from api_requests import (BasicUserInfo, PublicUserInfoRequests, MediaInfoRequests, \n",
    "                            InteractWithUsersActions, CollectDataThroughHashtags)\n",
    "from safe_api import SafeClient\n",
    "import time\n",
    "import pdb"
   ]
  },
  {
   "cell_type": "code",
   "execution_count": 2,
   "metadata": {},
   "outputs": [],
   "source": [
    "\"\"\"\n",
    "Only run once, multiple log ins will cause account ban\n",
    "TODO: Figure out how to cache auth cookie details. Hints: Can call api.cookie_jar, look into client.py\n",
    "\"\"\"\n",
    "username = 'cuteanimalzzzz123'\n",
    "password = 'instabotOP'\n",
    "api = SafeClient(username, password)"
   ]
  },
  {
   "cell_type": "code",
   "execution_count": 3,
   "metadata": {},
   "outputs": [],
   "source": [
    "test_usernames = ['ryanlopezzzz', #small size public account example\n",
    "                  'ruining99', #small size public account example\n",
    "                  'i_am_jorge_murillo', #private account example\n",
    "                  'cuteanimalzzzz123' #API login account\n",
    "                 ]\n",
    "large_test_usernames = ['cute.animals'] #large size public account"
   ]
  },
  {
   "cell_type": "markdown",
   "metadata": {},
   "source": [
    "# Test BasicUserInfo() Class"
   ]
  },
  {
   "cell_type": "code",
   "execution_count": 4,
   "metadata": {},
   "outputs": [],
   "source": [
    "def test_basic_user_info(username):\n",
    "    \"\"\"\n",
    "    Can check against true values by going onto Instagram app.\n",
    "    \"\"\"\n",
    "    basic_user_info = BasicUserInfo(api, username)\n",
    "    print(\"User Id: \" + str(basic_user_info.user_id))\n",
    "    print(\"Follow count: \" + str(basic_user_info.follower_count))\n",
    "    print(\"Following count: \" + str(basic_user_info.following_count))\n",
    "    print(\"Media count: \" + str(basic_user_info.media_count))\n",
    "    print(\"Private status: \" + str(basic_user_info.private_status))"
   ]
  },
  {
   "cell_type": "code",
   "execution_count": 5,
   "metadata": {},
   "outputs": [
    {
     "name": "stdout",
     "output_type": "stream",
     "text": [
      "Username: ryanlopezzzz\n",
      "User Id: 255272463\n",
      "Follow count: 636\n",
      "Following count: 391\n",
      "Media count: 14\n",
      "Private status: False\n",
      "----------------------------------------------------------------------------------------------------\n",
      "Username: ruining99\n",
      "User Id: 2142436680\n",
      "Follow count: 384\n",
      "Following count: 371\n",
      "Media count: 15\n",
      "Private status: False\n",
      "----------------------------------------------------------------------------------------------------\n",
      "Username: i_am_jorge_murillo\n",
      "User Id: 9984230653\n",
      "Follow count: 176\n",
      "Following count: 193\n",
      "Media count: 2\n",
      "Private status: True\n",
      "----------------------------------------------------------------------------------------------------\n",
      "Username: cuteanimalzzzz123\n",
      "User Id: 50004795460\n",
      "Follow count: 0\n",
      "Following count: 1\n",
      "Media count: 0\n",
      "Private status: False\n",
      "----------------------------------------------------------------------------------------------------\n",
      "Username: cute.animals\n",
      "User Id: 435102802\n",
      "Follow count: 88151\n",
      "Following count: 1\n",
      "Media count: 344\n",
      "Private status: False\n",
      "----------------------------------------------------------------------------------------------------\n"
     ]
    }
   ],
   "source": [
    "for username in test_usernames + large_test_usernames:\n",
    "    print(\"Username: \" + username)\n",
    "    test_basic_user_info(username)\n",
    "    print(\"-\"*100)"
   ]
  },
  {
   "cell_type": "markdown",
   "metadata": {},
   "source": [
    "# Test PublicUserInfoRequests() Class"
   ]
  },
  {
   "cell_type": "code",
   "execution_count": 10,
   "metadata": {},
   "outputs": [],
   "source": [
    "def test_public_user_info_requests(username):\n",
    "    puir = PublicUserInfoRequests(api,username)\n",
    "    \n",
    "    followers_usernames = puir.get_followers_usernames()\n",
    "    assert(puir.follower_count == len(followers_usernames))\n",
    "    print('Loaded %d follower usernames.'%len(followers_usernames))\n",
    "    print('Peeking at first 3 followers: '+str(followers_usernames[:3]))\n",
    "    print()    \n",
    "    following_usernames = puir.get_following_usernames()\n",
    "    assert(puir.following_count == len(following_usernames))\n",
    "    print('Loaded %d following usernames.'%len(following_usernames))\n",
    "    print('Peeking at first 3 following: '+str(following_usernames[:3]))\n",
    "    print()\n",
    "    user_feed_media_ids = puir.get_user_feed_media_ids()\n",
    "    assert(puir.media_count == len(user_feed_media_ids))\n",
    "    print('Loaded %d media (posts) ids.'%len(user_feed_media_ids))\n",
    "    print('Peeking at first 2 ids: ' + str(user_feed_media_ids[:2]))"
   ]
  },
  {
   "cell_type": "code",
   "execution_count": 11,
   "metadata": {},
   "outputs": [
    {
     "name": "stdout",
     "output_type": "stream",
     "text": [
      "Username: ryanlopezzzz\n",
      "\n",
      "Loaded 636 follower usernames.\n",
      "Peeking at first 3 followers: ['luca.scharrer', 'xubryana', 'c.hirish']\n",
      "\n",
      "Exception: AssertionError, Message: \n",
      "----------------------------------------------------------------------------------------------------\n",
      "Username: ruining99\n",
      "\n",
      "Loaded 384 follower usernames.\n",
      "Peeking at first 3 followers: ['luca.scharrer', 'xubryana', 'c.hirish']\n",
      "\n",
      "Loaded 371 following usernames.\n",
      "Peeking at first 3 following: ['luca.scharrer', 'xubryana', 'c.hirish']\n",
      "\n",
      "Loaded 15 media (posts) ids.\n",
      "Peeking at first 2 ids: ['2601326525749798387_2142436680', '2580166803319609035_2142436680']\n",
      "----------------------------------------------------------------------------------------------------\n",
      "Username: i_am_jorge_murillo\n",
      "\n",
      "Exception: ValueError, Message: Can't get following info from private account.\n",
      "----------------------------------------------------------------------------------------------------\n",
      "Username: cuteanimalzzzz123\n",
      "\n",
      "Exception: ValueError, Message: Strange behavior when requesting your own info, needs further testing.\n",
      "----------------------------------------------------------------------------------------------------\n"
     ]
    }
   ],
   "source": [
    "for username in test_usernames:\n",
    "    print(\"Username: \" + username + '\\n')\n",
    "    try:\n",
    "        test_public_user_info_requests(username)\n",
    "    except Exception as e:\n",
    "        print('Exception: %s, Message: %s'%(type(e).__name__,e))\n",
    "    print(\"-\"*100)"
   ]
  },
  {
   "cell_type": "markdown",
   "metadata": {},
   "source": [
    "# Test MediaInfoRequests() Class\n",
    "Seems there can be an error where it loads less comments than get_comment_count() says there are."
   ]
  },
  {
   "cell_type": "code",
   "execution_count": 12,
   "metadata": {},
   "outputs": [],
   "source": [
    "def test_media_info_requests(username):\n",
    "    #Get user's most recent media id\n",
    "    puir = PublicUserInfoRequests(api,username)\n",
    "    user_feed_media_ids = puir.get_user_feed_media_ids()\n",
    "    most_recent_media_id = user_feed_media_ids[0]\n",
    "    \n",
    "    mir = MediaInfoRequests(api,most_recent_media_id)\n",
    "    print('Comment count: %d'%mir.get_comment_count())\n",
    "    print()                       \n",
    "    comments_text = mir.get_n_comments_text()\n",
    "    print('Loaded %d comments text.'%len(comments_text))\n",
    "    print('Peeking at first 2 comments: '+str(comments_text[:2]))\n",
    "    print()\n",
    "    comment_counter = mir.get_n_comment_count_per_username()\n",
    "    assert(sum(comment_counter.values())==len(comments_text)) \n",
    "    print('Loaded %d (username, comment count) data.'%len(comment_counter))\n",
    "    comment_counter_list = list(comment_counter.items())\n",
    "    print('Peeking at first 2 elements: '+str(comment_counter_list[:2]))"
   ]
  },
  {
   "cell_type": "code",
   "execution_count": 13,
   "metadata": {},
   "outputs": [
    {
     "name": "stdout",
     "output_type": "stream",
     "text": [
      "Testing on ryanlopezzzz's first post: \n",
      "\n",
      "Comment count: 7\n",
      "\n",
      "Exception: Warning, Message: _get_comments_info may not load all comments\n",
      "----------------------------------------------------------------------------------------------------\n",
      "Testing on ruining99's first post: \n",
      "\n",
      "Comment count: 2\n",
      "\n",
      "Exception: Warning, Message: _get_comments_info may not load all comments\n",
      "----------------------------------------------------------------------------------------------------\n",
      "Testing on i_am_jorge_murillo's first post: \n",
      "\n",
      "Exception: ValueError, Message: Can't get following info from private account.\n",
      "----------------------------------------------------------------------------------------------------\n",
      "Testing on cuteanimalzzzz123's first post: \n",
      "\n",
      "Exception: ValueError, Message: Strange behavior when requesting your own info, needs further testing.\n",
      "----------------------------------------------------------------------------------------------------\n"
     ]
    }
   ],
   "source": [
    "for username in test_usernames: #+ large_test_usernames:\n",
    "    print(\"Testing on %s's first post: \\n\"%username)\n",
    "    try:\n",
    "        test_media_info_requests(username)\n",
    "    except Exception as e:\n",
    "        print('Exception: %s, Message: %s'%(type(e).__name__,e))\n",
    "    print(\"-\"*100)"
   ]
  },
  {
   "cell_type": "markdown",
   "metadata": {},
   "source": [
    "# Test InteractWithUsersActions() Class"
   ]
  },
  {
   "cell_type": "code",
   "execution_count": 14,
   "metadata": {},
   "outputs": [],
   "source": [
    "def test_interact_with_users_actions(username):\n",
    "    \"\"\"\n",
    "    Can check by looking onto the Instagram app when function is called\n",
    "    \"\"\"\n",
    "    #Get user's id and oldest media id\n",
    "    puir = PublicUserInfoRequests(api,username)\n",
    "    user_id = puir.user_id\n",
    "    user_feed_media_ids = puir.get_user_feed_media_ids()\n",
    "    oldest_media_id = user_feed_media_ids[-1]\n",
    "    \n",
    "    iwua = InteractWithUsersActions(api)\n",
    "    print('Following user %s...'%username)\n",
    "    iwua.follow_user(user_id)\n",
    "    print('Successfully followed - now sleeping')\n",
    "    time.sleep(30) #can check that this user was followed in this time\n",
    "    print()\n",
    "    print('Unfollowing user')\n",
    "    iwua.unfollow_user(user_id)\n",
    "    print('Successfully unfollowed - now sleeping')\n",
    "    time.sleep(10)\n",
    "    print()\n",
    "    print('Liking %s last media post'%username)\n",
    "    iwua.like_post(oldest_media_id)\n",
    "    print('Successfully liked - now sleeping')\n",
    "    time.sleep(10)\n",
    "    print()\n",
    "    comment = 'Great photo!'\n",
    "    print('Posting comment \\'%s\\' on %s last post'%(comment,username))\n",
    "    iwua.post_comment(oldest_media_id,comment)\n",
    "    print('Successfully posted comment.')"
   ]
  },
  {
   "cell_type": "code",
   "execution_count": 15,
   "metadata": {},
   "outputs": [
    {
     "name": "stdout",
     "output_type": "stream",
     "text": [
      "Testing on user ryanlopezzzz: \n",
      "\n",
      "Following user ryanlopezzzz...\n"
     ]
    },
    {
     "ename": "ClientError",
     "evalue": "Bad Request: feedback_required",
     "output_type": "error",
     "traceback": [
      "\u001b[0;31m---------------------------------------------------------------------------\u001b[0m",
      "\u001b[0;31mHTTPError\u001b[0m                                 Traceback (most recent call last)",
      "\u001b[0;32m~/opt/anaconda3/lib/python3.7/site-packages/instagram_private_api/client.py\u001b[0m in \u001b[0;36m_call_api\u001b[0;34m(self, endpoint, params, query, return_response, unsigned, version)\u001b[0m\n\u001b[1;32m    522\u001b[0m             \u001b[0mself\u001b[0m\u001b[0;34m.\u001b[0m\u001b[0mlogger\u001b[0m\u001b[0;34m.\u001b[0m\u001b[0mdebug\u001b[0m\u001b[0;34m(\u001b[0m\u001b[0;34m'DATA: {0!s}'\u001b[0m\u001b[0;34m.\u001b[0m\u001b[0mformat\u001b[0m\u001b[0;34m(\u001b[0m\u001b[0mdata\u001b[0m\u001b[0;34m)\u001b[0m\u001b[0;34m)\u001b[0m\u001b[0;34m\u001b[0m\u001b[0;34m\u001b[0m\u001b[0m\n\u001b[0;32m--> 523\u001b[0;31m             \u001b[0mresponse\u001b[0m \u001b[0;34m=\u001b[0m \u001b[0mself\u001b[0m\u001b[0;34m.\u001b[0m\u001b[0mopener\u001b[0m\u001b[0;34m.\u001b[0m\u001b[0mopen\u001b[0m\u001b[0;34m(\u001b[0m\u001b[0mreq\u001b[0m\u001b[0;34m,\u001b[0m \u001b[0mtimeout\u001b[0m\u001b[0;34m=\u001b[0m\u001b[0mself\u001b[0m\u001b[0;34m.\u001b[0m\u001b[0mtimeout\u001b[0m\u001b[0;34m)\u001b[0m\u001b[0;34m\u001b[0m\u001b[0;34m\u001b[0m\u001b[0m\n\u001b[0m\u001b[1;32m    524\u001b[0m         \u001b[0;32mexcept\u001b[0m \u001b[0mcompat_urllib_error\u001b[0m\u001b[0;34m.\u001b[0m\u001b[0mHTTPError\u001b[0m \u001b[0;32mas\u001b[0m \u001b[0me\u001b[0m\u001b[0;34m:\u001b[0m\u001b[0;34m\u001b[0m\u001b[0;34m\u001b[0m\u001b[0m\n",
      "\u001b[0;32m~/opt/anaconda3/lib/python3.7/urllib/request.py\u001b[0m in \u001b[0;36mopen\u001b[0;34m(self, fullurl, data, timeout)\u001b[0m\n\u001b[1;32m    530\u001b[0m             \u001b[0mmeth\u001b[0m \u001b[0;34m=\u001b[0m \u001b[0mgetattr\u001b[0m\u001b[0;34m(\u001b[0m\u001b[0mprocessor\u001b[0m\u001b[0;34m,\u001b[0m \u001b[0mmeth_name\u001b[0m\u001b[0;34m)\u001b[0m\u001b[0;34m\u001b[0m\u001b[0;34m\u001b[0m\u001b[0m\n\u001b[0;32m--> 531\u001b[0;31m             \u001b[0mresponse\u001b[0m \u001b[0;34m=\u001b[0m \u001b[0mmeth\u001b[0m\u001b[0;34m(\u001b[0m\u001b[0mreq\u001b[0m\u001b[0;34m,\u001b[0m \u001b[0mresponse\u001b[0m\u001b[0;34m)\u001b[0m\u001b[0;34m\u001b[0m\u001b[0;34m\u001b[0m\u001b[0m\n\u001b[0m\u001b[1;32m    532\u001b[0m \u001b[0;34m\u001b[0m\u001b[0m\n",
      "\u001b[0;32m~/opt/anaconda3/lib/python3.7/urllib/request.py\u001b[0m in \u001b[0;36mhttp_response\u001b[0;34m(self, request, response)\u001b[0m\n\u001b[1;32m    640\u001b[0m             response = self.parent.error(\n\u001b[0;32m--> 641\u001b[0;31m                 'http', request, response, code, msg, hdrs)\n\u001b[0m\u001b[1;32m    642\u001b[0m \u001b[0;34m\u001b[0m\u001b[0m\n",
      "\u001b[0;32m~/opt/anaconda3/lib/python3.7/urllib/request.py\u001b[0m in \u001b[0;36merror\u001b[0;34m(self, proto, *args)\u001b[0m\n\u001b[1;32m    568\u001b[0m             \u001b[0margs\u001b[0m \u001b[0;34m=\u001b[0m \u001b[0;34m(\u001b[0m\u001b[0mdict\u001b[0m\u001b[0;34m,\u001b[0m \u001b[0;34m'default'\u001b[0m\u001b[0;34m,\u001b[0m \u001b[0;34m'http_error_default'\u001b[0m\u001b[0;34m)\u001b[0m \u001b[0;34m+\u001b[0m \u001b[0morig_args\u001b[0m\u001b[0;34m\u001b[0m\u001b[0;34m\u001b[0m\u001b[0m\n\u001b[0;32m--> 569\u001b[0;31m             \u001b[0;32mreturn\u001b[0m \u001b[0mself\u001b[0m\u001b[0;34m.\u001b[0m\u001b[0m_call_chain\u001b[0m\u001b[0;34m(\u001b[0m\u001b[0;34m*\u001b[0m\u001b[0margs\u001b[0m\u001b[0;34m)\u001b[0m\u001b[0;34m\u001b[0m\u001b[0;34m\u001b[0m\u001b[0m\n\u001b[0m\u001b[1;32m    570\u001b[0m \u001b[0;34m\u001b[0m\u001b[0m\n",
      "\u001b[0;32m~/opt/anaconda3/lib/python3.7/urllib/request.py\u001b[0m in \u001b[0;36m_call_chain\u001b[0;34m(self, chain, kind, meth_name, *args)\u001b[0m\n\u001b[1;32m    502\u001b[0m             \u001b[0mfunc\u001b[0m \u001b[0;34m=\u001b[0m \u001b[0mgetattr\u001b[0m\u001b[0;34m(\u001b[0m\u001b[0mhandler\u001b[0m\u001b[0;34m,\u001b[0m \u001b[0mmeth_name\u001b[0m\u001b[0;34m)\u001b[0m\u001b[0;34m\u001b[0m\u001b[0;34m\u001b[0m\u001b[0m\n\u001b[0;32m--> 503\u001b[0;31m             \u001b[0mresult\u001b[0m \u001b[0;34m=\u001b[0m \u001b[0mfunc\u001b[0m\u001b[0;34m(\u001b[0m\u001b[0;34m*\u001b[0m\u001b[0margs\u001b[0m\u001b[0;34m)\u001b[0m\u001b[0;34m\u001b[0m\u001b[0;34m\u001b[0m\u001b[0m\n\u001b[0m\u001b[1;32m    504\u001b[0m             \u001b[0;32mif\u001b[0m \u001b[0mresult\u001b[0m \u001b[0;32mis\u001b[0m \u001b[0;32mnot\u001b[0m \u001b[0;32mNone\u001b[0m\u001b[0;34m:\u001b[0m\u001b[0;34m\u001b[0m\u001b[0;34m\u001b[0m\u001b[0m\n",
      "\u001b[0;32m~/opt/anaconda3/lib/python3.7/urllib/request.py\u001b[0m in \u001b[0;36mhttp_error_default\u001b[0;34m(self, req, fp, code, msg, hdrs)\u001b[0m\n\u001b[1;32m    648\u001b[0m     \u001b[0;32mdef\u001b[0m \u001b[0mhttp_error_default\u001b[0m\u001b[0;34m(\u001b[0m\u001b[0mself\u001b[0m\u001b[0;34m,\u001b[0m \u001b[0mreq\u001b[0m\u001b[0;34m,\u001b[0m \u001b[0mfp\u001b[0m\u001b[0;34m,\u001b[0m \u001b[0mcode\u001b[0m\u001b[0;34m,\u001b[0m \u001b[0mmsg\u001b[0m\u001b[0;34m,\u001b[0m \u001b[0mhdrs\u001b[0m\u001b[0;34m)\u001b[0m\u001b[0;34m:\u001b[0m\u001b[0;34m\u001b[0m\u001b[0;34m\u001b[0m\u001b[0m\n\u001b[0;32m--> 649\u001b[0;31m         \u001b[0;32mraise\u001b[0m \u001b[0mHTTPError\u001b[0m\u001b[0;34m(\u001b[0m\u001b[0mreq\u001b[0m\u001b[0;34m.\u001b[0m\u001b[0mfull_url\u001b[0m\u001b[0;34m,\u001b[0m \u001b[0mcode\u001b[0m\u001b[0;34m,\u001b[0m \u001b[0mmsg\u001b[0m\u001b[0;34m,\u001b[0m \u001b[0mhdrs\u001b[0m\u001b[0;34m,\u001b[0m \u001b[0mfp\u001b[0m\u001b[0;34m)\u001b[0m\u001b[0;34m\u001b[0m\u001b[0;34m\u001b[0m\u001b[0m\n\u001b[0m\u001b[1;32m    650\u001b[0m \u001b[0;34m\u001b[0m\u001b[0m\n",
      "\u001b[0;31mHTTPError\u001b[0m: HTTP Error 400: Bad Request",
      "\nDuring handling of the above exception, another exception occurred:\n",
      "\u001b[0;31mClientError\u001b[0m                               Traceback (most recent call last)",
      "\u001b[0;32m<ipython-input-15-d1da66018efd>\u001b[0m in \u001b[0;36m<module>\u001b[0;34m\u001b[0m\n\u001b[1;32m      1\u001b[0m \u001b[0mtest_actions_username\u001b[0m \u001b[0;34m=\u001b[0m \u001b[0mtest_usernames\u001b[0m\u001b[0;34m[\u001b[0m\u001b[0;36m0\u001b[0m\u001b[0;34m]\u001b[0m\u001b[0;34m\u001b[0m\u001b[0;34m\u001b[0m\u001b[0m\n\u001b[1;32m      2\u001b[0m \u001b[0mprint\u001b[0m\u001b[0;34m(\u001b[0m\u001b[0;34m'Testing on user %s: \\n'\u001b[0m\u001b[0;34m%\u001b[0m\u001b[0mtest_actions_username\u001b[0m\u001b[0;34m)\u001b[0m\u001b[0;34m\u001b[0m\u001b[0;34m\u001b[0m\u001b[0m\n\u001b[0;32m----> 3\u001b[0;31m \u001b[0mtest_interact_with_users_actions\u001b[0m\u001b[0;34m(\u001b[0m\u001b[0mtest_actions_username\u001b[0m\u001b[0;34m)\u001b[0m\u001b[0;34m\u001b[0m\u001b[0;34m\u001b[0m\u001b[0m\n\u001b[0m",
      "\u001b[0;32m<ipython-input-14-5446e1da6d99>\u001b[0m in \u001b[0;36mtest_interact_with_users_actions\u001b[0;34m(username)\u001b[0m\n\u001b[1;32m     11\u001b[0m     \u001b[0miwua\u001b[0m \u001b[0;34m=\u001b[0m \u001b[0mInteractWithUsersActions\u001b[0m\u001b[0;34m(\u001b[0m\u001b[0mapi\u001b[0m\u001b[0;34m)\u001b[0m\u001b[0;34m\u001b[0m\u001b[0;34m\u001b[0m\u001b[0m\n\u001b[1;32m     12\u001b[0m     \u001b[0mprint\u001b[0m\u001b[0;34m(\u001b[0m\u001b[0;34m'Following user %s...'\u001b[0m\u001b[0;34m%\u001b[0m\u001b[0musername\u001b[0m\u001b[0;34m)\u001b[0m\u001b[0;34m\u001b[0m\u001b[0;34m\u001b[0m\u001b[0m\n\u001b[0;32m---> 13\u001b[0;31m     \u001b[0miwua\u001b[0m\u001b[0;34m.\u001b[0m\u001b[0mfollow_user\u001b[0m\u001b[0;34m(\u001b[0m\u001b[0muser_id\u001b[0m\u001b[0;34m)\u001b[0m\u001b[0;34m\u001b[0m\u001b[0;34m\u001b[0m\u001b[0m\n\u001b[0m\u001b[1;32m     14\u001b[0m     \u001b[0mprint\u001b[0m\u001b[0;34m(\u001b[0m\u001b[0;34m'Successfully followed - now sleeping'\u001b[0m\u001b[0;34m)\u001b[0m\u001b[0;34m\u001b[0m\u001b[0;34m\u001b[0m\u001b[0m\n\u001b[1;32m     15\u001b[0m     \u001b[0mtime\u001b[0m\u001b[0;34m.\u001b[0m\u001b[0msleep\u001b[0m\u001b[0;34m(\u001b[0m\u001b[0;36m30\u001b[0m\u001b[0;34m)\u001b[0m \u001b[0;31m#can check that this user was followed in this time\u001b[0m\u001b[0;34m\u001b[0m\u001b[0;34m\u001b[0m\u001b[0m\n",
      "\u001b[0;32m~/Desktop/Python_Programs/instagram-bot/instagram_api/api_requests.py\u001b[0m in \u001b[0;36mfollow_user\u001b[0;34m(self, user_id)\u001b[0m\n\u001b[1;32m    110\u001b[0m \u001b[0;34m\u001b[0m\u001b[0m\n\u001b[1;32m    111\u001b[0m     \u001b[0;32mdef\u001b[0m \u001b[0mfollow_user\u001b[0m\u001b[0;34m(\u001b[0m\u001b[0mself\u001b[0m\u001b[0;34m,\u001b[0m \u001b[0muser_id\u001b[0m\u001b[0;34m)\u001b[0m\u001b[0;34m:\u001b[0m\u001b[0;34m\u001b[0m\u001b[0;34m\u001b[0m\u001b[0m\n\u001b[0;32m--> 112\u001b[0;31m         \u001b[0mself\u001b[0m\u001b[0;34m.\u001b[0m\u001b[0mapi\u001b[0m\u001b[0;34m.\u001b[0m\u001b[0mfriendships_create\u001b[0m\u001b[0;34m(\u001b[0m\u001b[0muser_id\u001b[0m\u001b[0;34m)\u001b[0m\u001b[0;34m\u001b[0m\u001b[0;34m\u001b[0m\u001b[0m\n\u001b[0m\u001b[1;32m    113\u001b[0m \u001b[0;34m\u001b[0m\u001b[0m\n\u001b[1;32m    114\u001b[0m     \u001b[0;32mdef\u001b[0m \u001b[0munfollow_user\u001b[0m\u001b[0;34m(\u001b[0m\u001b[0mself\u001b[0m\u001b[0;34m,\u001b[0m \u001b[0muser_id\u001b[0m\u001b[0;34m)\u001b[0m\u001b[0;34m:\u001b[0m\u001b[0;34m\u001b[0m\u001b[0;34m\u001b[0m\u001b[0m\n",
      "\u001b[0;32m~/opt/anaconda3/lib/python3.7/site-packages/instagram_private_api/endpoints/friendships.py\u001b[0m in \u001b[0;36mfriendships_create\u001b[0;34m(self, user_id)\u001b[0m\n\u001b[1;32m    155\u001b[0m         \u001b[0mparams\u001b[0m \u001b[0;34m=\u001b[0m \u001b[0;34m{\u001b[0m\u001b[0;34m'user_id'\u001b[0m\u001b[0;34m:\u001b[0m \u001b[0muser_id\u001b[0m\u001b[0;34m,\u001b[0m \u001b[0;34m'radio_type'\u001b[0m\u001b[0;34m:\u001b[0m \u001b[0mself\u001b[0m\u001b[0;34m.\u001b[0m\u001b[0mradio_type\u001b[0m\u001b[0;34m}\u001b[0m\u001b[0;34m\u001b[0m\u001b[0;34m\u001b[0m\u001b[0m\n\u001b[1;32m    156\u001b[0m         \u001b[0mparams\u001b[0m\u001b[0;34m.\u001b[0m\u001b[0mupdate\u001b[0m\u001b[0;34m(\u001b[0m\u001b[0mself\u001b[0m\u001b[0;34m.\u001b[0m\u001b[0mauthenticated_params\u001b[0m\u001b[0;34m)\u001b[0m\u001b[0;34m\u001b[0m\u001b[0;34m\u001b[0m\u001b[0m\n\u001b[0;32m--> 157\u001b[0;31m         \u001b[0mres\u001b[0m \u001b[0;34m=\u001b[0m \u001b[0mself\u001b[0m\u001b[0;34m.\u001b[0m\u001b[0m_call_api\u001b[0m\u001b[0;34m(\u001b[0m\u001b[0mendpoint\u001b[0m\u001b[0;34m,\u001b[0m \u001b[0mparams\u001b[0m\u001b[0;34m=\u001b[0m\u001b[0mparams\u001b[0m\u001b[0;34m)\u001b[0m\u001b[0;34m\u001b[0m\u001b[0;34m\u001b[0m\u001b[0m\n\u001b[0m\u001b[1;32m    158\u001b[0m         \u001b[0;32mreturn\u001b[0m \u001b[0mres\u001b[0m\u001b[0;34m\u001b[0m\u001b[0;34m\u001b[0m\u001b[0m\n\u001b[1;32m    159\u001b[0m \u001b[0;34m\u001b[0m\u001b[0m\n",
      "\u001b[0;32m~/Desktop/Python_Programs/instagram-bot/instagram_api/safe_api.py\u001b[0m in \u001b[0;36m_call_api\u001b[0;34m(self, *args, **kwargs)\u001b[0m\n\u001b[1;32m     72\u001b[0m         \u001b[0mself\u001b[0m\u001b[0;34m.\u001b[0m\u001b[0m_check_reached_api_limit\u001b[0m\u001b[0;34m(\u001b[0m\u001b[0mapi_calls_in_seconds\u001b[0m\u001b[0;34m)\u001b[0m\u001b[0;34m\u001b[0m\u001b[0;34m\u001b[0m\u001b[0m\n\u001b[1;32m     73\u001b[0m         \u001b[0mself\u001b[0m\u001b[0;34m.\u001b[0m\u001b[0m_update_api_call_times\u001b[0m\u001b[0;34m(\u001b[0m\u001b[0mapi_calls_in_seconds\u001b[0m\u001b[0;34m)\u001b[0m\u001b[0;34m\u001b[0m\u001b[0;34m\u001b[0m\u001b[0m\n\u001b[0;32m---> 74\u001b[0;31m         \u001b[0;32mreturn\u001b[0m \u001b[0msuper\u001b[0m\u001b[0;34m(\u001b[0m\u001b[0;34m)\u001b[0m\u001b[0;34m.\u001b[0m\u001b[0m_call_api\u001b[0m\u001b[0;34m(\u001b[0m\u001b[0;34m*\u001b[0m\u001b[0margs\u001b[0m\u001b[0;34m,\u001b[0m \u001b[0;34m**\u001b[0m\u001b[0mkwargs\u001b[0m\u001b[0;34m)\u001b[0m\u001b[0;34m\u001b[0m\u001b[0;34m\u001b[0m\u001b[0m\n\u001b[0m\u001b[1;32m     75\u001b[0m \u001b[0;34m\u001b[0m\u001b[0m\n\u001b[1;32m     76\u001b[0m     \u001b[0;32mdef\u001b[0m \u001b[0m_api_sleep\u001b[0m\u001b[0;34m(\u001b[0m\u001b[0mself\u001b[0m\u001b[0;34m)\u001b[0m\u001b[0;34m:\u001b[0m\u001b[0;34m\u001b[0m\u001b[0;34m\u001b[0m\u001b[0m\n",
      "\u001b[0;32m~/opt/anaconda3/lib/python3.7/site-packages/instagram_private_api/client.py\u001b[0m in \u001b[0;36m_call_api\u001b[0;34m(self, endpoint, params, query, return_response, unsigned, version)\u001b[0m\n\u001b[1;32m    525\u001b[0m             \u001b[0merror_response\u001b[0m \u001b[0;34m=\u001b[0m \u001b[0mself\u001b[0m\u001b[0;34m.\u001b[0m\u001b[0m_read_response\u001b[0m\u001b[0;34m(\u001b[0m\u001b[0me\u001b[0m\u001b[0;34m)\u001b[0m\u001b[0;34m\u001b[0m\u001b[0;34m\u001b[0m\u001b[0m\n\u001b[1;32m    526\u001b[0m             \u001b[0mself\u001b[0m\u001b[0;34m.\u001b[0m\u001b[0mlogger\u001b[0m\u001b[0;34m.\u001b[0m\u001b[0mdebug\u001b[0m\u001b[0;34m(\u001b[0m\u001b[0;34m'RESPONSE: {0:d} {1!s}'\u001b[0m\u001b[0;34m.\u001b[0m\u001b[0mformat\u001b[0m\u001b[0;34m(\u001b[0m\u001b[0me\u001b[0m\u001b[0;34m.\u001b[0m\u001b[0mcode\u001b[0m\u001b[0;34m,\u001b[0m \u001b[0merror_response\u001b[0m\u001b[0;34m)\u001b[0m\u001b[0;34m)\u001b[0m\u001b[0;34m\u001b[0m\u001b[0;34m\u001b[0m\u001b[0m\n\u001b[0;32m--> 527\u001b[0;31m             \u001b[0mErrorHandler\u001b[0m\u001b[0;34m.\u001b[0m\u001b[0mprocess\u001b[0m\u001b[0;34m(\u001b[0m\u001b[0me\u001b[0m\u001b[0;34m,\u001b[0m \u001b[0merror_response\u001b[0m\u001b[0;34m)\u001b[0m\u001b[0;34m\u001b[0m\u001b[0;34m\u001b[0m\u001b[0m\n\u001b[0m\u001b[1;32m    528\u001b[0m \u001b[0;34m\u001b[0m\u001b[0m\n\u001b[1;32m    529\u001b[0m         except (SSLError, timeout, SocketError,\n",
      "\u001b[0;32m~/opt/anaconda3/lib/python3.7/site-packages/instagram_private_api/errors.py\u001b[0m in \u001b[0;36mprocess\u001b[0;34m(http_error, error_response)\u001b[0m\n\u001b[1;32m    133\u001b[0m             \u001b[0mlogger\u001b[0m\u001b[0;34m.\u001b[0m\u001b[0mwarning\u001b[0m\u001b[0;34m(\u001b[0m\u001b[0;34m'Error parsing error response: {}'\u001b[0m\u001b[0;34m.\u001b[0m\u001b[0mformat\u001b[0m\u001b[0;34m(\u001b[0m\u001b[0mstr\u001b[0m\u001b[0;34m(\u001b[0m\u001b[0mve\u001b[0m\u001b[0;34m)\u001b[0m\u001b[0;34m)\u001b[0m\u001b[0;34m)\u001b[0m\u001b[0;34m\u001b[0m\u001b[0;34m\u001b[0m\u001b[0m\n\u001b[1;32m    134\u001b[0m \u001b[0;34m\u001b[0m\u001b[0m\n\u001b[0;32m--> 135\u001b[0;31m         \u001b[0;32mraise\u001b[0m \u001b[0mClientError\u001b[0m\u001b[0;34m(\u001b[0m\u001b[0merror_msg\u001b[0m\u001b[0;34m,\u001b[0m \u001b[0mhttp_error\u001b[0m\u001b[0;34m.\u001b[0m\u001b[0mcode\u001b[0m\u001b[0;34m,\u001b[0m \u001b[0merror_response\u001b[0m\u001b[0;34m)\u001b[0m\u001b[0;34m\u001b[0m\u001b[0;34m\u001b[0m\u001b[0m\n\u001b[0m",
      "\u001b[0;31mClientError\u001b[0m: Bad Request: feedback_required"
     ]
    }
   ],
   "source": [
    "test_actions_username = test_usernames[0]\n",
    "print('Testing on user %s: \\n'%test_actions_username)\n",
    "test_interact_with_users_actions(test_actions_username)"
   ]
  },
  {
   "cell_type": "markdown",
   "metadata": {},
   "source": [
    "# Below is Uncompleted Code"
   ]
  },
  {
   "cell_type": "code",
   "execution_count": null,
   "metadata": {},
   "outputs": [],
   "source": [
    "rank_token = api.generate_uuid()"
   ]
  },
  {
   "cell_type": "code",
   "execution_count": null,
   "metadata": {},
   "outputs": [],
   "source": [
    "loaded_feed = api.feed_tag('banngood', rank_token)"
   ]
  },
  {
   "cell_type": "code",
   "execution_count": null,
   "metadata": {},
   "outputs": [],
   "source": [
    "for key, value in loaded_feed.items():\n",
    "    print(key)\n",
    "    print(value)\n",
    "    print('-'*80)"
   ]
  },
  {
   "cell_type": "code",
   "execution_count": null,
   "metadata": {
    "scrolled": true
   },
   "outputs": [],
   "source": [
    "print(len(loaded_feed['items']))\n",
    "print(loaded_feed['items'][0])"
   ]
  },
  {
   "cell_type": "code",
   "execution_count": null,
   "metadata": {},
   "outputs": [],
   "source": [
    "for key, value in loaded_feed['items'][0].items():\n",
    "    print(key)\n",
    "    print(value)\n",
    "    print('-'*80)"
   ]
  },
  {
   "cell_type": "code",
   "execution_count": null,
   "metadata": {},
   "outputs": [],
   "source": [
    "post_number = 2\n",
    "print('Username:')\n",
    "print(loaded_feed['items'][post_number]['user']['username'])"
   ]
  }
 ],
 "metadata": {
  "kernelspec": {
   "display_name": "Python 3",
   "language": "python",
   "name": "python3"
  },
  "language_info": {
   "codemirror_mode": {
    "name": "ipython",
    "version": 3
   },
   "file_extension": ".py",
   "mimetype": "text/x-python",
   "name": "python",
   "nbconvert_exporter": "python",
   "pygments_lexer": "ipython3",
   "version": "3.7.4"
  }
 },
 "nbformat": 4,
 "nbformat_minor": 2
}
